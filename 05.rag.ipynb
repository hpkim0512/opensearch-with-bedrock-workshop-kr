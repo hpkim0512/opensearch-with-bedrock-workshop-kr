{
 "cells": [
  {
   "cell_type": "markdown",
   "metadata": {},
   "source": [
    "# RAG\n"
   ]
  },
  {
   "cell_type": "markdown",
   "metadata": {},
   "source": [
    "# Overview\n",
    "\n",
    "검색 증강 생성(Retrieval Augmented Generation)은 대규모 언어 모델이 지식을 생성할 때 외부 지식원을 활용하는 기술을 말합니다.\n",
    "\n",
    "쉽게 설명하자면, 언어 모델이 문장을 생성할 때 관련된 정보를 인터넷이나 데이터베이스에서 찾아 활용하는 것입니다. 이렇게 하면 모델이 가진 지식의 한계를 넘어 더 정확하고 상세한 내용을 생성할 수 있습니다.\n",
    "\n",
    "예를 들어 \"파리의 인구는 얼마인가?\"라는 질문에 대해, 모델은 위키피디아 등에서 파리 인구 통계를 찾아 그 정보를 활용하여 대답할 수 있습니다. 단순히 학습된 지식만으로는 정확한 최신 정보를 제공하기 어렵지만, 외부 지식원을 참고하면 더 나은 결과를 낼 수 있습니다.\n",
    "\n",
    "이 과정에서는 앞서 생성한 `movie_semantic` 인덱스를 Knowledge Base로 Amazon Bedrock의 Claude V3 Sonnet 모델을 사용하여 환각을 제거하고 정확한 답변을 생성해봅니다.\n"
   ]
  },
  {
   "cell_type": "markdown",
   "metadata": {},
   "source": [
    "# 사전준비\n",
    "\n",
    "이번 단계를 진행하기 위해서는 [시맨틱 검색 단계](./02.semantic_search.ipynb)를 필수적으로 완료하셔야 합니다. Amazon OpenSearch Service로의 연결은 [시맨틱 검색 단계](./02.semantic_search.ipynb)와 동일하게 수행합니다.\n"
   ]
  },
  {
   "cell_type": "code",
   "execution_count": 1,
   "metadata": {},
   "outputs": [],
   "source": [
    "%store -r model_id\n",
    "%store -r index_name"
   ]
  },
  {
   "cell_type": "markdown",
   "metadata": {},
   "source": [
    "패키지를 설치합니다.\n"
   ]
  },
  {
   "cell_type": "markdown",
   "metadata": {},
   "source": [
    "## 환각 발생시키기\n",
    "\n",
    "RAG를 구성하지 않고 바로 Amazon Bedrock Claude Sonnet V3에게 다음과 같은 질문을 던져 봅니다.\n"
   ]
  },
  {
   "cell_type": "code",
   "execution_count": 6,
   "metadata": {},
   "outputs": [],
   "source": [
    "import textwrap"
   ]
  },
  {
   "cell_type": "code",
   "execution_count": 3,
   "metadata": {},
   "outputs": [
    {
     "name": "stdout",
     "output_type": "stream",
     "text": [
      "건축학개론 내용과 평점은?\n"
     ]
    }
   ],
   "source": [
    "query_text = \"건축학개론 내용과 평점은?\"\n",
    "print(query_text)"
   ]
  },
  {
   "cell_type": "code",
   "execution_count": 2,
   "metadata": {},
   "outputs": [],
   "source": [
    "import os\n",
    "from dotenv import dotenv_values\n",
    "\n",
    "env_vars = dotenv_values('.env_api')\n",
    "os.environ[\"OPENAI_API_KEY\"] = env_vars.get(\"OPENAI_API_KEY\")"
   ]
  },
  {
   "cell_type": "code",
   "execution_count": 9,
   "metadata": {},
   "outputs": [
    {
     "data": {
      "text/plain": [
       "<ipykernel.iostream.OutStream at 0x7811f7376bc0>"
      ]
     },
     "execution_count": 9,
     "metadata": {},
     "output_type": "execute_result"
    }
   ],
   "source": [
    "import sys\n",
    "\n",
    "sys.stdout"
   ]
  },
  {
   "cell_type": "code",
   "execution_count": 8,
   "metadata": {},
   "outputs": [
    {
     "name": "stdout",
     "output_type": "stream",
     "text": [
      "《건축학개론》은 2012년에 개봉한 한국의 로맨스 드라마 영화로, 감독은 이재규입니다. 이 영화는 건축학과 학생들의 첫사랑과 성장 이야기를\n",
      "중심으로 전개됩니다. 주인공인 남자와 여자는 대학 시절 서로에게 끌리지만, 여러 가지 이유로 사랑이 이루어지지 못하고 시간이 흐른 후 다시\n",
      "만나는 이야기를 담고 있습니다.  영화는 감성적인 스토리와 아름다운 영상미로 많은 관객들에게 사랑받았으며, 특히 첫사랑의 아련한 감정을 잘\n",
      "표현했다는 평가를 받았습니다.   평점은 다양한 플랫폼에서 다르게 나타날 수 있지만, 일반적으로 7점대에서 8점대의 평점을 기록하고 있습니다.\n",
      "관객과 평론가들 모두에게 긍정적인 반응을 얻은 작품입니다.   더 구체적인 평점이나 리뷰는 영화 관련 사이트에서 확인하실 수 있습니다.\n"
     ]
    }
   ],
   "source": [
    "from langchain_openai import ChatOpenAI\n",
    "from langchain_core.messages import HumanMessage\n",
    "\n",
    "llm = ChatOpenAI(\n",
    "    model_name='gpt-4o-mini-2024-07-18',\n",
    "    max_tokens=2048,\n",
    "    temperature=0,\n",
    "    streaming=True,\n",
    ")\n",
    "\n",
    "messages = [HumanMessage(content=query_text)]\n",
    "\n",
    "print(textwrap.fill(llm.invoke(messages).content, 80))"
   ]
  },
  {
   "cell_type": "markdown",
   "metadata": {},
   "source": [
    "gpt-4o-mini는 한국 영화 건축학 개론에 대한 답을 모르기 때문에 엉뚱한 답변을 하게 됩니다.\n"
   ]
  },
  {
   "cell_type": "markdown",
   "metadata": {},
   "source": [
    "## RAG을 통해 환각 없애기\n"
   ]
  },
  {
   "cell_type": "markdown",
   "metadata": {},
   "source": [
    "이제 OpenSearch에 저장된 정보를 컨텍스트로 전달하여 환각을 없애보겠습니다. 여기서는 이전 단계에서 사용한 [하이브리드 검색 기법](./03.hybrid_search.ipynb)을 활용해보도록 하겠습니다\n"
   ]
  },
  {
   "cell_type": "markdown",
   "metadata": {},
   "source": [
    "## OpenSearch 클라이언트 연결\n"
   ]
  },
  {
   "cell_type": "markdown",
   "metadata": {},
   "source": [
    "이전 과정에서 수행했던 것과 동일한 방법으로 OpenSearch 도메인에 연결합니다.\n"
   ]
  },
  {
   "cell_type": "markdown",
   "metadata": {},
   "source": [
    "가져온 정보를 바탕으로 OpenSearch 도메인에 연결합니다.\n"
   ]
  },
  {
   "cell_type": "code",
   "execution_count": 10,
   "metadata": {},
   "outputs": [],
   "source": [
    "from opensearchpy import OpenSearch, RequestsHttpConnection\n",
    "import json\n",
    "\n",
    "# OpenSearch 연결 설정\n",
    "base_url = \"https://localhost:9200/_plugins/_ml\"\n",
    "host = 'localhost'\n",
    "port = 9200\n",
    "auth = ('admin', 'TestUser2@')  # 초기 설정한 어드민 비밀번호 사용\n",
    "\n",
    "aos_client = OpenSearch(\n",
    "    hosts=[{'host': host, 'port': port}],\n",
    "    http_auth=auth,\n",
    "    use_ssl=True,\n",
    "    verify_certs=False,\n",
    "    ssl_show_warn=False,\n",
    ")"
   ]
  },
  {
   "cell_type": "markdown",
   "metadata": {},
   "source": [
    "인덱스명과 모델 아이디를 설정합니다.\n"
   ]
  },
  {
   "cell_type": "code",
   "execution_count": null,
   "metadata": {},
   "outputs": [],
   "source": [
    "import requests\n",
    "\n",
    "# search_model = {\"query\": {\"match\": {\"name\": \"OpenSearch-Cohere\"}}, \"size\": 10}\n",
    "\n",
    "# response = requests.get(\n",
    "#     \"https://\" + aos_host + \"/_plugins/_ml/models/_search\", auth=auth, json=search_model\n",
    "# )\n",
    "# model_info = json.loads(response.text)\n",
    "# model_id = model_info[\"hits\"][\"hits\"][0][\"_id\"]\n",
    "\n",
    "# index_name = \"movie_semantic\""
   ]
  },
  {
   "cell_type": "markdown",
   "metadata": {},
   "source": [
    "## 하이브리드 검색 함수 구현\n",
    "\n",
    "이전 [하이브리드 검색 단계](https://www.notion.so/Hybrid-Search-9b923c1a7b2e4d1697768c3385ea47d0?pvs=21)에서 사용한 `hybrid_search` 함수를 다음과 같이 변경합니다. 가장 큰 변경 부분은 검색된 결과를 LangChain의 Document 객체로 변환해서 반환한다는 점입니다. 이렇게 생성된 **`Document`** 객체들을 기반으로 LangChain은 다양한 작업을 수행할 수 있습니다.\n"
   ]
  },
  {
   "cell_type": "code",
   "execution_count": 11,
   "metadata": {},
   "outputs": [],
   "source": [
    "from langchain.schema import Document\n",
    "import pandas as pd\n",
    "\n",
    "\n",
    "def hybrid_search(\n",
    "    query_text,\n",
    "    keyword_weight=0.3,\n",
    "    semantic_weight=0.7,\n",
    "):\n",
    "    print(query_text)\n",
    "    query = {\n",
    "        \"size\": 10,\n",
    "        \"_source\": {\"exclude\": [\"text\", \"vector_field\"]},\n",
    "        \"query\": {\n",
    "            \"hybrid\": {\n",
    "                \"queries\": [\n",
    "                    {\n",
    "                        \"multi_match\": {\n",
    "                            \"query\": query_text,\n",
    "                            \"fields\": [\"title\", \"plot\", \"genre\", \"main_act\", \"supp_act\"],\n",
    "                        }\n",
    "                    },\n",
    "                    {\n",
    "                        \"neural\": {\n",
    "                            \"vector_field\": {\n",
    "                                \"query_text\": query_text,\n",
    "                                \"model_id\": model_id,\n",
    "                                \"k\": 30,\n",
    "                            }\n",
    "                        }\n",
    "                    },\n",
    "                ]\n",
    "            }\n",
    "        },\n",
    "        \"search_pipeline\": {\n",
    "            \"description\": \"Post processor for hybrid search\",\n",
    "            \"phase_results_processors\": [\n",
    "                {\n",
    "                    \"normalization-processor\": {\n",
    "                        \"normalization\": {\"technique\": \"min_max\"},\n",
    "                        \"combination\": {\n",
    "                            \"technique\": \"arithmetic_mean\",\n",
    "                            \"parameters\": {\"weights\": [keyword_weight, semantic_weight]},\n",
    "                        },\n",
    "                    }\n",
    "                }\n",
    "            ],\n",
    "        },\n",
    "    }\n",
    "\n",
    "    res = aos_client.search(index=index_name, body=query)\n",
    "\n",
    "    query_result = []\n",
    "    docs = []\n",
    "    for hit in res[\"hits\"][\"hits\"]:\n",
    "        row = [\n",
    "            hit[\"_score\"],\n",
    "            hit[\"_source\"][\"title\"],\n",
    "            hit[\"_source\"][\"plot\"],\n",
    "            hit[\"_source\"][\"genre\"],\n",
    "            hit[\"_source\"][\"rating\"],\n",
    "            hit[\"_source\"][\"main_act\"],\n",
    "        ]\n",
    "        query_result.append(row)\n",
    "\n",
    "        # LangChain에 Context로 제공하기 위한 Document 객체를 준비합니다.\n",
    "        metadata = {\"score\": hit[\"_score\"], \"id\": hit[\"_id\"]}\n",
    "\n",
    "        content = {\n",
    "            \"제목\": hit[\"_source\"][\"title\"],\n",
    "            \"장르\": hit[\"_source\"][\"genre\"],\n",
    "            \"평점\": hit[\"_source\"][\"rating\"],\n",
    "            \"줄거리\": hit[\"_source\"][\"plot\"],\n",
    "            \"주연\": hit[\"_source\"][\"main_act\"],\n",
    "            \"조연\": hit[\"_source\"][\"supp_act\"],\n",
    "        }\n",
    "\n",
    "        doc = Document(page_content=json.dumps(content, ensure_ascii=False), metadata=metadata)\n",
    "\n",
    "        docs.append(doc)\n",
    "\n",
    "    query_result_df = pd.DataFrame(\n",
    "        data=query_result, columns=[\"_score\", \"title\", \"plot\", \"genre\", \"rating\", \"main_act\"]\n",
    "    )\n",
    "    display(query_result_df)\n",
    "\n",
    "    return docs"
   ]
  },
  {
   "cell_type": "markdown",
   "metadata": {},
   "source": [
    "검색 함수가 잘 동작하는지 확인합니다.\n"
   ]
  },
  {
   "cell_type": "code",
   "execution_count": 12,
   "metadata": {},
   "outputs": [
    {
     "name": "stdout",
     "output_type": "stream",
     "text": [
      "건축학개론 내용과 평점은?\n"
     ]
    },
    {
     "data": {
      "text/html": [
       "<div>\n",
       "<style scoped>\n",
       "    .dataframe tbody tr th:only-of-type {\n",
       "        vertical-align: middle;\n",
       "    }\n",
       "\n",
       "    .dataframe tbody tr th {\n",
       "        vertical-align: top;\n",
       "    }\n",
       "\n",
       "    .dataframe thead th {\n",
       "        text-align: right;\n",
       "    }\n",
       "</style>\n",
       "<table border=\"1\" class=\"dataframe\">\n",
       "  <thead>\n",
       "    <tr style=\"text-align: right;\">\n",
       "      <th></th>\n",
       "      <th>_score</th>\n",
       "      <th>title</th>\n",
       "      <th>plot</th>\n",
       "      <th>genre</th>\n",
       "      <th>rating</th>\n",
       "      <th>main_act</th>\n",
       "    </tr>\n",
       "  </thead>\n",
       "  <tbody>\n",
       "    <tr>\n",
       "      <th>0</th>\n",
       "      <td>1.000000</td>\n",
       "      <td>건축학개론</td>\n",
       "      <td>생기 넘치지만 숫기 없던 스무 살, 건축학과 승민은 '건축학개론' 수업에서 처음 만...</td>\n",
       "      <td>멜로/로맨스</td>\n",
       "      <td>8.67</td>\n",
       "      <td>엄태웅|한가인|이제훈|수지</td>\n",
       "    </tr>\n",
       "    <tr>\n",
       "      <th>1</th>\n",
       "      <td>0.220972</td>\n",
       "      <td>투사부일체</td>\n",
       "      <td>5년 전, 조폭의 신분으로 고등학교에 입학. 학교를 발칵 뒤집어 놓은 계두식이, 이...</td>\n",
       "      <td>코미디|액션</td>\n",
       "      <td>5.59</td>\n",
       "      <td>정준호|김상중|정웅인|정운택</td>\n",
       "    </tr>\n",
       "    <tr>\n",
       "      <th>2</th>\n",
       "      <td>0.202281</td>\n",
       "      <td>임금님의 사건수첩</td>\n",
       "      <td>모든 사건은 직접 파헤쳐야 직성이 풀리는 총명한 왕 ‘예종’(이선균). 그를 보좌하...</td>\n",
       "      <td>코미디|모험|액션</td>\n",
       "      <td>7.71</td>\n",
       "      <td>이선균|안재홍</td>\n",
       "    </tr>\n",
       "    <tr>\n",
       "      <th>3</th>\n",
       "      <td>0.137774</td>\n",
       "      <td>강철중: 공공의 적 1-1</td>\n",
       "      <td>강동서 강력반 꼴통 형사 강철중(설경구). 5년이 지난 지금도 여전히 사건 현장을 ...</td>\n",
       "      <td>범죄|스릴러|코미디|드라마|액션</td>\n",
       "      <td>8.53</td>\n",
       "      <td>설경구|정재영</td>\n",
       "    </tr>\n",
       "    <tr>\n",
       "      <th>4</th>\n",
       "      <td>0.094635</td>\n",
       "      <td>지구를 지켜라!</td>\n",
       "      <td>병구는 외계인으로 인해 지구가 곧 위험에 처할 거라고 믿는다. 이번 개기월식까지 안...</td>\n",
       "      <td>SF|스릴러</td>\n",
       "      <td>8.85</td>\n",
       "      <td>신하균|백윤식</td>\n",
       "    </tr>\n",
       "    <tr>\n",
       "      <th>5</th>\n",
       "      <td>0.087059</td>\n",
       "      <td>한반도</td>\n",
       "      <td>남과 북이 통일을 약속하고 그 첫 상징인 경의선 철도 완전 개통식을 추진한다. 그러...</td>\n",
       "      <td>드라마|액션|스릴러</td>\n",
       "      <td>6.36</td>\n",
       "      <td>조재현|차인표|안성기|문성근|강신일</td>\n",
       "    </tr>\n",
       "    <tr>\n",
       "      <th>6</th>\n",
       "      <td>0.075363</td>\n",
       "      <td>고사: 피의 중간고사</td>\n",
       "      <td>수능을 약 2 여일 앞둔 어느 토요일, 전교 1등부터 2 등까지의 모범생들만을 위한...</td>\n",
       "      <td>공포|스릴러</td>\n",
       "      <td>6.82</td>\n",
       "      <td>이범수|윤정희|남규리|김범</td>\n",
       "    </tr>\n",
       "    <tr>\n",
       "      <th>7</th>\n",
       "      <td>0.075048</td>\n",
       "      <td>기담</td>\n",
       "      <td>동경 유학 중이던 엘리트 의사 부부 인영(김보경)과 동원(김태우)은 갑작스레 귀국하...</td>\n",
       "      <td>공포</td>\n",
       "      <td>7.48</td>\n",
       "      <td>진구|이동규|김태우|김보경</td>\n",
       "    </tr>\n",
       "    <tr>\n",
       "      <th>8</th>\n",
       "      <td>0.055312</td>\n",
       "      <td>울학교 이티</td>\n",
       "      <td>옹골찬 근육으로 다져진 특 1등급 건강인을 자부하는 천성근, 그는 우리나라 최고의 ...</td>\n",
       "      <td>코미디|드라마</td>\n",
       "      <td>8.99</td>\n",
       "      <td>김수로|이한위|백성현|박보영|이민호|문채원|이찬호|김성령</td>\n",
       "    </tr>\n",
       "    <tr>\n",
       "      <th>9</th>\n",
       "      <td>0.000700</td>\n",
       "      <td>작업의 정석</td>\n",
       "      <td>작업계의 대표선수 민준과 지원이 만났다. 선수는 선수를 알아보는 법! 작업계의 고수...</td>\n",
       "      <td>코미디|멜로/로맨스</td>\n",
       "      <td>6.53</td>\n",
       "      <td>손예진|송일국</td>\n",
       "    </tr>\n",
       "  </tbody>\n",
       "</table>\n",
       "</div>"
      ],
      "text/plain": [
       "     _score           title  \\\n",
       "0  1.000000           건축학개론   \n",
       "1  0.220972           투사부일체   \n",
       "2  0.202281       임금님의 사건수첩   \n",
       "3  0.137774  강철중: 공공의 적 1-1   \n",
       "4  0.094635        지구를 지켜라!   \n",
       "5  0.087059             한반도   \n",
       "6  0.075363     고사: 피의 중간고사   \n",
       "7  0.075048              기담   \n",
       "8  0.055312          울학교 이티   \n",
       "9  0.000700          작업의 정석   \n",
       "\n",
       "                                                plot              genre  \\\n",
       "0  생기 넘치지만 숫기 없던 스무 살, 건축학과 승민은 '건축학개론' 수업에서 처음 만...             멜로/로맨스   \n",
       "1  5년 전, 조폭의 신분으로 고등학교에 입학. 학교를 발칵 뒤집어 놓은 계두식이, 이...             코미디|액션   \n",
       "2  모든 사건은 직접 파헤쳐야 직성이 풀리는 총명한 왕 ‘예종’(이선균). 그를 보좌하...          코미디|모험|액션   \n",
       "3  강동서 강력반 꼴통 형사 강철중(설경구). 5년이 지난 지금도 여전히 사건 현장을 ...  범죄|스릴러|코미디|드라마|액션   \n",
       "4  병구는 외계인으로 인해 지구가 곧 위험에 처할 거라고 믿는다. 이번 개기월식까지 안...             SF|스릴러   \n",
       "5  남과 북이 통일을 약속하고 그 첫 상징인 경의선 철도 완전 개통식을 추진한다. 그러...         드라마|액션|스릴러   \n",
       "6  수능을 약 2 여일 앞둔 어느 토요일, 전교 1등부터 2 등까지의 모범생들만을 위한...             공포|스릴러   \n",
       "7  동경 유학 중이던 엘리트 의사 부부 인영(김보경)과 동원(김태우)은 갑작스레 귀국하...                 공포   \n",
       "8  옹골찬 근육으로 다져진 특 1등급 건강인을 자부하는 천성근, 그는 우리나라 최고의 ...            코미디|드라마   \n",
       "9  작업계의 대표선수 민준과 지원이 만났다. 선수는 선수를 알아보는 법! 작업계의 고수...         코미디|멜로/로맨스   \n",
       "\n",
       "   rating                         main_act  \n",
       "0    8.67                   엄태웅|한가인|이제훈|수지  \n",
       "1    5.59                  정준호|김상중|정웅인|정운택  \n",
       "2    7.71                          이선균|안재홍  \n",
       "3    8.53                          설경구|정재영  \n",
       "4    8.85                          신하균|백윤식  \n",
       "5    6.36              조재현|차인표|안성기|문성근|강신일  \n",
       "6    6.82                   이범수|윤정희|남규리|김범  \n",
       "7    7.48                   진구|이동규|김태우|김보경  \n",
       "8    8.99  김수로|이한위|백성현|박보영|이민호|문채원|이찬호|김성령  \n",
       "9    6.53                          손예진|송일국  "
      ]
     },
     "metadata": {},
     "output_type": "display_data"
    },
    {
     "name": "stdout",
     "output_type": "stream",
     "text": [
      "검색된 문서 총 10개\n"
     ]
    }
   ],
   "source": [
    "docs = hybrid_search(query_text)\n",
    "\n",
    "print(\"검색된 문서 총 \" + str(len(docs)) + \"개\")"
   ]
  },
  {
   "cell_type": "markdown",
   "metadata": {},
   "source": [
    "## RAG을 통한 정확한 답변 받기\n"
   ]
  },
  {
   "cell_type": "markdown",
   "metadata": {},
   "source": [
    "### 컨텍스트 기반 질문 응답을 위한 프롬프트 템플릿 생성\n",
    "\n",
    "LangChain의 **`PromptTemplate`**을 사용하여 컨텍스트 기반 질문 응답을 위한 프롬프트 템플릿을 정의합니다.\n",
    "\n",
    "1. 컨텍스트와 질문을 입력 변수로 받습니다.\n",
    "2. 컨텍스트는 **`<context>`** 및 **`</context>`** XML 태그로 묶여 제공됩니다.\n",
    "3. 답변 시 XML 태그를 포함하지 않도록 지시합니다.\n",
    "4. 답변 시 가능한 한 많은 내용을 포함하도록 지시합니다.\n",
    "5. 답변 시 공손하고 예의바른 태도를 유지하도록 지시합니다.\n",
    "6. 컨텍스트에서 답변을 확실히 찾을 수 없는 경우, \"주어진 내용에서 관련 답변을 찾을 수 없습니다.\"라고 답변하도록 지시합니다.\n"
   ]
  },
  {
   "cell_type": "code",
   "execution_count": 13,
   "metadata": {},
   "outputs": [],
   "source": [
    "from langchain import PromptTemplate\n",
    "\n",
    "prompt_template = \"\"\"\n",
    "\n",
    "\n",
    "Human: Here is the context, inside <context></context> XML tags.\n",
    "\n",
    "<context>\n",
    "{context}\n",
    "</context>\n",
    "\n",
    "Only using the contex as above, answer the following question with the rules as below:\n",
    "    - Don't insert XML tag such as <context> and </context> when answering.\n",
    "    - Write as much as you can\n",
    "    - Be courteous and polite\n",
    "    - Only answer the question if you can find the answer in the context with certainty.\n",
    "\n",
    "Question:\n",
    "{question}\n",
    "\n",
    "If the answer is not in the context, just say \"주어진 내용에서 관련 답변을 찾을 수 없습니다.\"\n",
    "\n",
    "\n",
    "Assistant:\"\"\"\n",
    "\n",
    "PROMPT = PromptTemplate(template=prompt_template, input_variables=[\"context\", \"question\"])"
   ]
  },
  {
   "cell_type": "markdown",
   "metadata": {},
   "source": [
    "LangChain의 **`load_qa_chain`** 함수를 사용하여 질문 답변 체인을 로드하고, 주어진 문서와 질문에 대한 답변을 생성합니다. 하이브리드 검색으로 찾은 문서 `docs`를 `chain`의 `input_documents`로 제공합니다.\n"
   ]
  },
  {
   "cell_type": "code",
   "execution_count": 14,
   "metadata": {},
   "outputs": [
    {
     "name": "stderr",
     "output_type": "stream",
     "text": [
      "/home/ubuntu/miniconda3/envs/aws_workshop/lib/python3.10/site-packages/langchain_core/_api/deprecation.py:141: LangChainDeprecationWarning: This class is deprecated. See the following migration guides for replacements based on `chain_type`:\n",
      "stuff: https://python.langchain.com/v0.2/docs/versions/migrating_chains/stuff_docs_chain\n",
      "map_reduce: https://python.langchain.com/v0.2/docs/versions/migrating_chains/map_reduce_chain\n",
      "refine: https://python.langchain.com/v0.2/docs/versions/migrating_chains/refine_chain\n",
      "map_rerank: https://python.langchain.com/v0.2/docs/versions/migrating_chains/map_rerank_docs_chain\n",
      "\n",
      "See also guides on retrieval and question-answering here: https://python.langchain.com/v0.2/docs/how_to/#qa-with-rag\n",
      "  warn_deprecated(\n",
      "/home/ubuntu/miniconda3/envs/aws_workshop/lib/python3.10/site-packages/langchain_core/_api/deprecation.py:141: LangChainDeprecationWarning: The method `Chain.run` was deprecated in langchain 0.1.0 and will be removed in 1.0. Use invoke instead.\n",
      "  warn_deprecated(\n"
     ]
    },
    {
     "name": "stdout",
     "output_type": "stream",
     "text": [
      "query:  건축학개론 내용과 평점은?\n",
      "answer:  \"건축학개론\"의 줄거리는 다음과 같습니다: 생기 넘치지만 숫기 없던 스무 살, 건축학과 승민은 '건축학개론' 수업에서 처음 만난\n",
      "음대생 서연에게 반합니다. 함께 숙제를 하게 되면서 차츰 마음을 열고 친해지지만, 자신의 마음을 표현하는 데 서툰 순진한 승민은 입 밖에 낼 수\n",
      "없었던 고백을 마음 속에 품은 채 작은 오해로 인해 서연과 멀어지게 됩니다. 15년 만에 그녀를 다시 만난 승민은 서연에게 자신을 위한 집을\n",
      "설계해달라는 요청을 받게 되고, 함께 집을 완성해 가는 동안 그때의 기억이 되살아나 두 사람 사이에 새로운 감정이 쌓이기 시작합니다.  이\n",
      "영화의 평점은 8.67입니다.\n"
     ]
    }
   ],
   "source": [
    "from langchain.chains.question_answering import load_qa_chain\n",
    "from langchain_core.output_parsers import StrOutputParser\n",
    "\n",
    "llm = ChatOpenAI(\n",
    "    model_name='gpt-4o-mini-2024-07-18',\n",
    "    max_tokens=2048,\n",
    "    temperature=0,\n",
    "    streaming=True,\n",
    ")\n",
    "\n",
    "chain = load_qa_chain(llm=llm, chain_type=\"stuff\", prompt=PROMPT)\n",
    "\n",
    "answer = chain.run(input_documents=docs, question=query_text)\n",
    "\n",
    "print(\"query: \", query_text)\n",
    "answer_str = \"answer: \\n\" + answer\n",
    "print(textwrap.fill(answer_str, 80))"
   ]
  },
  {
   "cell_type": "markdown",
   "metadata": {},
   "source": [
    "위와 같이 정확한 답변이 제공되는 것을 확인할 수 있습니다.\n"
   ]
  },
  {
   "cell_type": "code",
   "execution_count": 15,
   "metadata": {},
   "outputs": [
    {
     "name": "stdout",
     "output_type": "stream",
     "text": [
      "Stored 'model_id' (str)\n",
      "Stored 'index_name' (str)\n"
     ]
    }
   ],
   "source": [
    "%store model_id\n",
    "%store index_name"
   ]
  },
  {
   "cell_type": "code",
   "execution_count": null,
   "metadata": {},
   "outputs": [],
   "source": []
  }
 ],
 "metadata": {
  "kernelspec": {
   "display_name": "opensearch",
   "language": "python",
   "name": "python3"
  },
  "language_info": {
   "codemirror_mode": {
    "name": "ipython",
    "version": 3
   },
   "file_extension": ".py",
   "mimetype": "text/x-python",
   "name": "python",
   "nbconvert_exporter": "python",
   "pygments_lexer": "ipython3",
   "version": "3.10.14"
  }
 },
 "nbformat": 4,
 "nbformat_minor": 2
}
