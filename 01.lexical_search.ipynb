{
 "cells": [
  {
   "cell_type": "markdown",
   "metadata": {},
   "source": [
    "# 키워드 검색 - Lexical Search\n"
   ]
  },
  {
   "cell_type": "markdown",
   "metadata": {},
   "source": [
    "## 사전 준비\n"
   ]
  },
  {
   "cell_type": "markdown",
   "metadata": {},
   "source": [
    "워크샵에서 사용할 데이터 파일을 읽어 판다스 데이터프레임으로 저장합니다.\n"
   ]
  },
  {
   "cell_type": "code",
   "execution_count": 1,
   "metadata": {},
   "outputs": [
    {
     "data": {
      "text/html": [
       "<div>\n",
       "<style scoped>\n",
       "    .dataframe tbody tr th:only-of-type {\n",
       "        vertical-align: middle;\n",
       "    }\n",
       "\n",
       "    .dataframe tbody tr th {\n",
       "        vertical-align: top;\n",
       "    }\n",
       "\n",
       "    .dataframe thead th {\n",
       "        text-align: right;\n",
       "    }\n",
       "</style>\n",
       "<table border=\"1\" class=\"dataframe\">\n",
       "  <thead>\n",
       "    <tr style=\"text-align: right;\">\n",
       "      <th></th>\n",
       "      <th>title</th>\n",
       "      <th>genre</th>\n",
       "      <th>year</th>\n",
       "      <th>date</th>\n",
       "      <th>rating</th>\n",
       "      <th>vote_count</th>\n",
       "      <th>plot</th>\n",
       "      <th>main_act</th>\n",
       "      <th>supp_act</th>\n",
       "    </tr>\n",
       "  </thead>\n",
       "  <tbody>\n",
       "    <tr>\n",
       "      <th>0</th>\n",
       "      <td>변호인</td>\n",
       "      <td>드라마</td>\n",
       "      <td>2013</td>\n",
       "      <td>12.18</td>\n",
       "      <td>8.99</td>\n",
       "      <td>94574</td>\n",
       "      <td>198 년대 초 부산. 빽 없고, 돈 없고, 가방끈도 짧은 세무 변호사 송우석(송강...</td>\n",
       "      <td>송강호|김영애|오달수|곽도원|임시완</td>\n",
       "      <td>송영창|정원중|조민기|이항나|이성민|차은재|차광수|한기중|심희섭|조완기</td>\n",
       "    </tr>\n",
       "    <tr>\n",
       "      <th>1</th>\n",
       "      <td>어벤져스: 엔드게임</td>\n",
       "      <td>액션|SF</td>\n",
       "      <td>2019</td>\n",
       "      <td>4.24</td>\n",
       "      <td>9.38</td>\n",
       "      <td>68923</td>\n",
       "      <td>인피니티 워 이후 절반만 살아남은 지구 마지막 희망이 된 어벤져스 먼저 떠난 그들을...</td>\n",
       "      <td>로버트 다우니 주니어|크리스 에반스|크리스 헴스워스|마크 러팔로|스칼렛 요한슨|제레...</td>\n",
       "      <td>베네딕트 컴버배치|조 샐다나|크리스 프랫|채드윅 보스만|톰 홀랜드|안소니 마키|기네...</td>\n",
       "    </tr>\n",
       "    <tr>\n",
       "      <th>2</th>\n",
       "      <td>명량</td>\n",
       "      <td>액션|드라마</td>\n",
       "      <td>2014</td>\n",
       "      <td>7.30</td>\n",
       "      <td>8.44</td>\n",
       "      <td>66953</td>\n",
       "      <td>1597년 임진왜란 6년, 오랜 전쟁으로 인해 혼란이 극에 달한 조선. 무서운 속도...</td>\n",
       "      <td>최민식|류승룡|조진웅</td>\n",
       "      <td>진구|이정현|김명곤|권율|노민우|김태훈|오타니 료헤이|이승준|김강일|박보검|이해영|...</td>\n",
       "    </tr>\n",
       "    <tr>\n",
       "      <th>3</th>\n",
       "      <td>부산행</td>\n",
       "      <td>액션|스릴러</td>\n",
       "      <td>2016</td>\n",
       "      <td>7.20</td>\n",
       "      <td>8.00</td>\n",
       "      <td>59184</td>\n",
       "      <td>정체불명의 바이러스가 전국으로 확산되고 대한민국 긴급재난경보령이 선포된 가운데, 열...</td>\n",
       "      <td>공유|정유미|마동석|김수안|김의성|최우식|안소희</td>\n",
       "      <td>최귀화|정석용|예수정|박명신|장혁진</td>\n",
       "    </tr>\n",
       "    <tr>\n",
       "      <th>4</th>\n",
       "      <td>신과함께-죄와 벌</td>\n",
       "      <td>판타지|드라마</td>\n",
       "      <td>2017</td>\n",
       "      <td>12.20</td>\n",
       "      <td>7.83</td>\n",
       "      <td>58124</td>\n",
       "      <td>저승 법에 의하면, 모든 인간은 사후 49일 동안 7번의 재판을 거쳐야만 한다. 살...</td>\n",
       "      <td>하정우|차태현|주지훈|김향기|김동욱|마동석</td>\n",
       "      <td>오달수|임원희|디오|이준혁|예수정|장광|정해균|김수안|남일우|정지훈</td>\n",
       "    </tr>\n",
       "  </tbody>\n",
       "</table>\n",
       "</div>"
      ],
      "text/plain": [
       "        title    genre  year   date  rating  vote_count  \\\n",
       "0         변호인      드라마  2013  12.18    8.99       94574   \n",
       "1  어벤져스: 엔드게임    액션|SF  2019   4.24    9.38       68923   \n",
       "2          명량   액션|드라마  2014   7.30    8.44       66953   \n",
       "3         부산행   액션|스릴러  2016   7.20    8.00       59184   \n",
       "4   신과함께-죄와 벌  판타지|드라마  2017  12.20    7.83       58124   \n",
       "\n",
       "                                                plot  \\\n",
       "0  198 년대 초 부산. 빽 없고, 돈 없고, 가방끈도 짧은 세무 변호사 송우석(송강...   \n",
       "1  인피니티 워 이후 절반만 살아남은 지구 마지막 희망이 된 어벤져스 먼저 떠난 그들을...   \n",
       "2  1597년 임진왜란 6년, 오랜 전쟁으로 인해 혼란이 극에 달한 조선. 무서운 속도...   \n",
       "3  정체불명의 바이러스가 전국으로 확산되고 대한민국 긴급재난경보령이 선포된 가운데, 열...   \n",
       "4  저승 법에 의하면, 모든 인간은 사후 49일 동안 7번의 재판을 거쳐야만 한다. 살...   \n",
       "\n",
       "                                            main_act  \\\n",
       "0                                송강호|김영애|오달수|곽도원|임시완   \n",
       "1  로버트 다우니 주니어|크리스 에반스|크리스 헴스워스|마크 러팔로|스칼렛 요한슨|제레...   \n",
       "2                                        최민식|류승룡|조진웅   \n",
       "3                         공유|정유미|마동석|김수안|김의성|최우식|안소희   \n",
       "4                            하정우|차태현|주지훈|김향기|김동욱|마동석   \n",
       "\n",
       "                                            supp_act  \n",
       "0            송영창|정원중|조민기|이항나|이성민|차은재|차광수|한기중|심희섭|조완기  \n",
       "1  베네딕트 컴버배치|조 샐다나|크리스 프랫|채드윅 보스만|톰 홀랜드|안소니 마키|기네...  \n",
       "2  진구|이정현|김명곤|권율|노민우|김태훈|오타니 료헤이|이승준|김강일|박보검|이해영|...  \n",
       "3                                최귀화|정석용|예수정|박명신|장혁진  \n",
       "4              오달수|임원희|디오|이준혁|예수정|장광|정해균|김수안|남일우|정지훈  "
      ]
     },
     "execution_count": 1,
     "metadata": {},
     "output_type": "execute_result"
    }
   ],
   "source": [
    "import pandas as pd\n",
    "import requests\n",
    "\n",
    "df = pd.read_csv(\"./data/movies.csv\", low_memory=False)\n",
    "df.head(5)"
   ]
  },
  {
   "cell_type": "markdown",
   "metadata": {},
   "source": [
    "데이터의 스키마와 레코드 수를 확인합니다.\n"
   ]
  },
  {
   "cell_type": "code",
   "execution_count": 2,
   "metadata": {},
   "outputs": [
    {
     "name": "stdout",
     "output_type": "stream",
     "text": [
      "<class 'pandas.core.frame.DataFrame'>\n",
      "RangeIndex: 1000 entries, 0 to 999\n",
      "Data columns (total 9 columns):\n",
      " #   Column      Non-Null Count  Dtype  \n",
      "---  ------      --------------  -----  \n",
      " 0   title       1000 non-null   object \n",
      " 1   genre       1000 non-null   object \n",
      " 2   year        1000 non-null   int64  \n",
      " 3   date        1000 non-null   float64\n",
      " 4   rating      1000 non-null   float64\n",
      " 5   vote_count  1000 non-null   int64  \n",
      " 6   plot        1000 non-null   object \n",
      " 7   main_act    1000 non-null   object \n",
      " 8   supp_act    1000 non-null   object \n",
      "dtypes: float64(2), int64(2), object(5)\n",
      "memory usage: 70.4+ KB\n"
     ]
    }
   ],
   "source": [
    "df.info()"
   ]
  },
  {
   "cell_type": "markdown",
   "metadata": {},
   "source": [
    "### OpenSearch 도메인에 연결하기\n"
   ]
  },
  {
   "cell_type": "markdown",
   "metadata": {},
   "source": [
    "먼저 utils 디렉토리에 있는 공용모듈을 사용하기 위한 준비를 합니다.\n"
   ]
  },
  {
   "cell_type": "code",
   "execution_count": 3,
   "metadata": {},
   "outputs": [],
   "source": [
    "def get_cfn_outputs(stackname, cfn):\n",
    "    outputs = {}\n",
    "    for output in cfn.describe_stacks(StackName=stackname)[\"Stacks\"][0][\"Outputs\"]:\n",
    "        outputs[output[\"OutputKey\"]] = output[\"OutputValue\"]\n",
    "    return outputs"
   ]
  },
  {
   "cell_type": "markdown",
   "metadata": {},
   "source": [
    "이 코드를 통해 OpenSearch 도메인에 연결하는 데 필요한 자격 증명과 엔드포인트 주소를 가져올 수 있습니다. 이 정보를 사용하여 OpenSearch 클라이언트를 초기화하고 인덱싱, 검색 등의 작업을 수행할 수 있습니다.\n"
   ]
  },
  {
   "cell_type": "code",
   "execution_count": 4,
   "metadata": {},
   "outputs": [],
   "source": [
    "from opensearchpy import OpenSearch\n",
    "import json\n",
    "\n",
    "# OpenSearch 연결 설정\n",
    "host = 'localhost'\n",
    "port = 9200\n",
    "auth = ('admin', 'TestUser2@')  # 초기 설정한 어드민 비밀번호 사용\n",
    "\n",
    "aos_client = OpenSearch(\n",
    "    hosts=[{'host': host, 'port': port}],\n",
    "    http_auth=auth,\n",
    "    use_ssl=True,\n",
    "    verify_certs=False,\n",
    "    ssl_show_warn=False,\n",
    ")"
   ]
  },
  {
   "cell_type": "markdown",
   "metadata": {},
   "source": [
    "연결이 잘 되었는지 확인하기 위해 간단한 요청을 보내보겠습니다. analyze 엔드포인트를 사용하여 nori 분석기로 간단한 한국어를 분석해 봅니다.\n"
   ]
  },
  {
   "cell_type": "code",
   "execution_count": 5,
   "metadata": {},
   "outputs": [
    {
     "name": "stdout",
     "output_type": "stream",
     "text": [
      "{\n",
      "    \"tokens\": [\n",
      "        {\n",
      "            \"token\": \"opensearch\",\n",
      "            \"start_offset\": 0,\n",
      "            \"end_offset\": 10,\n",
      "            \"type\": \"word\",\n",
      "            \"position\": 0\n",
      "        },\n",
      "        {\n",
      "            \"token\": \"워크\",\n",
      "            \"start_offset\": 11,\n",
      "            \"end_offset\": 13,\n",
      "            \"type\": \"word\",\n",
      "            \"position\": 1\n",
      "        },\n",
      "        {\n",
      "            \"token\": \"샵\",\n",
      "            \"start_offset\": 13,\n",
      "            \"end_offset\": 14,\n",
      "            \"type\": \"word\",\n",
      "            \"position\": 2\n",
      "        },\n",
      "        {\n",
      "            \"token\": \"오\",\n",
      "            \"start_offset\": 16,\n",
      "            \"end_offset\": 17,\n",
      "            \"type\": \"word\",\n",
      "            \"position\": 4\n",
      "        },\n",
      "        {\n",
      "            \"token\": \"고객\",\n",
      "            \"start_offset\": 19,\n",
      "            \"end_offset\": 21,\n",
      "            \"type\": \"word\",\n",
      "            \"position\": 7\n",
      "        },\n",
      "        {\n",
      "            \"token\": \"여러분\",\n",
      "            \"start_offset\": 22,\n",
      "            \"end_offset\": 25,\n",
      "            \"type\": \"word\",\n",
      "            \"position\": 8\n",
      "        },\n",
      "        {\n",
      "            \"token\": \"환영\",\n",
      "            \"start_offset\": 26,\n",
      "            \"end_offset\": 28,\n",
      "            \"type\": \"word\",\n",
      "            \"position\": 9\n",
      "        }\n",
      "    ]\n",
      "}\n"
     ]
    }
   ],
   "source": [
    "request_body = {\n",
    "    \"analyzer\": \"nori\",\n",
    "    \"text\": \"OpenSearch 워크샵에 오신 고객 여러분 환영합니다.\"\n",
    "}\n",
    "\n",
    "# Send the request to the _analyze endpoint\n",
    "response = aos_client.indices.analyze(body=request_body)\n",
    "\n",
    "# Print the response\n",
    "print(json.dumps(response, indent=4, ensure_ascii=False))"
   ]
  },
  {
   "cell_type": "markdown",
   "metadata": {},
   "source": [
    "### 인덱스 생성\n"
   ]
  },
  {
   "cell_type": "markdown",
   "metadata": {},
   "source": [
    "이제 인덱스를 생성합니다. 인덱스의 이름은 movies_lexical 로 하고 맵핑 정보는 다음과 같이 지정합니다.|\n"
   ]
  },
  {
   "cell_type": "code",
   "execution_count": 6,
   "metadata": {},
   "outputs": [],
   "source": [
    "index_name = \"movie_lexical\"\n",
    "\n",
    "movie_lexical = {\n",
    "    \"settings\": {\n",
    "        \"number_of_replicas\": 0,\n",
    "        \"number_of_shards\": 1,\n",
    "        \"max_result_window\": 15000,\n",
    "        \"analysis\": {\"analyzer\": {\"analysis-nori\": {\"type\": \"nori\", \"stopwords\": \"_korean_\"}}},\n",
    "    },\n",
    "    \"mappings\": {\n",
    "        \"properties\": {\n",
    "            \"date\": {\n",
    "                \"type\": \"float\",\n",
    "            },\n",
    "            \"genre\": {\n",
    "                \"type\": \"text\",\n",
    "            },\n",
    "            \"main_act\": {\n",
    "                \"type\": \"text\",\n",
    "                \"fields\": {\"keyword\": {\"type\": \"keyword\", \"ignore_above\": 256}},\n",
    "            },\n",
    "            \"plot\": {\n",
    "                \"type\": \"text\",\n",
    "            },\n",
    "            \"rating\": {\n",
    "                \"type\": \"float\"\n",
    "            },\n",
    "            \"supp_act\": {\n",
    "                \"type\": \"text\",\n",
    "                \"fields\": {\"keyword\": {\"type\": \"keyword\", \"ignore_above\": 256}},\n",
    "            },\n",
    "            \"title\": {\n",
    "                \"type\": \"text\",\n",
    "                \"fields\": {\"keyword\": {\"type\": \"keyword\", \"ignore_above\": 256}},\n",
    "            },\n",
    "            \"vote_count\": {\n",
    "                \"type\": \"long\"\n",
    "            },\n",
    "            \"year\": {\n",
    "                \"type\": \"long\"\n",
    "            },\n",
    "        }\n",
    "    },\n",
    "}"
   ]
  },
  {
   "cell_type": "markdown",
   "metadata": {},
   "source": [
    "위의 맵핑 정보로 인덱스를 생성합니다.\n"
   ]
  },
  {
   "cell_type": "code",
   "execution_count": 8,
   "metadata": {},
   "outputs": [
    {
     "data": {
      "text/plain": [
       "{'movie_lexical': {'aliases': {},\n",
       "  'mappings': {'properties': {'date': {'type': 'float'},\n",
       "    'genre': {'type': 'text'},\n",
       "    'main_act': {'type': 'text',\n",
       "     'fields': {'keyword': {'type': 'keyword', 'ignore_above': 256}}},\n",
       "    'plot': {'type': 'text'},\n",
       "    'rating': {'type': 'float'},\n",
       "    'supp_act': {'type': 'text',\n",
       "     'fields': {'keyword': {'type': 'keyword', 'ignore_above': 256}}},\n",
       "    'title': {'type': 'text',\n",
       "     'fields': {'keyword': {'type': 'keyword', 'ignore_above': 256}}},\n",
       "    'vote_count': {'type': 'long'},\n",
       "    'year': {'type': 'long'}}},\n",
       "  'settings': {'index': {'replication': {'type': 'DOCUMENT'},\n",
       "    'number_of_shards': '1',\n",
       "    'provided_name': 'movie_lexical',\n",
       "    'max_result_window': '15000',\n",
       "    'creation_date': '1724140613209',\n",
       "    'analysis': {'analyzer': {'analysis-nori': {'type': 'nori',\n",
       "       'stopwords': '_korean_'}}},\n",
       "    'number_of_replicas': '0',\n",
       "    'uuid': 'xnhVmzBGSGCKBTj6WyJYaA',\n",
       "    'version': {'created': '136347827'}}}}}"
      ]
     },
     "execution_count": 8,
     "metadata": {},
     "output_type": "execute_result"
    }
   ],
   "source": [
    "aos_client.indices.delete(index=index_name)\n",
    "aos_client.indices.create(index=index_name, body=movie_lexical)\n",
    "aos_client.indices.get(index=index_name)"
   ]
  },
  {
   "cell_type": "markdown",
   "metadata": {},
   "source": [
    "### 데이터 인제스트\n"
   ]
  },
  {
   "cell_type": "markdown",
   "metadata": {},
   "source": [
    "생성된 인덱스에 데이터를 인제스트합니다. 여기서는 opensearchpy 패키지에서 제공하는 parallel_bulk를 사용하여 빠르게 데이터를 인제스트합니다.\n"
   ]
  },
  {
   "cell_type": "code",
   "execution_count": 9,
   "metadata": {},
   "outputs": [],
   "source": [
    "from opensearchpy import helpers\n",
    "\n",
    "# Pandas DataFrame을 JSON 형식의 문자열로 변환\n",
    "json_data = df.to_json(orient=\"records\", lines=True)\n",
    "# JSON 문자열을 개별 JSON 객체로 분할하고, 마지막 빈 줄을 제거\n",
    "docs = json_data.split(\"\\n\")[:-1]  # To remove the last empty line\n",
    "\n",
    "\n",
    "# JSON 객체를 OpenSearch에 업로드할 수 있는 형식으로 변환\n",
    "def _generate_data():\n",
    "    for doc in docs:\n",
    "        yield {\"_index\": index_name, \"_source\": doc}\n",
    "\n",
    "\n",
    "succeeded = []\n",
    "failed = []\n",
    "# 병렬로 벌크 업로드를 수행\n",
    "for success, item in helpers.parallel_bulk(\n",
    "    aos_client, actions=_generate_data(), chunk_size=20, thread_count=4, queue_size=4\n",
    "):\n",
    "    if success:\n",
    "        succeeded.append(item)\n",
    "    else:\n",
    "        failed.append(item)"
   ]
  },
  {
   "cell_type": "markdown",
   "metadata": {},
   "source": [
    "데이터가 바로 반영되도록 인덱스를 Refresh하고 인제스트가 잘 되었는지 확인하기 위해 도큐먼트의 총 합을 count로 확인합니다.\n"
   ]
  },
  {
   "cell_type": "code",
   "execution_count": 10,
   "metadata": {},
   "outputs": [
    {
     "name": "stdout",
     "output_type": "stream",
     "text": [
      "{'count': 1000, '_shards': {'total': 1, 'successful': 1, 'skipped': 0, 'failed': 0}}\n"
     ]
    }
   ],
   "source": [
    "aos_client.indices.refresh(index=index_name)\n",
    "\n",
    "count = aos_client.count(index=index_name)\n",
    "print(count)"
   ]
  },
  {
   "cell_type": "markdown",
   "metadata": {},
   "source": [
    "이제 키워드 검색을 수행할 모든 준비가 끝났습니다.\n"
   ]
  },
  {
   "cell_type": "markdown",
   "metadata": {},
   "source": [
    "## 키워드 검색 결과 확인하기\n"
   ]
  },
  {
   "cell_type": "markdown",
   "metadata": {},
   "source": [
    "키워드 검색을 위한 헬퍼 함수를 생성합니다. 여기서는 상위 10개의 결과만을 확인합니다.\n"
   ]
  },
  {
   "cell_type": "code",
   "execution_count": 11,
   "metadata": {},
   "outputs": [],
   "source": [
    "def keyword_search(query_text):\n",
    "    query = {\n",
    "        \"size\": 10,\n",
    "        \"query\": {\n",
    "            \"multi_match\": {\n",
    "                \"query\": query_text,\n",
    "                \"fields\": [\"title\", \"plot\", \"genre\", \"main_act\"],\n",
    "            }\n",
    "        },\n",
    "    }\n",
    "\n",
    "    res = aos_client.search(index=index_name, body=query)\n",
    "\n",
    "    query_result = []\n",
    "    for hit in res[\"hits\"][\"hits\"]:\n",
    "        row = [\n",
    "            hit[\"_score\"],\n",
    "            hit[\"_source\"][\"title\"],\n",
    "            hit[\"_source\"][\"plot\"],\n",
    "            hit[\"_source\"][\"genre\"],\n",
    "            hit[\"_source\"][\"rating\"],\n",
    "            hit[\"_source\"][\"main_act\"],\n",
    "        ]\n",
    "        query_result.append(row)\n",
    "\n",
    "    query_result_df = pd.DataFrame(\n",
    "        data=query_result,\n",
    "        columns=[\"_score\", \"title\", \"plot\", \"genre\", \"rating\", \"main_act\"],\n",
    "    )\n",
    "    display(query_result_df)"
   ]
  },
  {
   "cell_type": "markdown",
   "metadata": {},
   "source": [
    "자연어로 검색결과를 확인해봅니다.\n"
   ]
  },
  {
   "cell_type": "code",
   "execution_count": 12,
   "metadata": {},
   "outputs": [
    {
     "data": {
      "text/html": [
       "<div>\n",
       "<style scoped>\n",
       "    .dataframe tbody tr th:only-of-type {\n",
       "        vertical-align: middle;\n",
       "    }\n",
       "\n",
       "    .dataframe tbody tr th {\n",
       "        vertical-align: top;\n",
       "    }\n",
       "\n",
       "    .dataframe thead th {\n",
       "        text-align: right;\n",
       "    }\n",
       "</style>\n",
       "<table border=\"1\" class=\"dataframe\">\n",
       "  <thead>\n",
       "    <tr style=\"text-align: right;\">\n",
       "      <th></th>\n",
       "      <th>_score</th>\n",
       "      <th>title</th>\n",
       "      <th>plot</th>\n",
       "      <th>genre</th>\n",
       "      <th>rating</th>\n",
       "      <th>main_act</th>\n",
       "    </tr>\n",
       "  </thead>\n",
       "  <tbody>\n",
       "    <tr>\n",
       "      <th>0</th>\n",
       "      <td>11.633025</td>\n",
       "      <td>캡틴 마블</td>\n",
       "      <td>1995년, 공군 파일럿 시절의 기억을 잃고 크리족 전사로 살아가던 캐럴 댄버스(브...</td>\n",
       "      <td>액션|모험|SF</td>\n",
       "      <td>6.75</td>\n",
       "      <td>브리 라슨|사무엘 L. 잭슨|벤 멘델슨|주드 로</td>\n",
       "    </tr>\n",
       "    <tr>\n",
       "      <th>1</th>\n",
       "      <td>10.987896</td>\n",
       "      <td>스타워즈: 깨어난 포스</td>\n",
       "      <td>새로운 전설을 그려나가게 될 포스의 선택을 받은 ‘레이’ 와 포스의 기운을 모아 정...</td>\n",
       "      <td>액션|모험|판타지</td>\n",
       "      <td>7.75</td>\n",
       "      <td>데이지 리들리|존 보예가|오스카 아이삭|아담 드라이버|그웬돌린 크리스티|도널 글리슨...</td>\n",
       "    </tr>\n",
       "    <tr>\n",
       "      <th>2</th>\n",
       "      <td>9.114580</td>\n",
       "      <td>샤잠!</td>\n",
       "      <td>솔로몬의 지혜, 헤라클레스의 힘, 아틀라스의 체력, 제우스의 권능, 아킬레스의 용기...</td>\n",
       "      <td>액션|판타지|SF</td>\n",
       "      <td>5.82</td>\n",
       "      <td>제커리 레비|애셔 앤젤</td>\n",
       "    </tr>\n",
       "    <tr>\n",
       "      <th>3</th>\n",
       "      <td>9.070051</td>\n",
       "      <td>트랜스포머: 패자의 역습</td>\n",
       "      <td>샘 윗윅키(샤이아 라보프)가 오토봇과 디셉티콘, 두 로봇 진영간의 치열한 싸움에서 ...</td>\n",
       "      <td>SF|액션|모험</td>\n",
       "      <td>8.11</td>\n",
       "      <td>샤이아 라보프|메간 폭스|휴고 위빙|조쉬 더하멜|존 터투로</td>\n",
       "    </tr>\n",
       "    <tr>\n",
       "      <th>4</th>\n",
       "      <td>8.260200</td>\n",
       "      <td>범죄와의 전쟁 : 나쁜놈들 전성시대</td>\n",
       "      <td>비리 세관 공무원 최익현, 보스 최형배를 만나다! 1982년 부산. 해고될 위기에 ...</td>\n",
       "      <td>범죄|드라마</td>\n",
       "      <td>8.63</td>\n",
       "      <td>최민식|하정우</td>\n",
       "    </tr>\n",
       "    <tr>\n",
       "      <th>5</th>\n",
       "      <td>7.808550</td>\n",
       "      <td>저스티스 리그</td>\n",
       "      <td>인류의 수호자인 슈퍼맨이 사라진 틈을 노리고 ‘마더박스’를 차지하기 위해 빌런 스테...</td>\n",
       "      <td>액션|모험|판타지|SF</td>\n",
       "      <td>7.70</td>\n",
       "      <td>벤 애플렉|갤 가돗|제이슨 모모아|레이 피셔|에즈라 밀러|헨리 카빌</td>\n",
       "    </tr>\n",
       "    <tr>\n",
       "      <th>6</th>\n",
       "      <td>7.562352</td>\n",
       "      <td>드래곤볼 에볼루션</td>\n",
       "      <td>우주 각지에 흩어진 7개의 구슬을 모두 모으면 엄청난 힘을 가질 수 있는 전설 속의...</td>\n",
       "      <td>액션|모험|판타지|SF|스릴러</td>\n",
       "      <td>3.21</td>\n",
       "      <td>저스틴 채트윈|에미 로섬|주윤발|제임스 마스터스|박준형|제이미 정</td>\n",
       "    </tr>\n",
       "    <tr>\n",
       "      <th>7</th>\n",
       "      <td>7.541350</td>\n",
       "      <td>하루</td>\n",
       "      <td>전쟁의 성자라 불리는 의사 ‘준영’(김명민)은 딸의 생일 날 약속 장소로 향하던 중...</td>\n",
       "      <td>스릴러</td>\n",
       "      <td>7.05</td>\n",
       "      <td>김명민|변요한|유재명</td>\n",
       "    </tr>\n",
       "    <tr>\n",
       "      <th>8</th>\n",
       "      <td>6.732153</td>\n",
       "      <td>맨 인 블랙 3</td>\n",
       "      <td>알 수 없는 사건으로 현실이 뒤바뀌고 외계인의 공격으로 위험에 빠진 지구. 게다가 ...</td>\n",
       "      <td>액션|코미디|SF</td>\n",
       "      <td>8.18</td>\n",
       "      <td>윌 스미스|토미 리 존스|조슈 브롤린</td>\n",
       "    </tr>\n",
       "    <tr>\n",
       "      <th>9</th>\n",
       "      <td>6.576585</td>\n",
       "      <td>오블리비언</td>\n",
       "      <td>외계인의 침공이 있었던 지구 최후의 날 이후, 모두가 떠나버린 지구의 마지막 정찰병...</td>\n",
       "      <td>액션|SF</td>\n",
       "      <td>8.25</td>\n",
       "      <td>톰 크루즈|모건 프리먼|올가 쿠릴렌코</td>\n",
       "    </tr>\n",
       "  </tbody>\n",
       "</table>\n",
       "</div>"
      ],
      "text/plain": [
       "      _score                title  \\\n",
       "0  11.633025                캡틴 마블   \n",
       "1  10.987896         스타워즈: 깨어난 포스   \n",
       "2   9.114580                  샤잠!   \n",
       "3   9.070051        트랜스포머: 패자의 역습   \n",
       "4   8.260200  범죄와의 전쟁 : 나쁜놈들 전성시대   \n",
       "5   7.808550              저스티스 리그   \n",
       "6   7.562352            드래곤볼 에볼루션   \n",
       "7   7.541350                   하루   \n",
       "8   6.732153             맨 인 블랙 3   \n",
       "9   6.576585                오블리비언   \n",
       "\n",
       "                                                plot             genre  \\\n",
       "0  1995년, 공군 파일럿 시절의 기억을 잃고 크리족 전사로 살아가던 캐럴 댄버스(브...          액션|모험|SF   \n",
       "1  새로운 전설을 그려나가게 될 포스의 선택을 받은 ‘레이’ 와 포스의 기운을 모아 정...         액션|모험|판타지   \n",
       "2  솔로몬의 지혜, 헤라클레스의 힘, 아틀라스의 체력, 제우스의 권능, 아킬레스의 용기...         액션|판타지|SF   \n",
       "3  샘 윗윅키(샤이아 라보프)가 오토봇과 디셉티콘, 두 로봇 진영간의 치열한 싸움에서 ...          SF|액션|모험   \n",
       "4  비리 세관 공무원 최익현, 보스 최형배를 만나다! 1982년 부산. 해고될 위기에 ...            범죄|드라마   \n",
       "5  인류의 수호자인 슈퍼맨이 사라진 틈을 노리고 ‘마더박스’를 차지하기 위해 빌런 스테...      액션|모험|판타지|SF   \n",
       "6  우주 각지에 흩어진 7개의 구슬을 모두 모으면 엄청난 힘을 가질 수 있는 전설 속의...  액션|모험|판타지|SF|스릴러   \n",
       "7  전쟁의 성자라 불리는 의사 ‘준영’(김명민)은 딸의 생일 날 약속 장소로 향하던 중...               스릴러   \n",
       "8  알 수 없는 사건으로 현실이 뒤바뀌고 외계인의 공격으로 위험에 빠진 지구. 게다가 ...         액션|코미디|SF   \n",
       "9  외계인의 침공이 있었던 지구 최후의 날 이후, 모두가 떠나버린 지구의 마지막 정찰병...             액션|SF   \n",
       "\n",
       "   rating                                           main_act  \n",
       "0    6.75                         브리 라슨|사무엘 L. 잭슨|벤 멘델슨|주드 로  \n",
       "1    7.75  데이지 리들리|존 보예가|오스카 아이삭|아담 드라이버|그웬돌린 크리스티|도널 글리슨...  \n",
       "2    5.82                                       제커리 레비|애셔 앤젤  \n",
       "3    8.11                   샤이아 라보프|메간 폭스|휴고 위빙|조쉬 더하멜|존 터투로  \n",
       "4    8.63                                            최민식|하정우  \n",
       "5    7.70              벤 애플렉|갤 가돗|제이슨 모모아|레이 피셔|에즈라 밀러|헨리 카빌  \n",
       "6    3.21               저스틴 채트윈|에미 로섬|주윤발|제임스 마스터스|박준형|제이미 정  \n",
       "7    7.05                                        김명민|변요한|유재명  \n",
       "8    8.18                               윌 스미스|토미 리 존스|조슈 브롤린  \n",
       "9    8.25                               톰 크루즈|모건 프리먼|올가 쿠릴렌코  "
      ]
     },
     "metadata": {},
     "output_type": "display_data"
    }
   ],
   "source": [
    "keyword_search(\"지구의 영웅들이 힘을 합쳐 우주의 악당을 물리친다\")"
   ]
  },
  {
   "cell_type": "code",
   "execution_count": null,
   "metadata": {},
   "outputs": [],
   "source": []
  }
 ],
 "metadata": {
  "kernelspec": {
   "display_name": "Python 3 (ipykernel)",
   "language": "python",
   "name": "python3"
  },
  "language_info": {
   "codemirror_mode": {
    "name": "ipython",
    "version": 3
   },
   "file_extension": ".py",
   "mimetype": "text/x-python",
   "name": "python",
   "nbconvert_exporter": "python",
   "pygments_lexer": "ipython3",
   "version": "3.10.14"
  }
 },
 "nbformat": 4,
 "nbformat_minor": 4
}
