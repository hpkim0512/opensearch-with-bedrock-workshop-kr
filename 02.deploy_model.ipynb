{
 "cells": [
  {
   "cell_type": "markdown",
   "id": "29dc1508",
   "metadata": {},
   "source": [
    "# Amazon OpenSearch Service에 Model(Remote Connector) 배포하기"
   ]
  },
  {
   "cell_type": "markdown",
   "id": "e4e555f5",
   "metadata": {},
   "source": [
    "Opensearch에 연결합니다."
   ]
  },
  {
   "cell_type": "code",
   "execution_count": 1,
   "id": "5090bf6c-4c39-4d40-8675-851284f15325",
   "metadata": {
    "tags": []
   },
   "outputs": [],
   "source": [
    "from opensearchpy import OpenSearch, RequestsHttpConnection, AWSV4SignerAuth\n",
    "import boto3\n",
    "import json\n",
    "\n",
    "auth = (aos_credentials[\"username\"], aos_credentials[\"password\"])\n",
    "\n",
    "aos_client = OpenSearch(\n",
    "    hosts=[{\"host\": aos_host, \"port\": 443}],\n",
    "    http_auth=auth,\n",
    "    use_ssl=True,\n",
    "    verify_certs=True,\n",
    "    connection_class=RequestsHttpConnection,\n",
    "    timeout=600,\n",
    ")"
   ]
  },
  {
   "cell_type": "markdown",
   "id": "cc4d71c1",
   "metadata": {},
   "source": [
    "# IAM Role에 OpenSearch의 ml_full_access 권한 부여하기"
   ]
  },
  {
   "cell_type": "markdown",
   "id": "d196f247",
   "metadata": {},
   "source": [
    "OpenSearch에 Model을 배포하기 위해서는 ml_full_access 권한이 필요합니다. 이를 위해서는 ml_full_access Role에 모델 배포 요청 Request를 Sign할 IAM Role ARN을 맵핑해주어야 합니다. \n",
    "\n",
    "먼저 ml_full_access의 Role Mapping을 확인합니다."
   ]
  },
  {
   "cell_type": "code",
   "execution_count": null,
   "id": "9f440d7f",
   "metadata": {},
   "outputs": [],
   "source": [
    "import requests\n",
    "\n",
    "security_url = \"https://\" + aos_host + \"/_plugins/_security/api/rolesmapping/ml_full_access\"\n",
    "\n",
    "auth = (aos_credentials[\"username\"], aos_credentials[\"password\"])\n",
    "\n",
    "create_role_mapping_body = {\"users\": [iam_role_arn]}\n",
    "\n",
    "response = requests.get(\n",
    "    security_url,\n",
    "    auth=auth,\n",
    "    # json=connector_payload,\n",
    ")\n",
    "\n",
    "json.loads(response.text)"
   ]
  },
  {
   "cell_type": "markdown",
   "id": "504b8145",
   "metadata": {},
   "source": [
    "현재 오직 `master` 사용자만이 ml_full_access 권한을 가지고 있을 것입니다. 여기에 `iam_role_arn`에 저장된 현재 IAM Role ARN을 추가해줍니다. "
   ]
  },
  {
   "cell_type": "code",
   "execution_count": 2,
   "id": "68ba29cf-fb45-42ae-998b-4bd08b80d1ed",
   "metadata": {},
   "outputs": [
    {
     "data": {
      "text/plain": [
       "{'name': '4af019499bed',\n",
       " 'cluster_name': 'docker-cluster',\n",
       " 'cluster_uuid': 'XqFSfdWsR_WtnvUSrxdb5Q',\n",
       " 'version': {'distribution': 'opensearch',\n",
       "  'number': '2.13.0',\n",
       "  'build_type': 'tar',\n",
       "  'build_hash': '7ec678d1b7c87d6e779fdef94e33623e1f1e2647',\n",
       "  'build_date': '2024-03-26T00:02:39.659767978Z',\n",
       "  'build_snapshot': False,\n",
       "  'lucene_version': '9.10.0',\n",
       "  'minimum_wire_compatibility_version': '7.10.0',\n",
       "  'minimum_index_compatibility_version': '7.0.0'},\n",
       " 'tagline': 'The OpenSearch Project: https://opensearch.org/'}"
      ]
     },
     "execution_count": 2,
     "metadata": {},
     "output_type": "execute_result"
    }
   ],
   "source": [
    "모델 커넥터를 생성하는 요청을 보낼 때는 커넥터의 권한을 OpenSearch에게 넘겨줄 수 있는 PassRole 권한이 필요합니다. 하지만 OpenSearch의 Internal User(master)는 IAM 사용자가 아니므로 해당 권한을 설정할 수 없습니다. 따라서 credentials 정보를 `iam_role_arn`에 저장된 IAM Role의 정보로 변경합니다."
   ]
  },
  {
   "cell_type": "markdown",
   "id": "4b62c146",
   "metadata": {},
   "source": [
    "# 임베딩 원격 모델 배포하기"
   ]
  },
  {
   "cell_type": "code",
   "execution_count": null,
   "id": "16370655-f25d-4e53-bd58-038962af3cb1",
   "metadata": {
    "tags": []
   },
   "outputs": [],
   "source": [
    "credentials = boto3.Session().get_credentials()\n",
    "auth = AWSV4SignerAuth(credentials, region=region_name)"
   ]
  },
  {
   "cell_type": "markdown",
   "id": "24b4b189",
   "metadata": {},
   "source": [
    "모델 커넥터 생성 요청을 위한 Base URL을 설정합니다. "
   ]
  },
  {
   "cell_type": "code",
   "execution_count": 3,
   "id": "fb5439b6",
   "metadata": {},
   "outputs": [
    {
     "data": {
      "text/plain": [
       "'https://localhost:9200/_plugins/_ml'"
      ]
     },
     "execution_count": 3,
     "metadata": {},
     "output_type": "execute_result"
    }
   ],
   "source": [
    "base_url = \"https://\" + aos_host + \"/_plugins/_ml\"\n",
    "base_url"
   ]
  },
  {
   "cell_type": "markdown",
   "id": "970a9f06",
   "metadata": {},
   "source": [
    "원격 모델 커넥터를 생성합니다."
   ]
  },
  {
   "cell_type": "code",
   "execution_count": 7,
   "id": "6de17196-7929-40e1-a13d-443e6ede0bb4",
   "metadata": {
    "tags": []
   },
   "outputs": [
    {
     "name": "stdout",
     "output_type": "stream",
     "text": [
      "{\"connector_id\":\"wmHLbpEBQH0FPvpr89Du\"}\n"
     ]
    }
   ],
   "source": [
    "import os\n",
    "from dotenv import dotenv_values\n",
    "import requests\n",
    "env_vars = dotenv_values('.env_api')\n",
    "\n",
    "# Bedrock Titan Embeddings G1 - Text Connector 생성\n",
    "\n",
    "connector_payload = {\n",
    "    \"name\": \"Amazon Bedrock Connector: embedding\",\n",
    "    \"description\": \"The connector to bedrock Titan embedding model\",\n",
    "    \"version\": 1,\n",
    "    \"protocol\": \"aws_sigv4\",\n",
    "    \"parameters\": {\n",
    "        \"region\": region_name,\n",
    "        \"service_name\": \"bedrock\",\n",
    "        \"model\": \"amazon.titan-embed-text-v2:0\",\n",
    "    },\n",
    "    \"credential\": {\"openAI_key\": env_vars.get(\"OPENAI_API_KEY\")},\n",
    "    \"actions\": [\n",
    "        {\n",
    "            \"action_type\": \"predict\",\n",
    "            \"method\": \"POST\",\n",
    "            \"url\": \"https://bedrock-runtime.${parameters.region}.amazonaws.com/model/${parameters.model}/invoke\",\n",
    "            \"headers\": {\"content-type\": \"application/json\", \"x-amz-content-sha256\": \"required\"},\n",
    "            \"request_body\": '{ \"inputText\": \"${parameters.inputText}\" }',\n",
    "            \"pre_process_function\": \"connector.pre_process.bedrock.embedding\",\n",
    "            \"post_process_function\": \"connector.post_process.bedrock.embedding\",\n",
    "        }\n",
    "    ],\n",
    "}\n",
    "\n",
    "# Send the request\n",
    "response = requests.post(\n",
    "    base_url + \"/connectors/_create\",\n",
    "    auth=auth,\n",
    "    json=connector_payload,\n",
    ")\n",
    "\n",
    "# Print the response\n",
    "print(response.text)"
   ]
  },
  {
   "cell_type": "code",
   "execution_count": 8,
   "id": "b79e2f09-2364-4ba2-919e-a29cb0ae768d",
   "metadata": {
    "tags": []
   },
   "outputs": [
    {
     "data": {
      "text/plain": [
       "'wmHLbpEBQH0FPvpr89Du'"
      ]
     },
     "execution_count": 8,
     "metadata": {},
     "output_type": "execute_result"
    }
   ],
   "source": [
    "obj = json.loads(response.text)\n",
    "connector_id = obj[\"connector_id\"]\n",
    "connector_id"
   ]
  },
  {
   "cell_type": "markdown",
   "id": "a8539e52",
   "metadata": {},
   "source": [
    "원격 모델을 위한 모델 그룹을 생성합니다."
   ]
  },
  {
   "cell_type": "code",
   "execution_count": 9,
   "id": "e818920b-76c2-4537-8efe-09f7d4a9bae5",
   "metadata": {
    "tags": []
   },
   "outputs": [],
   "source": [
    "register_model_group_payload = {\n",
    "    \"name\": \"Bedrock Models for titan text v2\",\n",
    "    \"description\": \"This is a model group for Amazon Bedrock remote model\",\n",
    "}\n",
    "\n",
    "response = requests.post(\n",
    "    base_url + \"/model_groups/_register\",\n",
    "    auth=auth,\n",
    "    json=register_model_group_payload,\n",
    ")\n",
    "\n",
    "# Print the response\n",
    "print(response.text)"
   ]
  },
  {
   "cell_type": "code",
   "execution_count": 19,
   "id": "5792da27-92ae-494f-96be-9bbca076a315",
   "metadata": {
    "tags": []
   },
   "outputs": [
    {
     "name": "stdout",
     "output_type": "stream",
     "text": [
      "sGHLSpEBQH0FPvpr6syc\n"
     ]
    }
   ],
   "source": [
    "obj = json.loads(response.text)\n",
    "try:\n",
    "    model_group_id = obj[\"model_group_id\"]\n",
    "except:\n",
    "    model_group_id = obj['error']['reason'].split(': ')[1][:-1]\n",
    "print(model_group_id)"
   ]
  },
  {
   "cell_type": "markdown",
   "id": "5112d7bb",
   "metadata": {},
   "source": [
    "앞서 생성한 커넥터와 모델 그룹을 사용하여 모델을 등록합니다."
   ]
  },
  {
   "cell_type": "code",
   "execution_count": 21,
   "id": "a3e22f67-dfdf-4795-8278-3d2904017d89",
   "metadata": {
    "tags": []
   },
   "outputs": [
    {
     "name": "stdout",
     "output_type": "stream",
     "text": [
      "{\"task_id\":\"w2HPbpEBQH0FPvprOtAR\",\"status\":\"CREATED\",\"model_id\":\"xGHPbpEBQH0FPvprOtAr\"}\n"
     ]
    }
   ],
   "source": [
    "register_model_payload = {\n",
    "    \"name\": \"Bedrock text embedding model\",\n",
    "    \"function_name\": \"remote\",\n",
    "    \"model_group_id\": model_group_id,\n",
    "    \"description\": \"This is Bedrock Titan Embeddings V2 - Text model\",\n",
    "    \"connector_id\": connector_id,\n",
    "}\n",
    "\n",
    "# Send the request\n",
    "response = requests.post(\n",
    "    base_url + \"/models/_register\",\n",
    "    auth=auth,\n",
    "    json=register_model_payload,\n",
    ")\n",
    "\n",
    "# Print the response\n",
    "print(response.text)"
   ]
  },
  {
   "cell_type": "code",
   "execution_count": 22,
   "id": "84a5feed-0216-4abc-a0a3-75e0ebf98e6c",
   "metadata": {
    "tags": []
   },
   "outputs": [
    {
     "name": "stdout",
     "output_type": "stream",
     "text": [
      "xGHPbpEBQH0FPvprOtAr\n"
     ]
    }
   ],
   "source": [
    "obj = json.loads(response.text)\n",
    "model_id = obj[\"model_id\"]\n",
    "print(model_id)"
   ]
  },
  {
   "cell_type": "markdown",
   "id": "adf5dd39",
   "metadata": {},
   "source": [
    "앞서 등록한 모델을 배포합니다."
   ]
  },
  {
   "cell_type": "code",
   "execution_count": 23,
   "id": "7822edaf-64c8-459c-99ba-0df7e0de62d0",
   "metadata": {
    "tags": []
   },
   "outputs": [
    {
     "name": "stdout",
     "output_type": "stream",
     "text": [
      "{\"task_id\":\"xWHPbpEBQH0FPvpratBc\",\"task_type\":\"DEPLOY_MODEL\",\"status\":\"COMPLETED\"}\n"
     ]
    }
   ],
   "source": [
    "deploy_model_payload = {}\n",
    "\n",
    "# Send the request\n",
    "response = requests.post(\n",
    "    base_url + \"/models/\" + model_id + \"/_deploy\",\n",
    "    auth=auth,\n",
    "    json=deploy_model_payload,\n",
    ")\n",
    "\n",
    "# Print the response\n",
    "print(response.text)"
   ]
  },
  {
   "cell_type": "markdown",
   "id": "45cfae81",
   "metadata": {},
   "source": [
    "모델이 잘 배포되었는지 테스트해봅니다."
   ]
  },
  {
   "cell_type": "code",
   "execution_count": 24,
   "id": "4eef10b3-d58d-47ad-b847-431f33e42c48",
   "metadata": {},
   "outputs": [
    {
     "data": {
      "text/plain": [
       "'https://localhost:9200/_plugins/_ml'"
      ]
     },
     "execution_count": 24,
     "metadata": {},
     "output_type": "execute_result"
    }
   ],
   "source": [
    "base_url"
   ]
  },
  {
   "cell_type": "code",
   "execution_count": 25,
   "id": "cf704f40-33af-4e65-a9e7-180c29efede1",
   "metadata": {
    "tags": []
   },
   "outputs": [],
   "source": [
    "predict_model_payload = {\"parameters\": {\"inputText\": \"hello goodbye\"}}\n",
    "\n",
    "# Send the request\n",
    "response = requests.post(\n",
    "    base_url + \"/models/\" + model_id + \"/_predict\",\n",
    "    auth=auth,\n",
    "    json=predict_model_payload,\n",
    ")\n",
    "\n",
    "# Print the response\n",
    "len(response.json()[\"inference_results\"][0][\"output\"][0][\"data\"])"
   ]
  },
  {
   "cell_type": "markdown",
   "id": "e8f89755",
   "metadata": {},
   "source": [
    "이후 테스트에 사용하기 위해 모델 아이디를 저장합니다."
   ]
  },
  {
   "cell_type": "code",
   "execution_count": null,
   "id": "cef7cbb3-79e0-4c7e-bae5-79b15e68b06e",
   "metadata": {},
   "outputs": [],
   "source": [
    "%store model_id"
   ]
  },
  {
   "cell_type": "code",
   "execution_count": 27,
   "id": "3ee10523-552f-4c5e-9918-15b833779c41",
   "metadata": {},
   "outputs": [
    {
     "data": {
      "text/plain": [
       "'xGHPbpEBQH0FPvprOtAr'"
      ]
     },
     "execution_count": 27,
     "metadata": {},
     "output_type": "execute_result"
    }
   ],
   "source": [
    "model_id"
   ]
  }
 ],
 "metadata": {
  "kernelspec": {
   "display_name": "opensearch-workhop",
   "language": "python",
   "name": "python3"
  },
  "language_info": {
   "codemirror_mode": {
    "name": "ipython",
    "version": 3
   },
   "file_extension": ".py",
   "mimetype": "text/x-python",
   "name": "python",
   "nbconvert_exporter": "python",
   "pygments_lexer": "ipython3",
   "version": "3.11.9"
  }
 },
 "nbformat": 4,
 "nbformat_minor": 5
}
