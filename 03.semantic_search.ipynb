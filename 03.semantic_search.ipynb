{
 "cells": [
  {
   "cell_type": "markdown",
   "metadata": {},
   "source": [
    "# 시맨틱 검색 - Semantic Search\n"
   ]
  },
  {
   "cell_type": "markdown",
   "metadata": {},
   "source": [
    "## 시맨틱 검색 (Semantic Search)\n",
    "\n",
    "오픈서치의 시맨틱 검색은 검색 쿼리의 의미를 이해하고, 그에 따라 가장 관련성 높은 결과를 사용자에게 제공하는 기능입니다. 이는 전통적인 키워드 기반 검색과 달리, 검색 쿼리의 맥락과 의미를 분석하여 보다 정확하고 관련성 높은 검색 결과를 제공합니다. 예를 들어 \"아마존\"이라는 단어가 상품명인지, 회사명인지, 아니면 지역명인지 등 쿼리의 의미를 파악하여 그에 맞는 검색 결과를 제공합니다.\n"
   ]
  },
  {
   "cell_type": "markdown",
   "metadata": {},
   "source": [
    "## 신경망 검색(Neural Search)\n",
    "\n",
    "수년 동안 고객들은 OpenSearch k-NN을 기반으로 시맨틱 검색 애플리케이션을 구축하기 위해서는 텍스트 임베딩 모델을 검색 및 수집 파이프라인에 통합하기 위해 추가적인 미들웨어를 구축해야 하는 부담이 있었습니다. 이제 Amazon SageMaker와 Amazon Bedrock와의 통합을 통해 신경망 검색을 강화하며 클러스터에서 실행되는 시맨틱 검색 파이프라인을 지원할 수 있습니다.\n",
    "\n",
    "신경망 검색은 텍스트를 벡터로 변환하고 인덱싱 시간과 검색 시간 모두에서 벡터 검색을 용이하게 합니다. 인덱싱 중에 신경망 검색은 문서 텍스트를 벡터 임베딩으로 변환하고 텍스트와 그 벡터 임베딩을 모두 벡터 인덱스에 인덱싱합니다. 신경망 쿼리를 사용하는 경우 신경망 검색은 쿼리 텍스트를 벡터 임베딩으로 변환하고, 벡터 검색을 사용하여 쿼리와 문서 임베딩을 비교한 다음 가장 가까운 결과를 반환합니다.\n",
    "\n",
    "문서를 인덱스에 인제스트하기 전에 문서는 기계 학습(ML) 모델을 통과하게 되며, 이 모델은 문서 필드에 대한 벡터 임베딩을 생성합니다. 검색 요청을 보내면 쿼리 텍스트나 이미지도 ML 모델을 통과하여 해당 벡터 임베딩을 생성합니다. 그런 다음 신경망 검색이 임베딩에 대한 벡터 검색을 수행하고 일치하는 문서를 반환합니다.\n",
    "\n",
    "신경망 검색을 사용하면 OpenSearch API를 통해 인간의 언어로 검색 쿼리를 실행하고, Amazon SageMaker에서 호스팅되거나 Amazon Bedrock에서 관리하는 텍스트 임베딩을 통해 의미론적 이해와 유사성을 고려한 텍스트 임베딩을 사용하여 더 정확한 결과를 제공할 수 있습니다.\n"
   ]
  },
  {
   "cell_type": "markdown",
   "metadata": {},
   "source": [
    "## 사전준비\n"
   ]
  },
  {
   "cell_type": "markdown",
   "metadata": {},
   "source": [
    "필요한 패키지를 설치합니다.\n"
   ]
  },
  {
   "cell_type": "code",
   "execution_count": 1,
   "metadata": {},
   "outputs": [],
   "source": [
    "%store -r model_id"
   ]
  },
  {
   "cell_type": "code",
   "execution_count": 2,
   "metadata": {},
   "outputs": [
    {
     "name": "stdout",
     "output_type": "stream",
     "text": [
      "xGHPbpEBQH0FPvprOtAr\n"
     ]
    }
   ],
   "source": [
    "print(model_id)"
   ]
  },
  {
   "cell_type": "markdown",
   "metadata": {},
   "source": [
    "# 데이터 준비"
   ]
  },
  {
   "cell_type": "markdown",
   "metadata": {},
   "source": [
    "키워드 검색 단계에서와 마찬가지로 데이터를 준비합니다.\n"
   ]
  },
  {
   "cell_type": "code",
   "execution_count": 3,
   "metadata": {},
   "outputs": [
    {
     "data": {
      "text/html": [
       "<div>\n",
       "<style scoped>\n",
       "    .dataframe tbody tr th:only-of-type {\n",
       "        vertical-align: middle;\n",
       "    }\n",
       "\n",
       "    .dataframe tbody tr th {\n",
       "        vertical-align: top;\n",
       "    }\n",
       "\n",
       "    .dataframe thead th {\n",
       "        text-align: right;\n",
       "    }\n",
       "</style>\n",
       "<table border=\"1\" class=\"dataframe\">\n",
       "  <thead>\n",
       "    <tr style=\"text-align: right;\">\n",
       "      <th></th>\n",
       "      <th>title</th>\n",
       "      <th>genre</th>\n",
       "      <th>year</th>\n",
       "      <th>date</th>\n",
       "      <th>rating</th>\n",
       "      <th>vote_count</th>\n",
       "      <th>plot</th>\n",
       "      <th>main_act</th>\n",
       "      <th>supp_act</th>\n",
       "    </tr>\n",
       "  </thead>\n",
       "  <tbody>\n",
       "    <tr>\n",
       "      <th>0</th>\n",
       "      <td>변호인</td>\n",
       "      <td>드라마</td>\n",
       "      <td>2013</td>\n",
       "      <td>12.18</td>\n",
       "      <td>8.99</td>\n",
       "      <td>94574</td>\n",
       "      <td>198 년대 초 부산. 빽 없고, 돈 없고, 가방끈도 짧은 세무 변호사 송우석(송강...</td>\n",
       "      <td>송강호|김영애|오달수|곽도원|임시완</td>\n",
       "      <td>송영창|정원중|조민기|이항나|이성민|차은재|차광수|한기중|심희섭|조완기</td>\n",
       "    </tr>\n",
       "    <tr>\n",
       "      <th>1</th>\n",
       "      <td>어벤져스: 엔드게임</td>\n",
       "      <td>액션|SF</td>\n",
       "      <td>2019</td>\n",
       "      <td>4.24</td>\n",
       "      <td>9.38</td>\n",
       "      <td>68923</td>\n",
       "      <td>인피니티 워 이후 절반만 살아남은 지구 마지막 희망이 된 어벤져스 먼저 떠난 그들을...</td>\n",
       "      <td>로버트 다우니 주니어|크리스 에반스|크리스 헴스워스|마크 러팔로|스칼렛 요한슨|제레...</td>\n",
       "      <td>베네딕트 컴버배치|조 샐다나|크리스 프랫|채드윅 보스만|톰 홀랜드|안소니 마키|기네...</td>\n",
       "    </tr>\n",
       "    <tr>\n",
       "      <th>2</th>\n",
       "      <td>명량</td>\n",
       "      <td>액션|드라마</td>\n",
       "      <td>2014</td>\n",
       "      <td>7.30</td>\n",
       "      <td>8.44</td>\n",
       "      <td>66953</td>\n",
       "      <td>1597년 임진왜란 6년, 오랜 전쟁으로 인해 혼란이 극에 달한 조선. 무서운 속도...</td>\n",
       "      <td>최민식|류승룡|조진웅</td>\n",
       "      <td>진구|이정현|김명곤|권율|노민우|김태훈|오타니 료헤이|이승준|김강일|박보검|이해영|...</td>\n",
       "    </tr>\n",
       "    <tr>\n",
       "      <th>3</th>\n",
       "      <td>부산행</td>\n",
       "      <td>액션|스릴러</td>\n",
       "      <td>2016</td>\n",
       "      <td>7.20</td>\n",
       "      <td>8.00</td>\n",
       "      <td>59184</td>\n",
       "      <td>정체불명의 바이러스가 전국으로 확산되고 대한민국 긴급재난경보령이 선포된 가운데, 열...</td>\n",
       "      <td>공유|정유미|마동석|김수안|김의성|최우식|안소희</td>\n",
       "      <td>최귀화|정석용|예수정|박명신|장혁진</td>\n",
       "    </tr>\n",
       "    <tr>\n",
       "      <th>4</th>\n",
       "      <td>신과함께-죄와 벌</td>\n",
       "      <td>판타지|드라마</td>\n",
       "      <td>2017</td>\n",
       "      <td>12.20</td>\n",
       "      <td>7.83</td>\n",
       "      <td>58124</td>\n",
       "      <td>저승 법에 의하면, 모든 인간은 사후 49일 동안 7번의 재판을 거쳐야만 한다. 살...</td>\n",
       "      <td>하정우|차태현|주지훈|김향기|김동욱|마동석</td>\n",
       "      <td>오달수|임원희|디오|이준혁|예수정|장광|정해균|김수안|남일우|정지훈</td>\n",
       "    </tr>\n",
       "  </tbody>\n",
       "</table>\n",
       "</div>"
      ],
      "text/plain": [
       "        title    genre  year   date  rating  vote_count  \\\n",
       "0         변호인      드라마  2013  12.18    8.99       94574   \n",
       "1  어벤져스: 엔드게임    액션|SF  2019   4.24    9.38       68923   \n",
       "2          명량   액션|드라마  2014   7.30    8.44       66953   \n",
       "3         부산행   액션|스릴러  2016   7.20    8.00       59184   \n",
       "4   신과함께-죄와 벌  판타지|드라마  2017  12.20    7.83       58124   \n",
       "\n",
       "                                                plot  \\\n",
       "0  198 년대 초 부산. 빽 없고, 돈 없고, 가방끈도 짧은 세무 변호사 송우석(송강...   \n",
       "1  인피니티 워 이후 절반만 살아남은 지구 마지막 희망이 된 어벤져스 먼저 떠난 그들을...   \n",
       "2  1597년 임진왜란 6년, 오랜 전쟁으로 인해 혼란이 극에 달한 조선. 무서운 속도...   \n",
       "3  정체불명의 바이러스가 전국으로 확산되고 대한민국 긴급재난경보령이 선포된 가운데, 열...   \n",
       "4  저승 법에 의하면, 모든 인간은 사후 49일 동안 7번의 재판을 거쳐야만 한다. 살...   \n",
       "\n",
       "                                            main_act  \\\n",
       "0                                송강호|김영애|오달수|곽도원|임시완   \n",
       "1  로버트 다우니 주니어|크리스 에반스|크리스 헴스워스|마크 러팔로|스칼렛 요한슨|제레...   \n",
       "2                                        최민식|류승룡|조진웅   \n",
       "3                         공유|정유미|마동석|김수안|김의성|최우식|안소희   \n",
       "4                            하정우|차태현|주지훈|김향기|김동욱|마동석   \n",
       "\n",
       "                                            supp_act  \n",
       "0            송영창|정원중|조민기|이항나|이성민|차은재|차광수|한기중|심희섭|조완기  \n",
       "1  베네딕트 컴버배치|조 샐다나|크리스 프랫|채드윅 보스만|톰 홀랜드|안소니 마키|기네...  \n",
       "2  진구|이정현|김명곤|권율|노민우|김태훈|오타니 료헤이|이승준|김강일|박보검|이해영|...  \n",
       "3                                최귀화|정석용|예수정|박명신|장혁진  \n",
       "4              오달수|임원희|디오|이준혁|예수정|장광|정해균|김수안|남일우|정지훈  "
      ]
     },
     "execution_count": 3,
     "metadata": {},
     "output_type": "execute_result"
    }
   ],
   "source": [
    "import pandas as pd\n",
    "import requests\n",
    "\n",
    "df = pd.read_csv(\"./data/movies.csv\", low_memory=False)\n",
    "df.head(5)"
   ]
  },
  {
   "cell_type": "markdown",
   "metadata": {},
   "source": [
    "데이터의 스키마를 확인합니다.\n"
   ]
  },
  {
   "cell_type": "code",
   "execution_count": 4,
   "metadata": {},
   "outputs": [
    {
     "name": "stdout",
     "output_type": "stream",
     "text": [
      "<class 'pandas.core.frame.DataFrame'>\n",
      "RangeIndex: 1000 entries, 0 to 999\n",
      "Data columns (total 9 columns):\n",
      " #   Column      Non-Null Count  Dtype  \n",
      "---  ------      --------------  -----  \n",
      " 0   title       1000 non-null   object \n",
      " 1   genre       1000 non-null   object \n",
      " 2   year        1000 non-null   int64  \n",
      " 3   date        1000 non-null   float64\n",
      " 4   rating      1000 non-null   float64\n",
      " 5   vote_count  1000 non-null   int64  \n",
      " 6   plot        1000 non-null   object \n",
      " 7   main_act    1000 non-null   object \n",
      " 8   supp_act    1000 non-null   object \n",
      "dtypes: float64(2), int64(2), object(5)\n",
      "memory usage: 70.4+ KB\n"
     ]
    }
   ],
   "source": [
    "df.info()"
   ]
  },
  {
   "cell_type": "code",
   "execution_count": 5,
   "metadata": {},
   "outputs": [
    {
     "data": {
      "text/plain": [
       "5"
      ]
     },
     "execution_count": 5,
     "metadata": {},
     "output_type": "execute_result"
    }
   ],
   "source": [
    "from tiktoken._educational import *\n",
    "\n",
    "# Train a BPE tokeniser on a small amount of text\n",
    "enc = tiktoken.get_encoding(\"cl100k_base\")\n",
    "len(enc.encode(\"hello world aaaaaaaaaaaa\"))"
   ]
  },
  {
   "cell_type": "markdown",
   "metadata": {},
   "source": [
    "벡터 필드에 영화에 대한 전체적인 정보를 담기 위해 전체 컬럼을 모두 조합한 `text` 컬럼을 추가합니다. 이 `text` 필드는 이후 ingest pipeline에 의해 임베딩될 필드입니다.\n",
    "이 워크샵에서 사용할 임베딩 모델인 Cohere Embed Multilingual의 Max Sequence 길이는 512입니다. 따라서 여기에 맞게 임베딩할 plot 컬럼의 최대 길이를 512로 truncate합니다."
   ]
  },
  {
   "cell_type": "code",
   "execution_count": 6,
   "metadata": {},
   "outputs": [
    {
     "data": {
      "text/html": [
       "<div>\n",
       "<style scoped>\n",
       "    .dataframe tbody tr th:only-of-type {\n",
       "        vertical-align: middle;\n",
       "    }\n",
       "\n",
       "    .dataframe tbody tr th {\n",
       "        vertical-align: top;\n",
       "    }\n",
       "\n",
       "    .dataframe thead th {\n",
       "        text-align: right;\n",
       "    }\n",
       "</style>\n",
       "<table border=\"1\" class=\"dataframe\">\n",
       "  <thead>\n",
       "    <tr style=\"text-align: right;\">\n",
       "      <th></th>\n",
       "      <th>title</th>\n",
       "      <th>genre</th>\n",
       "      <th>year</th>\n",
       "      <th>date</th>\n",
       "      <th>rating</th>\n",
       "      <th>vote_count</th>\n",
       "      <th>plot</th>\n",
       "      <th>main_act</th>\n",
       "      <th>supp_act</th>\n",
       "      <th>text</th>\n",
       "    </tr>\n",
       "  </thead>\n",
       "  <tbody>\n",
       "    <tr>\n",
       "      <th>0</th>\n",
       "      <td>변호인</td>\n",
       "      <td>드라마</td>\n",
       "      <td>2013</td>\n",
       "      <td>12.18</td>\n",
       "      <td>8.99</td>\n",
       "      <td>94574</td>\n",
       "      <td>198 년대 초 부산. 빽 없고, 돈 없고, 가방끈도 짧은 세무 변호사 송우석(송강...</td>\n",
       "      <td>송강호|김영애|오달수|곽도원|임시완</td>\n",
       "      <td>송영창|정원중|조민기|이항나|이성민|차은재|차광수|한기중|심희섭|조완기</td>\n",
       "      <td>title: 변호인 | genre: 드라마 | year: 2013 | date: 1...</td>\n",
       "    </tr>\n",
       "    <tr>\n",
       "      <th>1</th>\n",
       "      <td>어벤져스: 엔드게임</td>\n",
       "      <td>액션|SF</td>\n",
       "      <td>2019</td>\n",
       "      <td>4.24</td>\n",
       "      <td>9.38</td>\n",
       "      <td>68923</td>\n",
       "      <td>인피니티 워 이후 절반만 살아남은 지구 마지막 희망이 된 어벤져스 먼저 떠난 그들을...</td>\n",
       "      <td>로버트 다우니 주니어|크리스 에반스|크리스 헴스워스|마크 러팔로|스칼렛 요한슨|제레...</td>\n",
       "      <td>베네딕트 컴버배치|조 샐다나|크리스 프랫|채드윅 보스만|톰 홀랜드|안소니 마키|기네...</td>\n",
       "      <td>title: 어벤져스: 엔드게임 | genre: 액션|SF | year: 2019 ...</td>\n",
       "    </tr>\n",
       "    <tr>\n",
       "      <th>2</th>\n",
       "      <td>명량</td>\n",
       "      <td>액션|드라마</td>\n",
       "      <td>2014</td>\n",
       "      <td>7.30</td>\n",
       "      <td>8.44</td>\n",
       "      <td>66953</td>\n",
       "      <td>1597년 임진왜란 6년, 오랜 전쟁으로 인해 혼란이 극에 달한 조선. 무서운 속도...</td>\n",
       "      <td>최민식|류승룡|조진웅</td>\n",
       "      <td>진구|이정현|김명곤|권율|노민우|김태훈|오타니 료헤이|이승준|김강일|박보검|이해영|...</td>\n",
       "      <td>title: 명량 | genre: 액션|드라마 | year: 2014 | date:...</td>\n",
       "    </tr>\n",
       "    <tr>\n",
       "      <th>3</th>\n",
       "      <td>부산행</td>\n",
       "      <td>액션|스릴러</td>\n",
       "      <td>2016</td>\n",
       "      <td>7.20</td>\n",
       "      <td>8.00</td>\n",
       "      <td>59184</td>\n",
       "      <td>정체불명의 바이러스가 전국으로 확산되고 대한민국 긴급재난경보령이 선포된 가운데, 열...</td>\n",
       "      <td>공유|정유미|마동석|김수안|김의성|최우식|안소희</td>\n",
       "      <td>최귀화|정석용|예수정|박명신|장혁진</td>\n",
       "      <td>title: 부산행 | genre: 액션|스릴러 | year: 2016 | date...</td>\n",
       "    </tr>\n",
       "    <tr>\n",
       "      <th>4</th>\n",
       "      <td>신과함께-죄와 벌</td>\n",
       "      <td>판타지|드라마</td>\n",
       "      <td>2017</td>\n",
       "      <td>12.20</td>\n",
       "      <td>7.83</td>\n",
       "      <td>58124</td>\n",
       "      <td>저승 법에 의하면, 모든 인간은 사후 49일 동안 7번의 재판을 거쳐야만 한다. 살...</td>\n",
       "      <td>하정우|차태현|주지훈|김향기|김동욱|마동석</td>\n",
       "      <td>오달수|임원희|디오|이준혁|예수정|장광|정해균|김수안|남일우|정지훈</td>\n",
       "      <td>title: 신과함께-죄와 벌 | genre: 판타지|드라마 | year: 2017...</td>\n",
       "    </tr>\n",
       "    <tr>\n",
       "      <th>5</th>\n",
       "      <td>군함도</td>\n",
       "      <td>액션|드라마</td>\n",
       "      <td>2017</td>\n",
       "      <td>7.26</td>\n",
       "      <td>5.29</td>\n",
       "      <td>53895</td>\n",
       "      <td>1945년 일제강점기. 경성 반도호텔 악단장 ‘강옥’(황정민)과 그의 하나뿐인 딸 ...</td>\n",
       "      <td>황정민|소지섭|송중기|이정현|김수안</td>\n",
       "      <td>이경영|김민재|김중희|김인우|신승환|백승철|윤경호|장성범</td>\n",
       "      <td>title: 군함도 | genre: 액션|드라마 | year: 2017 | date...</td>\n",
       "    </tr>\n",
       "    <tr>\n",
       "      <th>6</th>\n",
       "      <td>26년</td>\n",
       "      <td>액션</td>\n",
       "      <td>2012</td>\n",
       "      <td>11.29</td>\n",
       "      <td>6.40</td>\n",
       "      <td>51885</td>\n",
       "      <td>광주 수호파 중간보스 곽진배, 국가대표 사격선수 심미진, 서대문소속 경찰 권정혁, ...</td>\n",
       "      <td>진구|한혜진|임슬옹</td>\n",
       "      <td>배수빈|이경영|장광|이미도|조덕제|김의성|안석환|민복기|구성환|김민재|최귀화|김태수|장영</td>\n",
       "      <td>title: 26년 | genre: 액션 | year: 2012 | date: 11...</td>\n",
       "    </tr>\n",
       "    <tr>\n",
       "      <th>7</th>\n",
       "      <td>인터스텔라</td>\n",
       "      <td>SF</td>\n",
       "      <td>2014</td>\n",
       "      <td>11.06</td>\n",
       "      <td>9.10</td>\n",
       "      <td>50721</td>\n",
       "      <td>세계 각국의 정부와 경제가 완전히 붕괴된 미래가 다가온다. 지난 2 세기에 범한 잘...</td>\n",
       "      <td>매튜 맥커너히|앤 해서웨이|마이클 케인|제시카 차스테인</td>\n",
       "      <td>케이시 애플렉|웨스 벤틀리|토퍼 그레이스|매켄지 포이|엘렌 버스틴|존 리스고|빌 어...</td>\n",
       "      <td>title: 인터스텔라 | genre: SF | year: 2014 | date: ...</td>\n",
       "    </tr>\n",
       "    <tr>\n",
       "      <th>8</th>\n",
       "      <td>택시운전사</td>\n",
       "      <td>드라마|가족</td>\n",
       "      <td>2017</td>\n",
       "      <td>8.02</td>\n",
       "      <td>9.03</td>\n",
       "      <td>49661</td>\n",
       "      <td>택시운전사 만섭(송강호)은 외국손님을 태우고 광주에 갔다 통금 전에 돌아오면 밀린 ...</td>\n",
       "      <td>송강호|토마스 크레취만|유해진|류준열</td>\n",
       "      <td>박혁권|최귀화|차순배|신담수|류성현|엄태구|박민희|이정은|유은미|권순준|윤석호|허정...</td>\n",
       "      <td>title: 택시운전사 | genre: 드라마|가족 | year: 2017 | da...</td>\n",
       "    </tr>\n",
       "    <tr>\n",
       "      <th>9</th>\n",
       "      <td>극한직업</td>\n",
       "      <td>코미디</td>\n",
       "      <td>2019</td>\n",
       "      <td>1.23</td>\n",
       "      <td>8.50</td>\n",
       "      <td>47522</td>\n",
       "      <td>불철주야 달리고 구르지만 실적은 바닥, 급기야 해체 위기를 맞는 마약반! 더 이상 ...</td>\n",
       "      <td>류승룡|이하늬|진선규|이동휘|공명</td>\n",
       "      <td>신하균|오정세|김의성|송영규|양현민|허준석|장진희|김종수|이중옥</td>\n",
       "      <td>title: 극한직업 | genre: 코미디 | year: 2019 | date: ...</td>\n",
       "    </tr>\n",
       "  </tbody>\n",
       "</table>\n",
       "</div>"
      ],
      "text/plain": [
       "        title    genre  year   date  rating  vote_count  \\\n",
       "0         변호인      드라마  2013  12.18    8.99       94574   \n",
       "1  어벤져스: 엔드게임    액션|SF  2019   4.24    9.38       68923   \n",
       "2          명량   액션|드라마  2014   7.30    8.44       66953   \n",
       "3         부산행   액션|스릴러  2016   7.20    8.00       59184   \n",
       "4   신과함께-죄와 벌  판타지|드라마  2017  12.20    7.83       58124   \n",
       "5         군함도   액션|드라마  2017   7.26    5.29       53895   \n",
       "6         26년       액션  2012  11.29    6.40       51885   \n",
       "7       인터스텔라       SF  2014  11.06    9.10       50721   \n",
       "8       택시운전사   드라마|가족  2017   8.02    9.03       49661   \n",
       "9        극한직업      코미디  2019   1.23    8.50       47522   \n",
       "\n",
       "                                                plot  \\\n",
       "0  198 년대 초 부산. 빽 없고, 돈 없고, 가방끈도 짧은 세무 변호사 송우석(송강...   \n",
       "1  인피니티 워 이후 절반만 살아남은 지구 마지막 희망이 된 어벤져스 먼저 떠난 그들을...   \n",
       "2  1597년 임진왜란 6년, 오랜 전쟁으로 인해 혼란이 극에 달한 조선. 무서운 속도...   \n",
       "3  정체불명의 바이러스가 전국으로 확산되고 대한민국 긴급재난경보령이 선포된 가운데, 열...   \n",
       "4  저승 법에 의하면, 모든 인간은 사후 49일 동안 7번의 재판을 거쳐야만 한다. 살...   \n",
       "5  1945년 일제강점기. 경성 반도호텔 악단장 ‘강옥’(황정민)과 그의 하나뿐인 딸 ...   \n",
       "6  광주 수호파 중간보스 곽진배, 국가대표 사격선수 심미진, 서대문소속 경찰 권정혁, ...   \n",
       "7  세계 각국의 정부와 경제가 완전히 붕괴된 미래가 다가온다. 지난 2 세기에 범한 잘...   \n",
       "8  택시운전사 만섭(송강호)은 외국손님을 태우고 광주에 갔다 통금 전에 돌아오면 밀린 ...   \n",
       "9  불철주야 달리고 구르지만 실적은 바닥, 급기야 해체 위기를 맞는 마약반! 더 이상 ...   \n",
       "\n",
       "                                            main_act  \\\n",
       "0                                송강호|김영애|오달수|곽도원|임시완   \n",
       "1  로버트 다우니 주니어|크리스 에반스|크리스 헴스워스|마크 러팔로|스칼렛 요한슨|제레...   \n",
       "2                                        최민식|류승룡|조진웅   \n",
       "3                         공유|정유미|마동석|김수안|김의성|최우식|안소희   \n",
       "4                            하정우|차태현|주지훈|김향기|김동욱|마동석   \n",
       "5                                황정민|소지섭|송중기|이정현|김수안   \n",
       "6                                         진구|한혜진|임슬옹   \n",
       "7                     매튜 맥커너히|앤 해서웨이|마이클 케인|제시카 차스테인   \n",
       "8                               송강호|토마스 크레취만|유해진|류준열   \n",
       "9                                 류승룡|이하늬|진선규|이동휘|공명   \n",
       "\n",
       "                                            supp_act  \\\n",
       "0            송영창|정원중|조민기|이항나|이성민|차은재|차광수|한기중|심희섭|조완기   \n",
       "1  베네딕트 컴버배치|조 샐다나|크리스 프랫|채드윅 보스만|톰 홀랜드|안소니 마키|기네...   \n",
       "2  진구|이정현|김명곤|권율|노민우|김태훈|오타니 료헤이|이승준|김강일|박보검|이해영|...   \n",
       "3                                최귀화|정석용|예수정|박명신|장혁진   \n",
       "4              오달수|임원희|디오|이준혁|예수정|장광|정해균|김수안|남일우|정지훈   \n",
       "5                    이경영|김민재|김중희|김인우|신승환|백승철|윤경호|장성범   \n",
       "6  배수빈|이경영|장광|이미도|조덕제|김의성|안석환|민복기|구성환|김민재|최귀화|김태수|장영   \n",
       "7  케이시 애플렉|웨스 벤틀리|토퍼 그레이스|매켄지 포이|엘렌 버스틴|존 리스고|빌 어...   \n",
       "8  박혁권|최귀화|차순배|신담수|류성현|엄태구|박민희|이정은|유은미|권순준|윤석호|허정...   \n",
       "9                신하균|오정세|김의성|송영규|양현민|허준석|장진희|김종수|이중옥   \n",
       "\n",
       "                                                text  \n",
       "0  title: 변호인 | genre: 드라마 | year: 2013 | date: 1...  \n",
       "1  title: 어벤져스: 엔드게임 | genre: 액션|SF | year: 2019 ...  \n",
       "2  title: 명량 | genre: 액션|드라마 | year: 2014 | date:...  \n",
       "3  title: 부산행 | genre: 액션|스릴러 | year: 2016 | date...  \n",
       "4  title: 신과함께-죄와 벌 | genre: 판타지|드라마 | year: 2017...  \n",
       "5  title: 군함도 | genre: 액션|드라마 | year: 2017 | date...  \n",
       "6  title: 26년 | genre: 액션 | year: 2012 | date: 11...  \n",
       "7  title: 인터스텔라 | genre: SF | year: 2014 | date: ...  \n",
       "8  title: 택시운전사 | genre: 드라마|가족 | year: 2017 | da...  \n",
       "9  title: 극한직업 | genre: 코미디 | year: 2019 | date: ...  "
      ]
     },
     "execution_count": 6,
     "metadata": {},
     "output_type": "execute_result"
    }
   ],
   "source": [
    "import pandas as pd\n",
    "\n",
    "\n",
    "def create_text(row):\n",
    "    text = \"\"\n",
    "    for col, val in row.items():\n",
    "        text += f\"{col}: {val} | \"\n",
    "\n",
    "    encoding = tiktoken.get_encoding(\"cl100k_base\")\n",
    "\n",
    "    tokens = encoding.encode(text)\n",
    "\n",
    "    # Get the number of tokens\n",
    "    num_tokens = len(tokens)\n",
    "    # print(f\"Number of tokens: {num_tokens}\")\n",
    "\n",
    "    # Truncate the text to 500 tokens\n",
    "    max_tokens = 8000\n",
    "    if num_tokens > max_tokens:\n",
    "        truncated_tokens = tokens[:max_tokens]\n",
    "        truncated_text = encoding.decode(truncated_tokens)\n",
    "        print(f\"Truncated text ({max_tokens} tokens): {truncated_text}\")\n",
    "        return truncated_text\n",
    "    else:\n",
    "        return text\n",
    "\n",
    "\n",
    "# Assuming your DataFrame is called 'df'\n",
    "df[\"text\"] = df.apply(create_text, axis=1)\n",
    "df.head(10)"
   ]
  },
  {
   "cell_type": "markdown",
   "metadata": {},
   "source": [
    "### OpenSearch 도메인에 연결\n"
   ]
  },
  {
   "cell_type": "code",
   "execution_count": 7,
   "metadata": {},
   "outputs": [],
   "source": [
    "from opensearchpy import OpenSearch, RequestsHttpConnection\n",
    "import json\n",
    "\n",
    "# OpenSearch 연결 설정\n",
    "host = 'localhost'\n",
    "port = 9200\n",
    "auth = ('admin', 'TestUser2@')  # 초기 설정한 어드민 비밀번호 사용\n",
    "\n",
    "aos_client = OpenSearch(\n",
    "    hosts=[{'host': host, 'port': port}],\n",
    "    http_auth=auth,\n",
    "    use_ssl=True,\n",
    "    verify_certs=False,\n",
    "    ssl_show_warn=False,\n",
    ")"
   ]
  },
  {
   "cell_type": "markdown",
   "metadata": {},
   "source": [
    "## 데이터 임베딩을 위한 Ingest Pipeline 생성\n"
   ]
  },
  {
   "cell_type": "markdown",
   "metadata": {},
   "source": [
    "모델 배포 과정을 참고하여 배포된 모델의 ID를 확인하고 아래와 같이 변수에 초기화합니다.\n"
   ]
  },
  {
   "cell_type": "code",
   "execution_count": 8,
   "metadata": {},
   "outputs": [],
   "source": [
    "import requests\n",
    "\n",
    "# search_model = {\"query\": {\"match\": {\"name\": \"OpenSearch-Cohere\"}}, \"size\": 10}\n",
    "\n",
    "# response = requests.get(\n",
    "#     \"https://\" + aos_host + \"/_plugins/_ml/models/_search\", auth=auth, json=search_model\n",
    "# )\n",
    "# model_info = json.loads(response.text)\n",
    "# model_id = model_info[\"hits\"][\"hits\"][0][\"_id\"]\n",
    "# model_id"
   ]
  },
  {
   "cell_type": "markdown",
   "metadata": {},
   "source": [
    "## 인제스트 파이프라인 생성\n",
    "\n",
    "영화의 줄거리 정보를 가진 특정 필드(\"plot\")에 대한 벡터 임베딩을 생성하는 파이프라인을 설정합니다. 이러한 임베딩은 검색 인덱스 필드(\"vector_field\")에 저장되며, 효율적인 유사성 검색 및 검색 작업에 사용될 수 있습니다.\n"
   ]
  },
  {
   "cell_type": "code",
   "execution_count": 9,
   "metadata": {},
   "outputs": [],
   "source": [
    "base_url = \"https://localhost:9200/_plugins/_ml\"\n",
    "host = 'localhost'\n",
    "port = 9200\n",
    "auth = ('admin', 'TestUser2@')  # 초기 설정한 어드민 비밀번호 사용"
   ]
  },
  {
   "cell_type": "code",
   "execution_count": 10,
   "metadata": {},
   "outputs": [],
   "source": [
    "response = requests.get(\n",
    "    base_url + \"/models/\" + model_id,\n",
    "    auth=auth,\n",
    "    verify=False\n",
    ")"
   ]
  },
  {
   "cell_type": "code",
   "execution_count": 11,
   "metadata": {},
   "outputs": [
    {
     "data": {
      "text/plain": [
       "{'name': 'OpenAI text embedding model',\n",
       " 'model_group_id': 'sGHLSpEBQH0FPvpr6syc',\n",
       " 'algorithm': 'REMOTE',\n",
       " 'model_version': '3',\n",
       " 'description': 'This is OpenAI Embeddings text-embedding-3-small',\n",
       " 'model_state': 'DEPLOYED',\n",
       " 'created_time': 1724140960299,\n",
       " 'last_updated_time': 1724140972669,\n",
       " 'last_deployed_time': 1724140972669,\n",
       " 'auto_redeploy_retry_times': 0,\n",
       " 'planning_worker_node_count': 1,\n",
       " 'current_worker_node_count': 1,\n",
       " 'planning_worker_nodes': ['tz0Gz8FBRMul2wMCgblyQQ'],\n",
       " 'deploy_to_all_nodes': True,\n",
       " 'is_hidden': False,\n",
       " 'connector_id': 'wmHLbpEBQH0FPvpr89Du'}"
      ]
     },
     "execution_count": 11,
     "metadata": {},
     "output_type": "execute_result"
    }
   ],
   "source": [
    "response.json()"
   ]
  },
  {
   "cell_type": "code",
   "execution_count": 12,
   "metadata": {},
   "outputs": [
    {
     "data": {
      "text/plain": [
       "{'acknowledged': True}"
      ]
     },
     "execution_count": 12,
     "metadata": {},
     "output_type": "execute_result"
    }
   ],
   "source": [
    "pipeline = {\n",
    "    \"description\": \"OpenAI text embedding\",\n",
    "    \"processors\": [\n",
    "        {\n",
    "            \"text_embedding\": {\n",
    "                \"model_id\": model_id,\n",
    "                \"field_map\": {\n",
    "                    \"textInput\": \"vector_field\",\n",
    "                },\n",
    "            }\n",
    "        }\n",
    "    ],\n",
    "}\n",
    "# pipeline = {\n",
    "#     \"description\": \"Test copy pipeline\",\n",
    "#     \"processors\": [\n",
    "#         {\n",
    "#             \"set\": {\n",
    "#                 \"field\": \"vector_field\",\n",
    "#                 \"value\": \"{{textInput}}\"  # textInput 필드의 내용을 vector_field로 복사\n",
    "#             }\n",
    "#         }\n",
    "#     ],\n",
    "# }\n",
    "\n",
    "pipeline_id = \"movie_plot_embedding_pipeline\"\n",
    "aos_client.ingest.delete_pipeline(id=pipeline_id)\n",
    "aos_client.ingest.put_pipeline(id=pipeline_id, body=pipeline)"
   ]
  },
  {
   "cell_type": "code",
   "execution_count": 13,
   "metadata": {},
   "outputs": [
    {
     "name": "stdout",
     "output_type": "stream",
     "text": [
      "{'_index': 'movie_plots_index', '_id': '1', '_version': 5, 'result': 'updated', '_shards': {'total': 2, 'successful': 1, 'failed': 0}, '_seq_no': 4, '_primary_term': 1}\n"
     ]
    }
   ],
   "source": [
    "# 문서 인덱싱\n",
    "document = {\n",
    "    \"inputText\": \"Example movie plot goes here\"\n",
    "}\n",
    "\n",
    "response = aos_client.index(\n",
    "    index=\"movie_plots_index\",\n",
    "    id=\"1\",\n",
    "    body=document,\n",
    "    pipeline=pipeline_id\n",
    ")\n",
    "\n",
    "print(response)"
   ]
  },
  {
   "cell_type": "code",
   "execution_count": 14,
   "metadata": {},
   "outputs": [
    {
     "name": "stdout",
     "output_type": "stream",
     "text": [
      "{'_index': 'movie_plots_index', '_id': '1', '_version': 5, '_seq_no': 4, '_primary_term': 1, 'found': True, '_source': {'inputText': 'Example movie plot goes here'}}\n"
     ]
    }
   ],
   "source": [
    "response = aos_client.get(index=\"movie_plots_index\", id=\"1\")\n",
    "vector_field = response['_source'].get('vector_field')\n",
    "\n",
    "print(response)"
   ]
  },
  {
   "cell_type": "markdown",
   "metadata": {},
   "source": [
    "## 인덱스 생성\n",
    "\n",
    "movie_semantic 인덱스를 생성합니다. 아래 세팅 및 맵핑 정보 중 중요한 것은 다음과 같습니다.\n",
    "\n",
    "-   index.knn: KNN 검색을 위해 True로 설정합니다.\n",
    "-   default_pipeline: 위 단계에서 생성한 pipeline_id를 제공합니다.\n",
    "-   index.knn.space_type: 임베딩 벡터끼리의 유사도를 파악할 때 사용할 알고리즘을 cosinesimil로 지정합니다\n"
   ]
  },
  {
   "cell_type": "code",
   "execution_count": 16,
   "metadata": {},
   "outputs": [
    {
     "data": {
      "text/plain": [
       "{'acknowledged': True, 'shards_acknowledged': True, 'index': 'movie_semantic'}"
      ]
     },
     "execution_count": 16,
     "metadata": {},
     "output_type": "execute_result"
    }
   ],
   "source": [
    "index_name = \"movie_semantic\"\n",
    "\n",
    "# aos_client.indices.delete(index=index_name)\n",
    "\n",
    "movie_semantic = {\n",
    "    \"settings\": {\n",
    "        \"max_result_window\": 15000,\n",
    "        \"analysis\": {\"analyzer\": {\"analysis-nori\": {\"type\": \"nori\", \"stopwords\": \"_korean_\"}}},\n",
    "        \"index.knn\": True,\n",
    "        \"default_pipeline\": pipeline_id,\n",
    "        \"index.knn.space_type\": \"l2\",\n",
    "    },\n",
    "    \"mappings\": {\n",
    "        \"properties\": {\n",
    "            \"date\": {\n",
    "                \"type\": \"float\",\n",
    "            },\n",
    "            \"genre\": {\n",
    "                \"type\": \"text\",\n",
    "            },\n",
    "            \"main_act\": {\n",
    "                \"type\": \"text\",\n",
    "                \"fields\": {\"keyword\": {\"type\": \"keyword\", \"ignore_above\": 256}},\n",
    "            },\n",
    "            \"plot\": {\n",
    "                \"type\": \"text\",\n",
    "            },\n",
    "            \"rating\": {\n",
    "                \"type\": \"float\"\n",
    "            },\n",
    "            \"supp_act\": {\n",
    "                \"type\": \"text\",\n",
    "                \"fields\": {\"keyword\": {\"type\": \"keyword\", \"ignore_above\": 256}},\n",
    "            },\n",
    "            \"title\": {\n",
    "                \"type\": \"text\",\n",
    "                \"fields\": {\"keyword\": {\"type\": \"keyword\", \"ignore_above\": 256}},\n",
    "            },\n",
    "            \"vote_count\": {\n",
    "                \"type\": \"long\"\n",
    "            },\n",
    "            \"text\": {\n",
    "                \"type\": \"text\",\n",
    "            },\n",
    "            \"year\": {\n",
    "                \"type\": \"long\"\n",
    "            },\n",
    "            \"vector_field\": {\n",
    "                \"type\": \"knn_vector\",\n",
    "                \"dimension\": 1536,\n",
    "                \"method\": {\"name\": \"hnsw\", \"space_type\": \"l2\", \"engine\": \"faiss\"},\n",
    "                \"store\": True,\n",
    "            },\n",
    "        }\n",
    "    },\n",
    "}\n",
    "\n",
    "aos_client.indices.delete(index=index_name)\n",
    "aos_client.indices.create(index=index_name, body=movie_semantic)"
   ]
  },
  {
   "cell_type": "code",
   "execution_count": 17,
   "metadata": {},
   "outputs": [
    {
     "data": {
      "text/plain": [
       "{'movie_semantic': {'aliases': {},\n",
       "  'mappings': {'properties': {'date': {'type': 'float'},\n",
       "    'genre': {'type': 'text'},\n",
       "    'main_act': {'type': 'text',\n",
       "     'fields': {'keyword': {'type': 'keyword', 'ignore_above': 256}}},\n",
       "    'plot': {'type': 'text'},\n",
       "    'rating': {'type': 'float'},\n",
       "    'supp_act': {'type': 'text',\n",
       "     'fields': {'keyword': {'type': 'keyword', 'ignore_above': 256}}},\n",
       "    'text': {'type': 'text'},\n",
       "    'title': {'type': 'text',\n",
       "     'fields': {'keyword': {'type': 'keyword', 'ignore_above': 256}}},\n",
       "    'vector_field': {'type': 'knn_vector',\n",
       "     'store': True,\n",
       "     'dimension': 1536,\n",
       "     'method': {'engine': 'faiss',\n",
       "      'space_type': 'l2',\n",
       "      'name': 'hnsw',\n",
       "      'parameters': {}}},\n",
       "    'vote_count': {'type': 'long'},\n",
       "    'year': {'type': 'long'}}},\n",
       "  'settings': {'index': {'replication': {'type': 'DOCUMENT'},\n",
       "    'number_of_shards': '1',\n",
       "    'provided_name': 'movie_semantic',\n",
       "    'knn.space_type': 'l2',\n",
       "    'max_result_window': '15000',\n",
       "    'default_pipeline': 'movie_plot_embedding_pipeline',\n",
       "    'knn': 'true',\n",
       "    'creation_date': '1724142806727',\n",
       "    'analysis': {'analyzer': {'analysis-nori': {'type': 'nori',\n",
       "       'stopwords': '_korean_'}}},\n",
       "    'number_of_replicas': '1',\n",
       "    'uuid': 't9CHZhGkT4efa3BzGZpbEw',\n",
       "    'version': {'created': '136347827'}}}}}"
      ]
     },
     "execution_count": 17,
     "metadata": {},
     "output_type": "execute_result"
    }
   ],
   "source": [
    "aos_client.indices.get(index=index_name)"
   ]
  },
  {
   "cell_type": "markdown",
   "metadata": {},
   "source": [
    "## 데이터 인제스트\n",
    "\n",
    "키워드 검색과 동일하게 데이터를 인제스트합니다. 위 단계에서 인덱스를 생성할 때 INGEST PIPELINE을 설정했기 때문에 직접 임베딩 모델을 호출하여 데이터를 벡터로 변환하지 않아도 됩니다. 단, 데이터가 인제스트될 때 임베딩 모델을 호출해야 하는 단계가 있기 때문에 parallel_bulk의 병렬도가 높으면 에러가 발생할 있습니다. 여기서는 `thread_count`와 `queue_size`를 각각 1로 낮춰줍니다. 이 단계가 완료되는데는 약 4~5분 정도 소요됩니다.\n"
   ]
  },
  {
   "cell_type": "code",
   "execution_count": 18,
   "metadata": {},
   "outputs": [],
   "source": [
    "from tqdm import tqdm\n",
    "from opensearchpy import helpers\n",
    "\n",
    "json_data = df.to_json(orient=\"records\", lines=True)\n",
    "docs = json_data.split(\"\\n\")[:-1]  # To remove the last empty line"
   ]
  },
  {
   "cell_type": "code",
   "execution_count": 19,
   "metadata": {},
   "outputs": [
    {
     "data": {
      "text/html": [
       "<div>\n",
       "<style scoped>\n",
       "    .dataframe tbody tr th:only-of-type {\n",
       "        vertical-align: middle;\n",
       "    }\n",
       "\n",
       "    .dataframe tbody tr th {\n",
       "        vertical-align: top;\n",
       "    }\n",
       "\n",
       "    .dataframe thead th {\n",
       "        text-align: right;\n",
       "    }\n",
       "</style>\n",
       "<table border=\"1\" class=\"dataframe\">\n",
       "  <thead>\n",
       "    <tr style=\"text-align: right;\">\n",
       "      <th></th>\n",
       "      <th>title</th>\n",
       "      <th>genre</th>\n",
       "      <th>year</th>\n",
       "      <th>date</th>\n",
       "      <th>rating</th>\n",
       "      <th>vote_count</th>\n",
       "      <th>plot</th>\n",
       "      <th>main_act</th>\n",
       "      <th>supp_act</th>\n",
       "      <th>text</th>\n",
       "    </tr>\n",
       "  </thead>\n",
       "  <tbody>\n",
       "    <tr>\n",
       "      <th>0</th>\n",
       "      <td>변호인</td>\n",
       "      <td>드라마</td>\n",
       "      <td>2013</td>\n",
       "      <td>12.18</td>\n",
       "      <td>8.99</td>\n",
       "      <td>94574</td>\n",
       "      <td>198 년대 초 부산. 빽 없고, 돈 없고, 가방끈도 짧은 세무 변호사 송우석(송강...</td>\n",
       "      <td>송강호|김영애|오달수|곽도원|임시완</td>\n",
       "      <td>송영창|정원중|조민기|이항나|이성민|차은재|차광수|한기중|심희섭|조완기</td>\n",
       "      <td>title: 변호인 | genre: 드라마 | year: 2013 | date: 1...</td>\n",
       "    </tr>\n",
       "    <tr>\n",
       "      <th>1</th>\n",
       "      <td>어벤져스: 엔드게임</td>\n",
       "      <td>액션|SF</td>\n",
       "      <td>2019</td>\n",
       "      <td>4.24</td>\n",
       "      <td>9.38</td>\n",
       "      <td>68923</td>\n",
       "      <td>인피니티 워 이후 절반만 살아남은 지구 마지막 희망이 된 어벤져스 먼저 떠난 그들을...</td>\n",
       "      <td>로버트 다우니 주니어|크리스 에반스|크리스 헴스워스|마크 러팔로|스칼렛 요한슨|제레...</td>\n",
       "      <td>베네딕트 컴버배치|조 샐다나|크리스 프랫|채드윅 보스만|톰 홀랜드|안소니 마키|기네...</td>\n",
       "      <td>title: 어벤져스: 엔드게임 | genre: 액션|SF | year: 2019 ...</td>\n",
       "    </tr>\n",
       "    <tr>\n",
       "      <th>2</th>\n",
       "      <td>명량</td>\n",
       "      <td>액션|드라마</td>\n",
       "      <td>2014</td>\n",
       "      <td>7.30</td>\n",
       "      <td>8.44</td>\n",
       "      <td>66953</td>\n",
       "      <td>1597년 임진왜란 6년, 오랜 전쟁으로 인해 혼란이 극에 달한 조선. 무서운 속도...</td>\n",
       "      <td>최민식|류승룡|조진웅</td>\n",
       "      <td>진구|이정현|김명곤|권율|노민우|김태훈|오타니 료헤이|이승준|김강일|박보검|이해영|...</td>\n",
       "      <td>title: 명량 | genre: 액션|드라마 | year: 2014 | date:...</td>\n",
       "    </tr>\n",
       "  </tbody>\n",
       "</table>\n",
       "</div>"
      ],
      "text/plain": [
       "        title   genre  year   date  rating  vote_count  \\\n",
       "0         변호인     드라마  2013  12.18    8.99       94574   \n",
       "1  어벤져스: 엔드게임   액션|SF  2019   4.24    9.38       68923   \n",
       "2          명량  액션|드라마  2014   7.30    8.44       66953   \n",
       "\n",
       "                                                plot  \\\n",
       "0  198 년대 초 부산. 빽 없고, 돈 없고, 가방끈도 짧은 세무 변호사 송우석(송강...   \n",
       "1  인피니티 워 이후 절반만 살아남은 지구 마지막 희망이 된 어벤져스 먼저 떠난 그들을...   \n",
       "2  1597년 임진왜란 6년, 오랜 전쟁으로 인해 혼란이 극에 달한 조선. 무서운 속도...   \n",
       "\n",
       "                                            main_act  \\\n",
       "0                                송강호|김영애|오달수|곽도원|임시완   \n",
       "1  로버트 다우니 주니어|크리스 에반스|크리스 헴스워스|마크 러팔로|스칼렛 요한슨|제레...   \n",
       "2                                        최민식|류승룡|조진웅   \n",
       "\n",
       "                                            supp_act  \\\n",
       "0            송영창|정원중|조민기|이항나|이성민|차은재|차광수|한기중|심희섭|조완기   \n",
       "1  베네딕트 컴버배치|조 샐다나|크리스 프랫|채드윅 보스만|톰 홀랜드|안소니 마키|기네...   \n",
       "2  진구|이정현|김명곤|권율|노민우|김태훈|오타니 료헤이|이승준|김강일|박보검|이해영|...   \n",
       "\n",
       "                                                text  \n",
       "0  title: 변호인 | genre: 드라마 | year: 2013 | date: 1...  \n",
       "1  title: 어벤져스: 엔드게임 | genre: 액션|SF | year: 2019 ...  \n",
       "2  title: 명량 | genre: 액션|드라마 | year: 2014 | date:...  "
      ]
     },
     "execution_count": 19,
     "metadata": {},
     "output_type": "execute_result"
    }
   ],
   "source": [
    "df.head(3)"
   ]
  },
  {
   "cell_type": "code",
   "execution_count": 20,
   "metadata": {},
   "outputs": [],
   "source": [
    "def _generate_data():\n",
    "    for doc in docs:\n",
    "        yield {\"_index\": index_name, \"_source\": doc}\n",
    "\n",
    "succeeded = []\n",
    "failed = []\n",
    "for success, item in helpers.parallel_bulk(\n",
    "    aos_client, actions=_generate_data(), chunk_size=10, thread_count=1, queue_size=1\n",
    "):\n",
    "    if success:\n",
    "        succeeded.append(item)\n",
    "    else:\n",
    "        failed.append(item)"
   ]
  },
  {
   "cell_type": "markdown",
   "metadata": {},
   "source": [
    "데이터 인제스트가 잘 마무리되었는지 확인합니다.\n"
   ]
  },
  {
   "cell_type": "code",
   "execution_count": 21,
   "metadata": {},
   "outputs": [
    {
     "name": "stdout",
     "output_type": "stream",
     "text": [
      "{'count': 1000, '_shards': {'total': 1, 'successful': 1, 'skipped': 0, 'failed': 0}}\n"
     ]
    }
   ],
   "source": [
    "# Refresh the index to make the changes visible\n",
    "aos_client.indices.refresh(index=index_name)\n",
    "\n",
    "count = aos_client.count(index=index_name)\n",
    "print(count)"
   ]
  },
  {
   "cell_type": "markdown",
   "metadata": {},
   "source": [
    "# 키워드 검색과 시맨틱 검색 결과 비교\n"
   ]
  },
  {
   "cell_type": "markdown",
   "metadata": {},
   "source": [
    "## 키워드 검색을 위한 함수 생성\n",
    "\n",
    "키워드 단계에서 정의한 키워드 검색 함수와 동일한 함수를 생성합니다.\n"
   ]
  },
  {
   "cell_type": "code",
   "execution_count": 22,
   "metadata": {},
   "outputs": [],
   "source": [
    "def keyword_search(query_text):\n",
    "    query = {\n",
    "        \"size\": 10,\n",
    "        \"_source\": {\"excludes\": [\"text\", \"vector_field\"]},\n",
    "        \"query\": {\n",
    "            \"multi_match\": {\n",
    "                \"query\": query_text,\n",
    "                \"fields\": [\"title\", \"plot\", \"genre\", \"main_act\"],\n",
    "            }\n",
    "        },\n",
    "    }\n",
    "\n",
    "    res = aos_client.search(index=index_name, body=query)\n",
    "\n",
    "    query_result = []\n",
    "    for hit in res[\"hits\"][\"hits\"]:\n",
    "        row = [\n",
    "            hit[\"_score\"],\n",
    "            hit[\"_source\"][\"title\"],\n",
    "            hit[\"_source\"][\"plot\"],\n",
    "            hit[\"_source\"][\"genre\"],\n",
    "            hit[\"_source\"][\"rating\"],\n",
    "            hit[\"_source\"][\"main_act\"],\n",
    "        ]\n",
    "        query_result.append(row)\n",
    "\n",
    "    query_result_df = pd.DataFrame(\n",
    "        data=query_result, columns=[\"_score\", \"title\", \"plot\", \"genre\", \"rating\", \"main_act\"]\n",
    "    )\n",
    "    display(query_result_df)"
   ]
  },
  {
   "cell_type": "markdown",
   "metadata": {},
   "source": [
    "## 시맨팀 검색을 위한 함수 생성\n",
    "\n",
    "뉴럴 검색을 위한 함수를 생성합니다. 주목해야할 부분은 다음과 같습니다.\n",
    "\n",
    "1. **`\"_source\": {\"excludes\": [\"vector_field\"]}`**: 검색 결과에서 **`vector_field`** 필드를 제외한 모든 필드를 반환합니다. 이는 벡터 데이터가 크기 때문에 전송 비용을 줄이기 위함입니다.\n",
    "2. **`\"query\": { ... }`**: 실제 검색 쿼리를 정의합니다.\n",
    "3. **`\"neural\": { ... }`**: 벡터 검색을 수행하기 위한 쿼리 유형입니다.\n",
    "4. **`\"vector_field\": \"vector_field_name\"`**: 벡터 데이터가 저장된 필드 이름입니다.\n",
    "5. **`\"query_text\": query_text`**: 검색할 텍스트 쿼리입니다.\n",
    "6. **`\"model_id\": model_id`**: 벡터 임베딩을 생성하는 데 사용된 모델의 ID입니다.\n"
   ]
  },
  {
   "cell_type": "code",
   "execution_count": 44,
   "metadata": {},
   "outputs": [],
   "source": [
    "def semantic_search(query_text):\n",
    "    query = {\n",
    "        \"size\": 10,\n",
    "        \"_source\": {\"excludes\": [\"text\", \"vector_field\"]},\n",
    "        \"query\": {\n",
    "            \"neural\": {\n",
    "                \"vector_field\": {\n",
    "                    \"query_text\": query_text,\n",
    "                    # \"inputText\": query_text,\n",
    "                    \"model_id\": model_id,\n",
    "                    \"k\": 10\n",
    "                }\n",
    "            },\n",
    "        },\n",
    "        # \"parameters\": {\"inputText\": query_text}\n",
    "    }\n",
    "\n",
    "    res = aos_client.search(index=index_name, body=query)\n",
    "\n",
    "    query_result = []\n",
    "    for hit in res[\"hits\"][\"hits\"]:\n",
    "        row = [\n",
    "            hit[\"_score\"],\n",
    "            hit[\"_source\"][\"title\"],\n",
    "            hit[\"_source\"][\"plot\"],\n",
    "            hit[\"_source\"][\"genre\"],\n",
    "            hit[\"_source\"][\"rating\"],\n",
    "            hit[\"_source\"][\"main_act\"],\n",
    "        ]\n",
    "        query_result.append(row)\n",
    "\n",
    "    query_result_df = pd.DataFrame(\n",
    "        data=query_result, columns=[\"_score\", \"title\", \"plot\", \"genre\", \"rating\", \"main_act\"]\n",
    "    )\n",
    "    display(query_result_df)"
   ]
  },
  {
   "cell_type": "markdown",
   "metadata": {},
   "source": [
    "## 결과 비교\n",
    "\n",
    "자연어 기반의 쿼리를 작성하고 키워드 검색과 시맨틱 검색의 결과를 비교해봅니다\n"
   ]
  },
  {
   "cell_type": "code",
   "execution_count": 45,
   "metadata": {},
   "outputs": [],
   "source": [
    "query_text = \"우주에서 벌어지는 전쟁 이야기를 다룬 영화 소개해줘\""
   ]
  },
  {
   "cell_type": "code",
   "execution_count": 46,
   "metadata": {},
   "outputs": [
    {
     "data": {
      "text/html": [
       "<div>\n",
       "<style scoped>\n",
       "    .dataframe tbody tr th:only-of-type {\n",
       "        vertical-align: middle;\n",
       "    }\n",
       "\n",
       "    .dataframe tbody tr th {\n",
       "        vertical-align: top;\n",
       "    }\n",
       "\n",
       "    .dataframe thead th {\n",
       "        text-align: right;\n",
       "    }\n",
       "</style>\n",
       "<table border=\"1\" class=\"dataframe\">\n",
       "  <thead>\n",
       "    <tr style=\"text-align: right;\">\n",
       "      <th></th>\n",
       "      <th>_score</th>\n",
       "      <th>title</th>\n",
       "      <th>plot</th>\n",
       "      <th>genre</th>\n",
       "      <th>rating</th>\n",
       "      <th>main_act</th>\n",
       "    </tr>\n",
       "  </thead>\n",
       "  <tbody>\n",
       "    <tr>\n",
       "      <th>0</th>\n",
       "      <td>7.102402</td>\n",
       "      <td>황금나침반</td>\n",
       "      <td>‘살아 있는 모든 존재를 멸망으로 이끌 전쟁이 일어날 것’이라는 예언의 중심에 있는...</td>\n",
       "      <td>판타지|모험|액션|드라마|가족|스릴러</td>\n",
       "      <td>6.25</td>\n",
       "      <td>다니엘 크레이그|니콜 키드먼|에바 그린|다코타 블루 리차드</td>\n",
       "    </tr>\n",
       "    <tr>\n",
       "      <th>1</th>\n",
       "      <td>7.030644</td>\n",
       "      <td>영화는 영화다</td>\n",
       "      <td>영화를 촬영하던 배우 장수타(강지환 扮)는 액션씬에서 욱하는 성질을 참지 못해 상대...</td>\n",
       "      <td>액션|범죄|드라마|느와르</td>\n",
       "      <td>8.85</td>\n",
       "      <td>소지섭|강지환</td>\n",
       "    </tr>\n",
       "    <tr>\n",
       "      <th>2</th>\n",
       "      <td>6.071900</td>\n",
       "      <td>명탐정 코난: 천공의 난파선</td>\n",
       "      <td>명쾌한 추리와 시원한 액션으로 사건을 해결했던 코난. 이번에는 세계 최대 비행선에서...</td>\n",
       "      <td>애니메이션|모험|가족</td>\n",
       "      <td>9.23</td>\n",
       "      <td>타카야마 미나미|야마자키 와카나|야마구치 캇페이|코야마 리키야|하야시바라 메구미|호...</td>\n",
       "    </tr>\n",
       "    <tr>\n",
       "      <th>3</th>\n",
       "      <td>6.002809</td>\n",
       "      <td>더 넌</td>\n",
       "      <td>루마니아의 젊은 수녀가 자살하는 사건을 의뢰 받아 바티칸에서 파견된 버크 신부와 아...</td>\n",
       "      <td>공포|미스터리|스릴러</td>\n",
       "      <td>6.66</td>\n",
       "      <td>타이사 파미가|데미안 비쉬어|보니 아론스</td>\n",
       "    </tr>\n",
       "    <tr>\n",
       "      <th>4</th>\n",
       "      <td>5.699466</td>\n",
       "      <td>우주 전쟁</td>\n",
       "      <td>레이 페리어(톰 크루즈 분)는 이혼한 항만 근로자로 아무런 희망 없이 매일을 살아간...</td>\n",
       "      <td>SF|드라마|스릴러</td>\n",
       "      <td>7.31</td>\n",
       "      <td>톰 크루즈</td>\n",
       "    </tr>\n",
       "    <tr>\n",
       "      <th>5</th>\n",
       "      <td>5.646401</td>\n",
       "      <td>경성학교: 사라진 소녀들</td>\n",
       "      <td>외부와 단절된 경성의 한 기숙학교. 어느 날부터, 학생들이 하나 둘 이상 증세를 보...</td>\n",
       "      <td>미스터리|드라마</td>\n",
       "      <td>6.12</td>\n",
       "      <td>박보영|엄지원|박소담</td>\n",
       "    </tr>\n",
       "    <tr>\n",
       "      <th>6</th>\n",
       "      <td>5.629383</td>\n",
       "      <td>오빠생각</td>\n",
       "      <td>전쟁으로 소중한 가족도, 지켜야 할 동료도 모두 잃은 군인 ‘한상렬’(임시완). 우...</td>\n",
       "      <td>드라마|전쟁</td>\n",
       "      <td>8.51</td>\n",
       "      <td>임시완|고아성</td>\n",
       "    </tr>\n",
       "    <tr>\n",
       "      <th>7</th>\n",
       "      <td>5.601114</td>\n",
       "      <td>램페이지</td>\n",
       "      <td>유인원 전문가 ‘데이비스(드웨인 존슨)’는 사람들은 멀리하지만, 어릴 때 구조해서 ...</td>\n",
       "      <td>액션|모험</td>\n",
       "      <td>8.28</td>\n",
       "      <td>드웨인 존슨|제프리 딘 모건|나오미 해리스|말린 애커맨</td>\n",
       "    </tr>\n",
       "    <tr>\n",
       "      <th>8</th>\n",
       "      <td>5.429001</td>\n",
       "      <td>곡성(哭聲)</td>\n",
       "      <td>낯선 외지인(쿠니무라 준)이 나타난 후 벌어지는 의문의 연쇄 사건들로 마을이 발칵 ...</td>\n",
       "      <td>미스터리|스릴러|드라마</td>\n",
       "      <td>7.61</td>\n",
       "      <td>곽도원|황정민|쿠니무라 준|천우희|김환희</td>\n",
       "    </tr>\n",
       "    <tr>\n",
       "      <th>9</th>\n",
       "      <td>5.404394</td>\n",
       "      <td>엑스맨: 다크 피닉스</td>\n",
       "      <td>어린 시절 비극적 교통사고로 자신의 능력을 알게 된 진 그레이는 자비에 영재학교에서...</td>\n",
       "      <td>액션|모험|SF</td>\n",
       "      <td>5.96</td>\n",
       "      <td>제임스 맥어보이|마이클 패스벤더|제니퍼 로렌스|니콜라스 홀트|소피 터너|타이 쉐리던...</td>\n",
       "    </tr>\n",
       "  </tbody>\n",
       "</table>\n",
       "</div>"
      ],
      "text/plain": [
       "     _score            title  \\\n",
       "0  7.102402            황금나침반   \n",
       "1  7.030644          영화는 영화다   \n",
       "2  6.071900  명탐정 코난: 천공의 난파선   \n",
       "3  6.002809              더 넌   \n",
       "4  5.699466            우주 전쟁   \n",
       "5  5.646401    경성학교: 사라진 소녀들   \n",
       "6  5.629383             오빠생각   \n",
       "7  5.601114             램페이지   \n",
       "8  5.429001           곡성(哭聲)   \n",
       "9  5.404394      엑스맨: 다크 피닉스   \n",
       "\n",
       "                                                plot                 genre  \\\n",
       "0  ‘살아 있는 모든 존재를 멸망으로 이끌 전쟁이 일어날 것’이라는 예언의 중심에 있는...  판타지|모험|액션|드라마|가족|스릴러   \n",
       "1  영화를 촬영하던 배우 장수타(강지환 扮)는 액션씬에서 욱하는 성질을 참지 못해 상대...         액션|범죄|드라마|느와르   \n",
       "2  명쾌한 추리와 시원한 액션으로 사건을 해결했던 코난. 이번에는 세계 최대 비행선에서...           애니메이션|모험|가족   \n",
       "3  루마니아의 젊은 수녀가 자살하는 사건을 의뢰 받아 바티칸에서 파견된 버크 신부와 아...           공포|미스터리|스릴러   \n",
       "4  레이 페리어(톰 크루즈 분)는 이혼한 항만 근로자로 아무런 희망 없이 매일을 살아간...            SF|드라마|스릴러   \n",
       "5  외부와 단절된 경성의 한 기숙학교. 어느 날부터, 학생들이 하나 둘 이상 증세를 보...              미스터리|드라마   \n",
       "6  전쟁으로 소중한 가족도, 지켜야 할 동료도 모두 잃은 군인 ‘한상렬’(임시완). 우...                드라마|전쟁   \n",
       "7  유인원 전문가 ‘데이비스(드웨인 존슨)’는 사람들은 멀리하지만, 어릴 때 구조해서 ...                 액션|모험   \n",
       "8  낯선 외지인(쿠니무라 준)이 나타난 후 벌어지는 의문의 연쇄 사건들로 마을이 발칵 ...          미스터리|스릴러|드라마   \n",
       "9  어린 시절 비극적 교통사고로 자신의 능력을 알게 된 진 그레이는 자비에 영재학교에서...              액션|모험|SF   \n",
       "\n",
       "   rating                                           main_act  \n",
       "0    6.25                   다니엘 크레이그|니콜 키드먼|에바 그린|다코타 블루 리차드  \n",
       "1    8.85                                            소지섭|강지환  \n",
       "2    9.23  타카야마 미나미|야마자키 와카나|야마구치 캇페이|코야마 리키야|하야시바라 메구미|호...  \n",
       "3    6.66                             타이사 파미가|데미안 비쉬어|보니 아론스  \n",
       "4    7.31                                              톰 크루즈  \n",
       "5    6.12                                        박보영|엄지원|박소담  \n",
       "6    8.51                                            임시완|고아성  \n",
       "7    8.28                     드웨인 존슨|제프리 딘 모건|나오미 해리스|말린 애커맨  \n",
       "8    7.61                             곽도원|황정민|쿠니무라 준|천우희|김환희  \n",
       "9    5.96  제임스 맥어보이|마이클 패스벤더|제니퍼 로렌스|니콜라스 홀트|소피 터너|타이 쉐리던...  "
      ]
     },
     "metadata": {},
     "output_type": "display_data"
    }
   ],
   "source": [
    "keyword_search(query_text)"
   ]
  },
  {
   "cell_type": "code",
   "execution_count": 48,
   "metadata": {},
   "outputs": [
    {
     "ename": "RequestError",
     "evalue": "RequestError(400, 'illegal_argument_exception', 'Some parameter placeholder not filled in payload: inputText')",
     "output_type": "error",
     "traceback": [
      "\u001b[0;31m---------------------------------------------------------------------------\u001b[0m",
      "\u001b[0;31mRequestError\u001b[0m                              Traceback (most recent call last)",
      "Cell \u001b[0;32mIn[48], line 17\u001b[0m\n\u001b[1;32m      1\u001b[0m query \u001b[38;5;241m=\u001b[39m {\n\u001b[1;32m      2\u001b[0m     \u001b[38;5;124m\"\u001b[39m\u001b[38;5;124msize\u001b[39m\u001b[38;5;124m\"\u001b[39m: \u001b[38;5;241m10\u001b[39m,\n\u001b[1;32m      3\u001b[0m     \u001b[38;5;124m\"\u001b[39m\u001b[38;5;124m_source\u001b[39m\u001b[38;5;124m\"\u001b[39m: {\u001b[38;5;124m\"\u001b[39m\u001b[38;5;124mexcludes\u001b[39m\u001b[38;5;124m\"\u001b[39m: [\u001b[38;5;124m\"\u001b[39m\u001b[38;5;124mtext\u001b[39m\u001b[38;5;124m\"\u001b[39m, \u001b[38;5;124m\"\u001b[39m\u001b[38;5;124mvector_field\u001b[39m\u001b[38;5;124m\"\u001b[39m]},\n\u001b[0;32m   (...)\u001b[0m\n\u001b[1;32m     14\u001b[0m     \u001b[38;5;66;03m# \"parameters\": {\"inputText\": query_text}\u001b[39;00m\n\u001b[1;32m     15\u001b[0m }\n\u001b[0;32m---> 17\u001b[0m res \u001b[38;5;241m=\u001b[39m \u001b[43maos_client\u001b[49m\u001b[38;5;241;43m.\u001b[39;49m\u001b[43msearch\u001b[49m\u001b[43m(\u001b[49m\u001b[43mindex\u001b[49m\u001b[38;5;241;43m=\u001b[39;49m\u001b[43mindex_name\u001b[49m\u001b[43m,\u001b[49m\u001b[43m \u001b[49m\u001b[43mbody\u001b[49m\u001b[38;5;241;43m=\u001b[39;49m\u001b[43mquery\u001b[49m\u001b[43m)\u001b[49m\n",
      "File \u001b[0;32m~/miniconda3/envs/aws_workshop/lib/python3.10/site-packages/opensearchpy/client/utils.py:180\u001b[0m, in \u001b[0;36mquery_params.<locals>._wrapper.<locals>._wrapped\u001b[0;34m(*args, **kwargs)\u001b[0m\n\u001b[1;32m    177\u001b[0m         \u001b[38;5;28;01mif\u001b[39;00m v \u001b[38;5;129;01mis\u001b[39;00m \u001b[38;5;129;01mnot\u001b[39;00m \u001b[38;5;28;01mNone\u001b[39;00m:\n\u001b[1;32m    178\u001b[0m             params[p] \u001b[38;5;241m=\u001b[39m _escape(v)\n\u001b[0;32m--> 180\u001b[0m \u001b[38;5;28;01mreturn\u001b[39;00m \u001b[43mfunc\u001b[49m\u001b[43m(\u001b[49m\u001b[38;5;241;43m*\u001b[39;49m\u001b[43margs\u001b[49m\u001b[43m,\u001b[49m\u001b[43m \u001b[49m\u001b[43mparams\u001b[49m\u001b[38;5;241;43m=\u001b[39;49m\u001b[43mparams\u001b[49m\u001b[43m,\u001b[49m\u001b[43m \u001b[49m\u001b[43mheaders\u001b[49m\u001b[38;5;241;43m=\u001b[39;49m\u001b[43mheaders\u001b[49m\u001b[43m,\u001b[49m\u001b[43m \u001b[49m\u001b[38;5;241;43m*\u001b[39;49m\u001b[38;5;241;43m*\u001b[39;49m\u001b[43mkwargs\u001b[49m\u001b[43m)\u001b[49m\n",
      "File \u001b[0;32m~/miniconda3/envs/aws_workshop/lib/python3.10/site-packages/opensearchpy/client/__init__.py:2359\u001b[0m, in \u001b[0;36mOpenSearch.search\u001b[0;34m(self, body, index, params, headers)\u001b[0m\n\u001b[1;32m   2356\u001b[0m \u001b[38;5;28;01mif\u001b[39;00m \u001b[38;5;124m\"\u001b[39m\u001b[38;5;124mfrom_\u001b[39m\u001b[38;5;124m\"\u001b[39m \u001b[38;5;129;01min\u001b[39;00m params:\n\u001b[1;32m   2357\u001b[0m     params[\u001b[38;5;124m\"\u001b[39m\u001b[38;5;124mfrom\u001b[39m\u001b[38;5;124m\"\u001b[39m] \u001b[38;5;241m=\u001b[39m params\u001b[38;5;241m.\u001b[39mpop(\u001b[38;5;124m\"\u001b[39m\u001b[38;5;124mfrom_\u001b[39m\u001b[38;5;124m\"\u001b[39m)\n\u001b[0;32m-> 2359\u001b[0m \u001b[38;5;28;01mreturn\u001b[39;00m \u001b[38;5;28;43mself\u001b[39;49m\u001b[38;5;241;43m.\u001b[39;49m\u001b[43mtransport\u001b[49m\u001b[38;5;241;43m.\u001b[39;49m\u001b[43mperform_request\u001b[49m\u001b[43m(\u001b[49m\n\u001b[1;32m   2360\u001b[0m \u001b[43m    \u001b[49m\u001b[38;5;124;43m\"\u001b[39;49m\u001b[38;5;124;43mPOST\u001b[39;49m\u001b[38;5;124;43m\"\u001b[39;49m\u001b[43m,\u001b[49m\n\u001b[1;32m   2361\u001b[0m \u001b[43m    \u001b[49m\u001b[43m_make_path\u001b[49m\u001b[43m(\u001b[49m\u001b[43mindex\u001b[49m\u001b[43m,\u001b[49m\u001b[43m \u001b[49m\u001b[38;5;124;43m\"\u001b[39;49m\u001b[38;5;124;43m_search\u001b[39;49m\u001b[38;5;124;43m\"\u001b[39;49m\u001b[43m)\u001b[49m\u001b[43m,\u001b[49m\n\u001b[1;32m   2362\u001b[0m \u001b[43m    \u001b[49m\u001b[43mparams\u001b[49m\u001b[38;5;241;43m=\u001b[39;49m\u001b[43mparams\u001b[49m\u001b[43m,\u001b[49m\n\u001b[1;32m   2363\u001b[0m \u001b[43m    \u001b[49m\u001b[43mheaders\u001b[49m\u001b[38;5;241;43m=\u001b[39;49m\u001b[43mheaders\u001b[49m\u001b[43m,\u001b[49m\n\u001b[1;32m   2364\u001b[0m \u001b[43m    \u001b[49m\u001b[43mbody\u001b[49m\u001b[38;5;241;43m=\u001b[39;49m\u001b[43mbody\u001b[49m\u001b[43m,\u001b[49m\n\u001b[1;32m   2365\u001b[0m \u001b[43m\u001b[49m\u001b[43m)\u001b[49m\n",
      "File \u001b[0;32m~/miniconda3/envs/aws_workshop/lib/python3.10/site-packages/opensearchpy/transport.py:455\u001b[0m, in \u001b[0;36mTransport.perform_request\u001b[0;34m(self, method, url, params, body, timeout, ignore, headers)\u001b[0m\n\u001b[1;32m    453\u001b[0m             \u001b[38;5;28;01mraise\u001b[39;00m e\n\u001b[1;32m    454\u001b[0m     \u001b[38;5;28;01melse\u001b[39;00m:\n\u001b[0;32m--> 455\u001b[0m         \u001b[38;5;28;01mraise\u001b[39;00m e\n\u001b[1;32m    457\u001b[0m \u001b[38;5;28;01melse\u001b[39;00m:\n\u001b[1;32m    458\u001b[0m     \u001b[38;5;66;03m# connection didn't fail, confirm its live status\u001b[39;00m\n\u001b[1;32m    459\u001b[0m     \u001b[38;5;28mself\u001b[39m\u001b[38;5;241m.\u001b[39mconnection_pool\u001b[38;5;241m.\u001b[39mmark_live(connection)\n",
      "File \u001b[0;32m~/miniconda3/envs/aws_workshop/lib/python3.10/site-packages/opensearchpy/transport.py:416\u001b[0m, in \u001b[0;36mTransport.perform_request\u001b[0;34m(self, method, url, params, body, timeout, ignore, headers)\u001b[0m\n\u001b[1;32m    413\u001b[0m connection \u001b[38;5;241m=\u001b[39m \u001b[38;5;28mself\u001b[39m\u001b[38;5;241m.\u001b[39mget_connection()\n\u001b[1;32m    415\u001b[0m \u001b[38;5;28;01mtry\u001b[39;00m:\n\u001b[0;32m--> 416\u001b[0m     status, headers_response, data \u001b[38;5;241m=\u001b[39m \u001b[43mconnection\u001b[49m\u001b[38;5;241;43m.\u001b[39;49m\u001b[43mperform_request\u001b[49m\u001b[43m(\u001b[49m\n\u001b[1;32m    417\u001b[0m \u001b[43m        \u001b[49m\u001b[43mmethod\u001b[49m\u001b[43m,\u001b[49m\n\u001b[1;32m    418\u001b[0m \u001b[43m        \u001b[49m\u001b[43murl\u001b[49m\u001b[43m,\u001b[49m\n\u001b[1;32m    419\u001b[0m \u001b[43m        \u001b[49m\u001b[43mparams\u001b[49m\u001b[43m,\u001b[49m\n\u001b[1;32m    420\u001b[0m \u001b[43m        \u001b[49m\u001b[43mbody\u001b[49m\u001b[43m,\u001b[49m\n\u001b[1;32m    421\u001b[0m \u001b[43m        \u001b[49m\u001b[43mheaders\u001b[49m\u001b[38;5;241;43m=\u001b[39;49m\u001b[43mheaders\u001b[49m\u001b[43m,\u001b[49m\n\u001b[1;32m    422\u001b[0m \u001b[43m        \u001b[49m\u001b[43mignore\u001b[49m\u001b[38;5;241;43m=\u001b[39;49m\u001b[43mignore\u001b[49m\u001b[43m,\u001b[49m\n\u001b[1;32m    423\u001b[0m \u001b[43m        \u001b[49m\u001b[43mtimeout\u001b[49m\u001b[38;5;241;43m=\u001b[39;49m\u001b[43mtimeout\u001b[49m\u001b[43m,\u001b[49m\n\u001b[1;32m    424\u001b[0m \u001b[43m    \u001b[49m\u001b[43m)\u001b[49m\n\u001b[1;32m    426\u001b[0m     \u001b[38;5;66;03m# Lowercase all the header names for consistency in accessing them.\u001b[39;00m\n\u001b[1;32m    427\u001b[0m     headers_response \u001b[38;5;241m=\u001b[39m {\n\u001b[1;32m    428\u001b[0m         header\u001b[38;5;241m.\u001b[39mlower(): value \u001b[38;5;28;01mfor\u001b[39;00m header, value \u001b[38;5;129;01min\u001b[39;00m headers_response\u001b[38;5;241m.\u001b[39mitems()\n\u001b[1;32m    429\u001b[0m     }\n",
      "File \u001b[0;32m~/miniconda3/envs/aws_workshop/lib/python3.10/site-packages/opensearchpy/connection/http_urllib3.py:308\u001b[0m, in \u001b[0;36mUrllib3HttpConnection.perform_request\u001b[0;34m(self, method, url, params, body, timeout, ignore, headers)\u001b[0m\n\u001b[1;32m    304\u001b[0m \u001b[38;5;28;01mif\u001b[39;00m \u001b[38;5;129;01mnot\u001b[39;00m (\u001b[38;5;241m200\u001b[39m \u001b[38;5;241m<\u001b[39m\u001b[38;5;241m=\u001b[39m response\u001b[38;5;241m.\u001b[39mstatus \u001b[38;5;241m<\u001b[39m \u001b[38;5;241m300\u001b[39m) \u001b[38;5;129;01mand\u001b[39;00m response\u001b[38;5;241m.\u001b[39mstatus \u001b[38;5;129;01mnot\u001b[39;00m \u001b[38;5;129;01min\u001b[39;00m ignore:\n\u001b[1;32m    305\u001b[0m     \u001b[38;5;28mself\u001b[39m\u001b[38;5;241m.\u001b[39mlog_request_fail(\n\u001b[1;32m    306\u001b[0m         method, full_url, url, orig_body, duration, response\u001b[38;5;241m.\u001b[39mstatus, raw_data\n\u001b[1;32m    307\u001b[0m     )\n\u001b[0;32m--> 308\u001b[0m     \u001b[38;5;28;43mself\u001b[39;49m\u001b[38;5;241;43m.\u001b[39;49m\u001b[43m_raise_error\u001b[49m\u001b[43m(\u001b[49m\n\u001b[1;32m    309\u001b[0m \u001b[43m        \u001b[49m\u001b[43mresponse\u001b[49m\u001b[38;5;241;43m.\u001b[39;49m\u001b[43mstatus\u001b[49m\u001b[43m,\u001b[49m\n\u001b[1;32m    310\u001b[0m \u001b[43m        \u001b[49m\u001b[43mraw_data\u001b[49m\u001b[43m,\u001b[49m\n\u001b[1;32m    311\u001b[0m \u001b[43m        \u001b[49m\u001b[38;5;28;43mself\u001b[39;49m\u001b[38;5;241;43m.\u001b[39;49m\u001b[43mget_response_headers\u001b[49m\u001b[43m(\u001b[49m\u001b[43mresponse\u001b[49m\u001b[43m)\u001b[49m\u001b[38;5;241;43m.\u001b[39;49m\u001b[43mget\u001b[49m\u001b[43m(\u001b[49m\u001b[38;5;124;43m\"\u001b[39;49m\u001b[38;5;124;43mcontent-type\u001b[39;49m\u001b[38;5;124;43m\"\u001b[39;49m\u001b[43m)\u001b[49m\u001b[43m,\u001b[49m\n\u001b[1;32m    312\u001b[0m \u001b[43m    \u001b[49m\u001b[43m)\u001b[49m\n\u001b[1;32m    314\u001b[0m \u001b[38;5;28mself\u001b[39m\u001b[38;5;241m.\u001b[39mlog_request_success(\n\u001b[1;32m    315\u001b[0m     method, full_url, url, orig_body, response\u001b[38;5;241m.\u001b[39mstatus, raw_data, duration\n\u001b[1;32m    316\u001b[0m )\n\u001b[1;32m    318\u001b[0m \u001b[38;5;28;01mreturn\u001b[39;00m response\u001b[38;5;241m.\u001b[39mstatus, response\u001b[38;5;241m.\u001b[39mheaders, raw_data\n",
      "File \u001b[0;32m~/miniconda3/envs/aws_workshop/lib/python3.10/site-packages/opensearchpy/connection/base.py:315\u001b[0m, in \u001b[0;36mConnection._raise_error\u001b[0;34m(self, status_code, raw_data, content_type)\u001b[0m\n\u001b[1;32m    312\u001b[0m \u001b[38;5;28;01mexcept\u001b[39;00m (\u001b[38;5;167;01mValueError\u001b[39;00m, \u001b[38;5;167;01mTypeError\u001b[39;00m) \u001b[38;5;28;01mas\u001b[39;00m err:\n\u001b[1;32m    313\u001b[0m     logger\u001b[38;5;241m.\u001b[39mwarning(\u001b[38;5;124m\"\u001b[39m\u001b[38;5;124mUndecodable raw error response from server: \u001b[39m\u001b[38;5;132;01m%s\u001b[39;00m\u001b[38;5;124m\"\u001b[39m, err)\n\u001b[0;32m--> 315\u001b[0m \u001b[38;5;28;01mraise\u001b[39;00m HTTP_EXCEPTIONS\u001b[38;5;241m.\u001b[39mget(status_code, TransportError)(\n\u001b[1;32m    316\u001b[0m     status_code, error_message, additional_info\n\u001b[1;32m    317\u001b[0m )\n",
      "\u001b[0;31mRequestError\u001b[0m: RequestError(400, 'illegal_argument_exception', 'Some parameter placeholder not filled in payload: inputText')"
     ]
    }
   ],
   "source": [
    "query = {\n",
    "    \"size\": 10,\n",
    "    \"_source\": {\"excludes\": [\"text\", \"vector_field\"]},\n",
    "    \"query\": {\n",
    "        \"neural\": {\n",
    "            \"vector_field\": {\n",
    "                \"query_text\": query_text,\n",
    "                # \"inputText\": query_text,\n",
    "                \"model_id\": model_id,\n",
    "                \"k\": 10\n",
    "            }\n",
    "        },\n",
    "    },\n",
    "    # \"parameters\": {\"inputText\": query_text}\n",
    "}\n",
    "\n",
    "res = aos_client.search(index=index_name, body=query)"
   ]
  },
  {
   "cell_type": "code",
   "execution_count": 47,
   "metadata": {},
   "outputs": [
    {
     "ename": "RequestError",
     "evalue": "RequestError(400, 'parsing_exception', 'Unknown key for a VALUE_STRING in [inputText].')",
     "output_type": "error",
     "traceback": [
      "\u001b[0;31m---------------------------------------------------------------------------\u001b[0m",
      "\u001b[0;31mRequestError\u001b[0m                              Traceback (most recent call last)",
      "Cell \u001b[0;32mIn[47], line 1\u001b[0m\n\u001b[0;32m----> 1\u001b[0m \u001b[43msemantic_search\u001b[49m\u001b[43m(\u001b[49m\u001b[43mquery_text\u001b[49m\u001b[43m)\u001b[49m\n",
      "Cell \u001b[0;32mIn[44], line 19\u001b[0m, in \u001b[0;36msemantic_search\u001b[0;34m(query_text)\u001b[0m\n\u001b[1;32m      1\u001b[0m \u001b[38;5;28;01mdef\u001b[39;00m \u001b[38;5;21msemantic_search\u001b[39m(query_text):\n\u001b[1;32m      2\u001b[0m     query \u001b[38;5;241m=\u001b[39m {\n\u001b[1;32m      3\u001b[0m         \u001b[38;5;124m\"\u001b[39m\u001b[38;5;124msize\u001b[39m\u001b[38;5;124m\"\u001b[39m: \u001b[38;5;241m10\u001b[39m,\n\u001b[1;32m      4\u001b[0m         \u001b[38;5;124m\"\u001b[39m\u001b[38;5;124m_source\u001b[39m\u001b[38;5;124m\"\u001b[39m: {\u001b[38;5;124m\"\u001b[39m\u001b[38;5;124mexcludes\u001b[39m\u001b[38;5;124m\"\u001b[39m: [\u001b[38;5;124m\"\u001b[39m\u001b[38;5;124mtext\u001b[39m\u001b[38;5;124m\"\u001b[39m, \u001b[38;5;124m\"\u001b[39m\u001b[38;5;124mvector_field\u001b[39m\u001b[38;5;124m\"\u001b[39m]},\n\u001b[0;32m   (...)\u001b[0m\n\u001b[1;32m     16\u001b[0m         \u001b[38;5;66;03m# \"parameters\": {\"inputText\": query_text}\u001b[39;00m\n\u001b[1;32m     17\u001b[0m     }\n\u001b[0;32m---> 19\u001b[0m     res \u001b[38;5;241m=\u001b[39m \u001b[43maos_client\u001b[49m\u001b[38;5;241;43m.\u001b[39;49m\u001b[43msearch\u001b[49m\u001b[43m(\u001b[49m\u001b[43mindex\u001b[49m\u001b[38;5;241;43m=\u001b[39;49m\u001b[43mindex_name\u001b[49m\u001b[43m,\u001b[49m\u001b[43m \u001b[49m\u001b[43mbody\u001b[49m\u001b[38;5;241;43m=\u001b[39;49m\u001b[43mquery\u001b[49m\u001b[43m)\u001b[49m\n\u001b[1;32m     21\u001b[0m     query_result \u001b[38;5;241m=\u001b[39m []\n\u001b[1;32m     22\u001b[0m     \u001b[38;5;28;01mfor\u001b[39;00m hit \u001b[38;5;129;01min\u001b[39;00m res[\u001b[38;5;124m\"\u001b[39m\u001b[38;5;124mhits\u001b[39m\u001b[38;5;124m\"\u001b[39m][\u001b[38;5;124m\"\u001b[39m\u001b[38;5;124mhits\u001b[39m\u001b[38;5;124m\"\u001b[39m]:\n",
      "File \u001b[0;32m~/miniconda3/envs/aws_workshop/lib/python3.10/site-packages/opensearchpy/client/utils.py:180\u001b[0m, in \u001b[0;36mquery_params.<locals>._wrapper.<locals>._wrapped\u001b[0;34m(*args, **kwargs)\u001b[0m\n\u001b[1;32m    177\u001b[0m         \u001b[38;5;28;01mif\u001b[39;00m v \u001b[38;5;129;01mis\u001b[39;00m \u001b[38;5;129;01mnot\u001b[39;00m \u001b[38;5;28;01mNone\u001b[39;00m:\n\u001b[1;32m    178\u001b[0m             params[p] \u001b[38;5;241m=\u001b[39m _escape(v)\n\u001b[0;32m--> 180\u001b[0m \u001b[38;5;28;01mreturn\u001b[39;00m \u001b[43mfunc\u001b[49m\u001b[43m(\u001b[49m\u001b[38;5;241;43m*\u001b[39;49m\u001b[43margs\u001b[49m\u001b[43m,\u001b[49m\u001b[43m \u001b[49m\u001b[43mparams\u001b[49m\u001b[38;5;241;43m=\u001b[39;49m\u001b[43mparams\u001b[49m\u001b[43m,\u001b[49m\u001b[43m \u001b[49m\u001b[43mheaders\u001b[49m\u001b[38;5;241;43m=\u001b[39;49m\u001b[43mheaders\u001b[49m\u001b[43m,\u001b[49m\u001b[43m \u001b[49m\u001b[38;5;241;43m*\u001b[39;49m\u001b[38;5;241;43m*\u001b[39;49m\u001b[43mkwargs\u001b[49m\u001b[43m)\u001b[49m\n",
      "File \u001b[0;32m~/miniconda3/envs/aws_workshop/lib/python3.10/site-packages/opensearchpy/client/__init__.py:2359\u001b[0m, in \u001b[0;36mOpenSearch.search\u001b[0;34m(self, body, index, params, headers)\u001b[0m\n\u001b[1;32m   2356\u001b[0m \u001b[38;5;28;01mif\u001b[39;00m \u001b[38;5;124m\"\u001b[39m\u001b[38;5;124mfrom_\u001b[39m\u001b[38;5;124m\"\u001b[39m \u001b[38;5;129;01min\u001b[39;00m params:\n\u001b[1;32m   2357\u001b[0m     params[\u001b[38;5;124m\"\u001b[39m\u001b[38;5;124mfrom\u001b[39m\u001b[38;5;124m\"\u001b[39m] \u001b[38;5;241m=\u001b[39m params\u001b[38;5;241m.\u001b[39mpop(\u001b[38;5;124m\"\u001b[39m\u001b[38;5;124mfrom_\u001b[39m\u001b[38;5;124m\"\u001b[39m)\n\u001b[0;32m-> 2359\u001b[0m \u001b[38;5;28;01mreturn\u001b[39;00m \u001b[38;5;28;43mself\u001b[39;49m\u001b[38;5;241;43m.\u001b[39;49m\u001b[43mtransport\u001b[49m\u001b[38;5;241;43m.\u001b[39;49m\u001b[43mperform_request\u001b[49m\u001b[43m(\u001b[49m\n\u001b[1;32m   2360\u001b[0m \u001b[43m    \u001b[49m\u001b[38;5;124;43m\"\u001b[39;49m\u001b[38;5;124;43mPOST\u001b[39;49m\u001b[38;5;124;43m\"\u001b[39;49m\u001b[43m,\u001b[49m\n\u001b[1;32m   2361\u001b[0m \u001b[43m    \u001b[49m\u001b[43m_make_path\u001b[49m\u001b[43m(\u001b[49m\u001b[43mindex\u001b[49m\u001b[43m,\u001b[49m\u001b[43m \u001b[49m\u001b[38;5;124;43m\"\u001b[39;49m\u001b[38;5;124;43m_search\u001b[39;49m\u001b[38;5;124;43m\"\u001b[39;49m\u001b[43m)\u001b[49m\u001b[43m,\u001b[49m\n\u001b[1;32m   2362\u001b[0m \u001b[43m    \u001b[49m\u001b[43mparams\u001b[49m\u001b[38;5;241;43m=\u001b[39;49m\u001b[43mparams\u001b[49m\u001b[43m,\u001b[49m\n\u001b[1;32m   2363\u001b[0m \u001b[43m    \u001b[49m\u001b[43mheaders\u001b[49m\u001b[38;5;241;43m=\u001b[39;49m\u001b[43mheaders\u001b[49m\u001b[43m,\u001b[49m\n\u001b[1;32m   2364\u001b[0m \u001b[43m    \u001b[49m\u001b[43mbody\u001b[49m\u001b[38;5;241;43m=\u001b[39;49m\u001b[43mbody\u001b[49m\u001b[43m,\u001b[49m\n\u001b[1;32m   2365\u001b[0m \u001b[43m\u001b[49m\u001b[43m)\u001b[49m\n",
      "File \u001b[0;32m~/miniconda3/envs/aws_workshop/lib/python3.10/site-packages/opensearchpy/transport.py:455\u001b[0m, in \u001b[0;36mTransport.perform_request\u001b[0;34m(self, method, url, params, body, timeout, ignore, headers)\u001b[0m\n\u001b[1;32m    453\u001b[0m             \u001b[38;5;28;01mraise\u001b[39;00m e\n\u001b[1;32m    454\u001b[0m     \u001b[38;5;28;01melse\u001b[39;00m:\n\u001b[0;32m--> 455\u001b[0m         \u001b[38;5;28;01mraise\u001b[39;00m e\n\u001b[1;32m    457\u001b[0m \u001b[38;5;28;01melse\u001b[39;00m:\n\u001b[1;32m    458\u001b[0m     \u001b[38;5;66;03m# connection didn't fail, confirm its live status\u001b[39;00m\n\u001b[1;32m    459\u001b[0m     \u001b[38;5;28mself\u001b[39m\u001b[38;5;241m.\u001b[39mconnection_pool\u001b[38;5;241m.\u001b[39mmark_live(connection)\n",
      "File \u001b[0;32m~/miniconda3/envs/aws_workshop/lib/python3.10/site-packages/opensearchpy/transport.py:416\u001b[0m, in \u001b[0;36mTransport.perform_request\u001b[0;34m(self, method, url, params, body, timeout, ignore, headers)\u001b[0m\n\u001b[1;32m    413\u001b[0m connection \u001b[38;5;241m=\u001b[39m \u001b[38;5;28mself\u001b[39m\u001b[38;5;241m.\u001b[39mget_connection()\n\u001b[1;32m    415\u001b[0m \u001b[38;5;28;01mtry\u001b[39;00m:\n\u001b[0;32m--> 416\u001b[0m     status, headers_response, data \u001b[38;5;241m=\u001b[39m \u001b[43mconnection\u001b[49m\u001b[38;5;241;43m.\u001b[39;49m\u001b[43mperform_request\u001b[49m\u001b[43m(\u001b[49m\n\u001b[1;32m    417\u001b[0m \u001b[43m        \u001b[49m\u001b[43mmethod\u001b[49m\u001b[43m,\u001b[49m\n\u001b[1;32m    418\u001b[0m \u001b[43m        \u001b[49m\u001b[43murl\u001b[49m\u001b[43m,\u001b[49m\n\u001b[1;32m    419\u001b[0m \u001b[43m        \u001b[49m\u001b[43mparams\u001b[49m\u001b[43m,\u001b[49m\n\u001b[1;32m    420\u001b[0m \u001b[43m        \u001b[49m\u001b[43mbody\u001b[49m\u001b[43m,\u001b[49m\n\u001b[1;32m    421\u001b[0m \u001b[43m        \u001b[49m\u001b[43mheaders\u001b[49m\u001b[38;5;241;43m=\u001b[39;49m\u001b[43mheaders\u001b[49m\u001b[43m,\u001b[49m\n\u001b[1;32m    422\u001b[0m \u001b[43m        \u001b[49m\u001b[43mignore\u001b[49m\u001b[38;5;241;43m=\u001b[39;49m\u001b[43mignore\u001b[49m\u001b[43m,\u001b[49m\n\u001b[1;32m    423\u001b[0m \u001b[43m        \u001b[49m\u001b[43mtimeout\u001b[49m\u001b[38;5;241;43m=\u001b[39;49m\u001b[43mtimeout\u001b[49m\u001b[43m,\u001b[49m\n\u001b[1;32m    424\u001b[0m \u001b[43m    \u001b[49m\u001b[43m)\u001b[49m\n\u001b[1;32m    426\u001b[0m     \u001b[38;5;66;03m# Lowercase all the header names for consistency in accessing them.\u001b[39;00m\n\u001b[1;32m    427\u001b[0m     headers_response \u001b[38;5;241m=\u001b[39m {\n\u001b[1;32m    428\u001b[0m         header\u001b[38;5;241m.\u001b[39mlower(): value \u001b[38;5;28;01mfor\u001b[39;00m header, value \u001b[38;5;129;01min\u001b[39;00m headers_response\u001b[38;5;241m.\u001b[39mitems()\n\u001b[1;32m    429\u001b[0m     }\n",
      "File \u001b[0;32m~/miniconda3/envs/aws_workshop/lib/python3.10/site-packages/opensearchpy/connection/http_urllib3.py:308\u001b[0m, in \u001b[0;36mUrllib3HttpConnection.perform_request\u001b[0;34m(self, method, url, params, body, timeout, ignore, headers)\u001b[0m\n\u001b[1;32m    304\u001b[0m \u001b[38;5;28;01mif\u001b[39;00m \u001b[38;5;129;01mnot\u001b[39;00m (\u001b[38;5;241m200\u001b[39m \u001b[38;5;241m<\u001b[39m\u001b[38;5;241m=\u001b[39m response\u001b[38;5;241m.\u001b[39mstatus \u001b[38;5;241m<\u001b[39m \u001b[38;5;241m300\u001b[39m) \u001b[38;5;129;01mand\u001b[39;00m response\u001b[38;5;241m.\u001b[39mstatus \u001b[38;5;129;01mnot\u001b[39;00m \u001b[38;5;129;01min\u001b[39;00m ignore:\n\u001b[1;32m    305\u001b[0m     \u001b[38;5;28mself\u001b[39m\u001b[38;5;241m.\u001b[39mlog_request_fail(\n\u001b[1;32m    306\u001b[0m         method, full_url, url, orig_body, duration, response\u001b[38;5;241m.\u001b[39mstatus, raw_data\n\u001b[1;32m    307\u001b[0m     )\n\u001b[0;32m--> 308\u001b[0m     \u001b[38;5;28;43mself\u001b[39;49m\u001b[38;5;241;43m.\u001b[39;49m\u001b[43m_raise_error\u001b[49m\u001b[43m(\u001b[49m\n\u001b[1;32m    309\u001b[0m \u001b[43m        \u001b[49m\u001b[43mresponse\u001b[49m\u001b[38;5;241;43m.\u001b[39;49m\u001b[43mstatus\u001b[49m\u001b[43m,\u001b[49m\n\u001b[1;32m    310\u001b[0m \u001b[43m        \u001b[49m\u001b[43mraw_data\u001b[49m\u001b[43m,\u001b[49m\n\u001b[1;32m    311\u001b[0m \u001b[43m        \u001b[49m\u001b[38;5;28;43mself\u001b[39;49m\u001b[38;5;241;43m.\u001b[39;49m\u001b[43mget_response_headers\u001b[49m\u001b[43m(\u001b[49m\u001b[43mresponse\u001b[49m\u001b[43m)\u001b[49m\u001b[38;5;241;43m.\u001b[39;49m\u001b[43mget\u001b[49m\u001b[43m(\u001b[49m\u001b[38;5;124;43m\"\u001b[39;49m\u001b[38;5;124;43mcontent-type\u001b[39;49m\u001b[38;5;124;43m\"\u001b[39;49m\u001b[43m)\u001b[49m\u001b[43m,\u001b[49m\n\u001b[1;32m    312\u001b[0m \u001b[43m    \u001b[49m\u001b[43m)\u001b[49m\n\u001b[1;32m    314\u001b[0m \u001b[38;5;28mself\u001b[39m\u001b[38;5;241m.\u001b[39mlog_request_success(\n\u001b[1;32m    315\u001b[0m     method, full_url, url, orig_body, response\u001b[38;5;241m.\u001b[39mstatus, raw_data, duration\n\u001b[1;32m    316\u001b[0m )\n\u001b[1;32m    318\u001b[0m \u001b[38;5;28;01mreturn\u001b[39;00m response\u001b[38;5;241m.\u001b[39mstatus, response\u001b[38;5;241m.\u001b[39mheaders, raw_data\n",
      "File \u001b[0;32m~/miniconda3/envs/aws_workshop/lib/python3.10/site-packages/opensearchpy/connection/base.py:315\u001b[0m, in \u001b[0;36mConnection._raise_error\u001b[0;34m(self, status_code, raw_data, content_type)\u001b[0m\n\u001b[1;32m    312\u001b[0m \u001b[38;5;28;01mexcept\u001b[39;00m (\u001b[38;5;167;01mValueError\u001b[39;00m, \u001b[38;5;167;01mTypeError\u001b[39;00m) \u001b[38;5;28;01mas\u001b[39;00m err:\n\u001b[1;32m    313\u001b[0m     logger\u001b[38;5;241m.\u001b[39mwarning(\u001b[38;5;124m\"\u001b[39m\u001b[38;5;124mUndecodable raw error response from server: \u001b[39m\u001b[38;5;132;01m%s\u001b[39;00m\u001b[38;5;124m\"\u001b[39m, err)\n\u001b[0;32m--> 315\u001b[0m \u001b[38;5;28;01mraise\u001b[39;00m HTTP_EXCEPTIONS\u001b[38;5;241m.\u001b[39mget(status_code, TransportError)(\n\u001b[1;32m    316\u001b[0m     status_code, error_message, additional_info\n\u001b[1;32m    317\u001b[0m )\n",
      "\u001b[0;31mRequestError\u001b[0m: RequestError(400, 'parsing_exception', 'Unknown key for a VALUE_STRING in [inputText].')"
     ]
    }
   ],
   "source": [
    "semantic_search(query_text)\n",
    "# print(index_name)"
   ]
  },
  {
   "cell_type": "code",
   "execution_count": 27,
   "metadata": {},
   "outputs": [
    {
     "name": "stdout",
     "output_type": "stream",
     "text": [
      "Stored 'model_id' (str)\n",
      "Stored 'index_name' (str)\n"
     ]
    }
   ],
   "source": [
    "%store model_id\n",
    "%store index_name"
   ]
  },
  {
   "cell_type": "code",
   "execution_count": null,
   "metadata": {},
   "outputs": [],
   "source": []
  }
 ],
 "metadata": {
  "kernelspec": {
   "display_name": "Python 3 (ipykernel)",
   "language": "python",
   "name": "python3"
  },
  "language_info": {
   "codemirror_mode": {
    "name": "ipython",
    "version": 3
   },
   "file_extension": ".py",
   "mimetype": "text/x-python",
   "name": "python",
   "nbconvert_exporter": "python",
   "pygments_lexer": "ipython3",
   "version": "3.10.14"
  }
 },
 "nbformat": 4,
 "nbformat_minor": 4
}
