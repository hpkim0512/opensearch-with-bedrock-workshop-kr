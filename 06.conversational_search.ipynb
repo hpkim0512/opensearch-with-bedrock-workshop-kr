{
 "cells": [
  {
   "cell_type": "markdown",
   "metadata": {},
   "source": [
    "# 대화형 검색 - Conversational Search\n"
   ]
  },
  {
   "cell_type": "markdown",
   "metadata": {},
   "source": [
    "# Overview\n",
    "\n",
    "대화형 검색은 사용자가 자연스럽게 질문하면 인공지능 시스템이 이해하고 관련 정보를 제공하는 방식을 말합니다. 단순히 키워드를 검색하는 것이 아니라, 실제 대화를 통해 정보를 얻습니다. 이는 사용자가 보다 자연스럽게 원하는 정보를 찾을 수 있게 해주며, 키워드를 입력하는 대신 대화를 통해 원하는 내용을 명확히 전달할 수 있습니다. 더불어, 지속적인 대화를 통해 추가적인 정보를 요청하거나 세부 사항을 파악하는 것도 가능합니다.\n"
   ]
  },
  {
   "cell_type": "markdown",
   "metadata": {},
   "source": [
    "# 사전 준비\n",
    "\n",
    "이번 단계를 진행하기 위해서는 [시맨틱 검색 단계](./02.semantic_search.ipynb)를 필수적으로 완료하셔야 합니다. Amazon OpenSearch Service로의 연결은 [시맨틱 검색 단계](./02.semantic_search.ipynb)와 동일하게 수행합니다.\n"
   ]
  },
  {
   "cell_type": "code",
   "execution_count": 2,
   "metadata": {},
   "outputs": [],
   "source": [
    "%store -r model_id\n",
    "%store -r index_name"
   ]
  },
  {
   "cell_type": "markdown",
   "metadata": {},
   "source": [
    "패키지를 설치하고 import 합니다.\n"
   ]
  },
  {
   "cell_type": "markdown",
   "metadata": {},
   "source": [
    "CloudFormation에서 필요한 정보를 가져와 OpenSearch 도메인에 연결합니다.\n"
   ]
  },
  {
   "cell_type": "code",
   "execution_count": 13,
   "metadata": {},
   "outputs": [],
   "source": [
    "from opensearchpy import OpenSearch\n",
    "import textwrap\n",
    "import json\n",
    "\n",
    "# OpenSearch 연결 설정\n",
    "base_url = \"https://localhost:9200/_plugins/_ml\"\n",
    "host = 'localhost'\n",
    "port = 9200\n",
    "auth = ('admin', 'TestUser2@')  # 초기 설정한 어드민 비밀번호 사용\n",
    "\n",
    "aos_client = OpenSearch(\n",
    "    hosts=[{'host': host, 'port': port}],\n",
    "    http_auth=auth,\n",
    "    use_ssl=True,\n",
    "    verify_certs=False,\n",
    "    ssl_show_warn=False,\n",
    ")"
   ]
  },
  {
   "cell_type": "markdown",
   "metadata": {},
   "source": [
    "연결이 잘 되었는지 확인합니다.\n"
   ]
  },
  {
   "cell_type": "code",
   "execution_count": null,
   "metadata": {},
   "outputs": [],
   "source": [
    "import requests\n",
    "\n",
    "# search_model = {\"query\": {\"match\": {\"name\": \"OpenSearch-Cohere\"}}, \"size\": 10}\n",
    "\n",
    "# response = requests.get(\n",
    "#     \"https://\" + aos_host + \"/_plugins/_ml/models/_search\", auth=auth, json=search_model\n",
    "# )\n",
    "# model_info = json.loads(response.text)\n",
    "# model_id = model_info[\"hits\"][\"hits\"][0][\"_id\"]\n",
    "\n",
    "# index_name = \"movie_semantic\""
   ]
  },
  {
   "cell_type": "code",
   "execution_count": 4,
   "metadata": {},
   "outputs": [
    {
     "name": "stdout",
     "output_type": "stream",
     "text": [
      "{'count': 1000, '_shards': {'total': 1, 'successful': 1, 'skipped': 0, 'failed': 0}}\n"
     ]
    }
   ],
   "source": [
    "count = aos_client.count(index=index_name)\n",
    "print(count)"
   ]
  },
  {
   "cell_type": "markdown",
   "metadata": {},
   "source": [
    "# 대화형 검색 구현하기\n"
   ]
  },
  {
   "cell_type": "markdown",
   "metadata": {},
   "source": [
    "## LangChain을 사용한 대화형 AI 에이전트 구성\n",
    "\n",
    "LangChain 라이브러리를 사용하여 Anthropic의 Claude 언어 모델을 기반으로 한 대화형 AI 에이전트를 구성합니다. 여기서는 **`ConversationBufferWindowMemory`**를 사용하여 최근 10개의 메시지를 기억하는 대화 기억 장치를 생성합니다.\n"
   ]
  },
  {
   "cell_type": "code",
   "execution_count": 6,
   "metadata": {},
   "outputs": [],
   "source": [
    "import os\n",
    "from dotenv import dotenv_values\n",
    "\n",
    "env_vars = dotenv_values('.env_api')\n",
    "os.environ[\"OPENAI_API_KEY\"] = env_vars.get(\"OPENAI_API_KEY\")"
   ]
  },
  {
   "cell_type": "code",
   "execution_count": 7,
   "metadata": {},
   "outputs": [],
   "source": [
    "from langchain.memory import ConversationBufferWindowMemory\n",
    "\n",
    "from langchain.chains.question_answering import load_qa_chain\n",
    "from langchain_openai import ChatOpenAI\n",
    "from langchain_core.messages import HumanMessage\n",
    "\n",
    "llm = ChatOpenAI(\n",
    "    model_name='gpt-4o-mini-2024-07-18',\n",
    "    max_tokens=2048,\n",
    "    temperature=0,\n",
    "    streaming=True,\n",
    ")\n",
    "\n",
    "memory = ConversationBufferWindowMemory(memory_key=\"chat_history\", k=10, return_messages=True)"
   ]
  },
  {
   "cell_type": "markdown",
   "metadata": {},
   "source": [
    "## OpenSearch의 하이브리드 Retriever 객체 생성\n",
    "\n",
    "OpenSearch 엔진을 사용하여 하이브리드 검색을 수행하는 OpenSearchHybridSearchRetriever를 정의합니다. 이 검색기는 LangChain의 BaseRetriever 클래스를 상속받고 있으며, 주요 기능은 다음과 같습니다. OpenSearchHybridSearchRetriever는 추후 대화형 검색 체인에서 retriever 역할을 담당하게 됩니다.\n"
   ]
  },
  {
   "cell_type": "code",
   "execution_count": 8,
   "metadata": {},
   "outputs": [],
   "source": [
    "from langchain.callbacks.manager import CallbackManagerForRetrieverRun\n",
    "from langchain.schema import BaseRetriever\n",
    "from typing import Any, List\n",
    "from langchain.schema import Document\n",
    "\n",
    "\n",
    "class OpenSearchHybridSearchRetriever(BaseRetriever):\n",
    "    os_client: Any\n",
    "    index_name: str\n",
    "    model_id: str\n",
    "    keyword_weight = 0.3\n",
    "    semantic_weight = 0.7\n",
    "    k = 10\n",
    "    minimum_should_match = 0\n",
    "    filter = []\n",
    "\n",
    "    def _reset_search_params(\n",
    "        self,\n",
    "    ):\n",
    "\n",
    "        self.k = 10\n",
    "        self.minimum_should_match = 0\n",
    "        self.filter = []\n",
    "        self.keyword_weight = keyword_weight\n",
    "        self.semantic_weight = semantic_weight\n",
    "\n",
    "    def _get_relevant_documents(\n",
    "        self, query_text: str, *, run_manager: CallbackManagerForRetrieverRun\n",
    "    ) -> List[Document]:\n",
    "        query = {\n",
    "            \"size\": 10,\n",
    "            \"_source\": {\"exclude\": [\"text\", \"vector_field\"]},\n",
    "            \"query\": {\n",
    "                \"hybrid\": {\n",
    "                    \"queries\": [\n",
    "                        {\n",
    "                            \"multi_match\": {\n",
    "                                \"query\": query_text,\n",
    "                                \"fields\": [\"title\", \"plot\", \"genre\", \"main_act\", \"supp_act\"],\n",
    "                            }\n",
    "                        },\n",
    "                        {\n",
    "                            \"neural\": {\n",
    "                                \"vector_field\": {\n",
    "                                    \"query_text\": query_text,\n",
    "                                    \"model_id\": model_id,\n",
    "                                    \"k\": 30,\n",
    "                                }\n",
    "                            }\n",
    "                        },\n",
    "                    ]\n",
    "                }\n",
    "            },\n",
    "            \"search_pipeline\": {\n",
    "                \"description\": \"Post processor for hybrid search\",\n",
    "                \"phase_results_processors\": [\n",
    "                    {\n",
    "                        \"normalization-processor\": {\n",
    "                            \"normalization\": {\"technique\": \"min_max\"},\n",
    "                            \"combination\": {\n",
    "                                \"technique\": \"arithmetic_mean\",\n",
    "                                \"parameters\": {\n",
    "                                    \"weights\": [self.keyword_weight, self.semantic_weight]\n",
    "                                },\n",
    "                            },\n",
    "                        }\n",
    "                    }\n",
    "                ],\n",
    "            },\n",
    "        }\n",
    "        res = self.os_client.search(index=index_name, body=query)\n",
    "\n",
    "        query_result = []\n",
    "\n",
    "        for hit in res[\"hits\"][\"hits\"]:\n",
    "            metadata = {\"score\": hit[\"_score\"], \"id\": hit[\"_id\"]}\n",
    "\n",
    "            content = {\n",
    "                \"제목\": hit[\"_source\"][\"title\"],\n",
    "                \"장르\": hit[\"_source\"][\"genre\"],\n",
    "                \"평점\": hit[\"_source\"][\"rating\"],\n",
    "                \"줄거리\": hit[\"_source\"][\"plot\"],\n",
    "                \"주연\": hit[\"_source\"][\"main_act\"],\n",
    "                \"조연\": hit[\"_source\"][\"supp_act\"],\n",
    "            }\n",
    "\n",
    "            doc = Document(page_content=json.dumps(content, ensure_ascii=False), metadata=metadata)\n",
    "            query_result.append(doc)\n",
    "        return query_result"
   ]
  },
  {
   "cell_type": "markdown",
   "metadata": {},
   "source": [
    "## 프롬프트 템플릿 정의\n"
   ]
  },
  {
   "cell_type": "markdown",
   "metadata": {},
   "source": [
    "### 영화 추천 기본 프롬프트 정의\n",
    "\n",
    "이 프롬프트는 목록에서 특정 질문에 대한 답변을 생성하는 프롬프트 템플릿을 정의합니다. 프롬프트 템플릿은 주어진 컨텍스트(영화 목록)와 질문을 입력받아 답변을 생성하는 형식으로 구성되어 있습니다. 답변 생성 시에는 정해진 규칙(예의바른 태도, 목록 형식, 간단한 설명 등)을 따르도록 되어 있습니다.\n"
   ]
  },
  {
   "cell_type": "code",
   "execution_count": 9,
   "metadata": {},
   "outputs": [],
   "source": [
    "from langchain import PromptTemplate\n",
    "\n",
    "prompt_template = \"\"\"\n",
    "\n",
    "\n",
    "Human: Here is the list of recommended movies, inside <movies></movies> XML tags.\n",
    "\n",
    "<movies>\n",
    "{context}\n",
    "</movies>\n",
    "\n",
    "Only using the contex as above, answer the following question with the rules as below:\n",
    "    - Don't insert XML tag such as <context> and </context> when answering.\n",
    "    - Write as much as you can\n",
    "    - Be courteous and polite\n",
    "    - Only answer the question if you can find the answer in the context with certainty.\n",
    "    - Answered in list format\n",
    "    - Always put a short and concise explanation on why you are recommending this movies.\n",
    "\n",
    "You are a best movie reviewer in Korea. Please answer the movie question based on the information in the context.\n",
    "\n",
    "Assistant: Here are a movies from the list above.\n",
    "\n",
    "Question:\n",
    "{question}\n",
    "\n",
    "If the answer is not in the context, just say \"추천해드릴만한 영화가 없습니다.\"\n",
    "\n",
    "\n",
    "Assistant:\"\"\"\n",
    "\n",
    "PROMPT = PromptTemplate(template=prompt_template, input_variables=[\"context\", \"question\"])"
   ]
  },
  {
   "cell_type": "markdown",
   "metadata": {},
   "source": [
    "### Condense 템플릿 정의\n",
    "\n",
    "이 프롬프트 템플릿은 대화 내역과 후속 질문을 입력받아 독립적인 질문을 생성하는 데 사용됩니다. 템플릿의 구조는 다음과 같습니다:\n",
    "\n",
    "1. **지시사항(instructions)**: 이 섹션에서는 프롬프트의 목적과 입력 형식에 대한 설명을 제공합니다.\n",
    "2. **대화 내역(chat_history)**: 여기에는 이전 대화 내용이 포함됩니다. **`{chat_history}`** 부분이 실제 대화 내역으로 대체됩니다.\n",
    "3. **후속 질문(follow-up-question)**: 이 섹션에는 대화 내역에 대한 후속 질문이 포함됩니다. **`{question}`** 부분이 실제 후속 질문으로 대체됩니다.\n",
    "4. **독립 질문(standalone question)**: 이 부분에서 모델은 대화 내역과 후속 질문을 요약한 독립적인 질문을 생성해야 합니다.\n",
    "\n",
    "이 프롬프트 템플릿을 사용하면 LangChain의 **`CONDENSE_QUESTION_PROMPT`**에 대화 내역과 후속 질문을 입력할 수 있습니다. 그러면 모델이 이전 대화 내용과 후속 질문을 종합하여 독립적인 질문을 생성합니다. 이렇게 생성된 질문은 대화 맥락을 유지하면서도 독립적으로 이해할 수 있습니다.\n"
   ]
  },
  {
   "cell_type": "code",
   "execution_count": 10,
   "metadata": {},
   "outputs": [],
   "source": [
    "condense_template = \"\"\"\n",
    "Generate one standalone question based on the instructions.\n",
    "\n",
    "<instrunctions>\n",
    "- You will be given the following conversation between <chat-history> and </chat-history>\n",
    "- You will be given the following follow up question between <follow-up-question> and </follow-up-question>\n",
    "- Standalone question should have summary of the previous questions and answers.\n",
    "</instructions>\n",
    "\n",
    "<chat-history>\n",
    "{chat_history}\n",
    "</chat-history>\n",
    "\n",
    "<follow-up-question>\n",
    "{question}\n",
    "</follow-up-question>\n",
    "\n",
    "standalone question:\n",
    "\"\"\"\n",
    "\n",
    "CONDENSE_QUESTION_PROMPT = PromptTemplate.from_template(condense_template)"
   ]
  },
  {
   "cell_type": "markdown",
   "metadata": {},
   "source": [
    "ConversationalRetrievalChain을 통해 대화형 검색을 위한 Chain을 구성합니다. 문서 검색을 위해 앞서 정의한 OpenSearchHybridSearchRetriever를 retriever로 제공하고, 검색 히스토리가 저장되는 memory 객체를 전달합니다.\n"
   ]
  },
  {
   "cell_type": "code",
   "execution_count": 18,
   "metadata": {},
   "outputs": [],
   "source": [
    "from langchain.chains import ConversationalRetrievalChain\n",
    "\n",
    "memory.clear()\n",
    "\n",
    "hybrid_retriever = OpenSearchHybridSearchRetriever(\n",
    "    os_client=aos_client, index_name=index_name, model_id=model_id\n",
    ")\n",
    "\n",
    "conversation_with_retrieval = ConversationalRetrievalChain.from_llm(\n",
    "    llm,\n",
    "    retriever=hybrid_retriever,\n",
    "    memory=memory,\n",
    "    combine_docs_chain_kwargs={\"prompt\": PROMPT},\n",
    "    condense_question_prompt=CONDENSE_QUESTION_PROMPT,\n",
    "    # verbose=True,\n",
    ")"
   ]
  },
  {
   "cell_type": "markdown",
   "metadata": {},
   "source": [
    "# 대화형 검색 테스트\n",
    "\n",
    "이제 실제로 대화형 검색을 시도해봅시다. 먼저 첫 번째 질문으로 영화를 추천받습니다.\n"
   ]
  },
  {
   "cell_type": "code",
   "execution_count": 19,
   "metadata": {},
   "outputs": [
    {
     "name": "stdout",
     "output_type": "stream",
     "text": [
      "Here are some movies from the list that feature heroes with special abilities or\n",
      "powers who protect the Earth:  1. **초능력자 (The Superpower)**    - **Genre:**\n",
      "SF|스릴러|액션|드라마    - **Rating:** 6.69    - **Summary:** The story revolves around\n",
      "a character named 규남, who is the only person immune to the control of a\n",
      "superhuman who can manipulate others. As chaos ensues, 규남 must confront this\n",
      "powerful adversary to protect himself and others.    - **Recommendation\n",
      "Reason:** This film showcases a battle between a superhuman and an ordinary\n",
      "person who must rise to the challenge, embodying the theme of protecting\n",
      "humanity against extraordinary threats.  2. **왓치맨 (Watchmen)**    - **Genre:**\n",
      "액션|드라마|SF|판타지|스릴러    - **Rating:** 6.8    - **Summary:** Set in a world where\n",
      "superheroes are outlawed, the story follows '로어셰크' as he investigates the murder\n",
      "of a former colleague, uncovering a conspiracy that threatens humanity.    -\n",
      "**Recommendation Reason:** This film features heroes with unique abilities who\n",
      "are drawn back into action to confront a looming disaster, highlighting the\n",
      "struggle to protect society.  3. **수어사이드 스쿼드 (Suicide Squad)**    - **Genre:**\n",
      "액션    - **Rating:** 6.97    - **Summary:** A group of supervillains is assembled\n",
      "by the government to undertake dangerous missions in exchange for reduced\n",
      "sentences. They face a powerful witch threatening to destroy the world.    -\n",
      "**Recommendation Reason:** This movie presents a team of extraordinary\n",
      "individuals, albeit anti-heroes, who must unite to save the Earth from a\n",
      "catastrophic threat.  These films not only feature characters with special\n",
      "powers but also emphasize the theme of defending the world from various dangers.\n"
     ]
    }
   ],
   "source": [
    "first_question = \"초능력을 가진 영웅들이 지구를 지킨다\"\n",
    "chat_response = conversation_with_retrieval.invoke({\"question\": first_question})\n",
    "\n",
    "print(textwrap.fill(chat_response[\"answer\"], 80))"
   ]
  },
  {
   "cell_type": "code",
   "execution_count": 20,
   "metadata": {},
   "outputs": [
    {
     "name": "stdout",
     "output_type": "stream",
     "text": [
      "Here are the actors from the recommended movies **초능력자**, **왓치맨**, and **수어사이드\n",
      "스쿼드**:  1. **초능력자**    - **주연**: 강동원, 고수, 정은채    - **조연**: 윤다경, 최덕문, 아부다드, 에네스\n",
      "카야, 양경모    - **추천 이유**: 이 영화는 초능력을 가진 인물들 간의 긴장감 넘치는 대결을 그려내며, 강동원과 고수의 뛰어난 연기가\n",
      "돋보입니다.  2. **왓치맨**    - **주연**: 잭키 얼 헤일리, 제프리 딘 모건, 빌리 크루덥, 말린 애커맨, 칼라 구기노, 패트릭\n",
      "윌슨, 매튜 구드    - **조연**: 스티븐 맥허티, 맷 플레워, 로라 메넬, 대니 우드번, 나이얼 매터, 크리스 고디어, 캐리 겐젤, 샐리\n",
      "사피오티, 브렛 스티멜리, 제이 브라조, 댄 페인    - **추천 이유**: 이 영화는 복잡한 스토리와 깊이 있는 캐릭터들로 구성되어 있으며,\n",
      "배우들의 뛰어난 연기가 관객을 사로잡습니다.  3. **수어사이드 스쿼드**    - **주연**: 윌 스미스, 자레드 레토, 마고 로비, 카라\n",
      "델레바인, 제이 코트니    - **조연**: 조엘 킨나만, 비올라 데이비스, 아데웰 아킨누오예 아바제, 제이 헤르난데즈, 아담 비치, 카렌\n",
      "후쿠하라, 커먼, 코리나 칼데론, 짐 파랙, 이크 바린홀츠, 에즈라 밀러, 알렉스 메라즈, 케빈 밴스, 밤바디언 밤바, 테드 휘톨, 데이빗\n",
      "하버, 로빈 앳킨 다운즈, 빌리 오티스, 제임스 맥고완, 스콧 이스트우드    - **추천 이유**: 이 영화는 다양한 캐릭터들이 모여 팀을\n",
      "이루는 독특한 설정과 함께, 스타 배우들의 화려한 연기가 매력적입니다.  이 영화들은 각기 다른 매력을 지니고 있으며, 출연 배우들의 뛰어난\n",
      "연기가 영화의 재미를 더해줍니다.\n"
     ]
    }
   ],
   "source": [
    "second_question = \"그 영화에 출현한 배우는 누구입니까?\"\n",
    "chat_response = conversation_with_retrieval.invoke({\"question\": second_question})\n",
    "\n",
    "print(textwrap.fill(chat_response[\"answer\"], 80))"
   ]
  },
  {
   "cell_type": "code",
   "execution_count": 21,
   "metadata": {},
   "outputs": [
    {
     "name": "stdout",
     "output_type": "stream",
     "text": [
      "Here are some movies from the list above that feature heroes with special\n",
      "abilities or powers, along with their notable actors:  1. **수어사이드 스쿼드**    -\n",
      "**Notable Actors**: 윌 스미스, 자레드 레토, 마고 로비    - **Explanation**: This film\n",
      "showcases a team of supervillains who are forced to work together on a dangerous\n",
      "mission, highlighting their unique abilities.  2. **어벤져스**    - **Notable\n",
      "Actors**: 로버트 다우니 주니어, 스칼렛 요한슨, 크리스 헴스워스    - **Explanation**: A classic\n",
      "superhero ensemble film where various heroes with extraordinary powers unite to\n",
      "save the world from a formidable threat.  3. **앤트맨과 와스프**    - **Notable\n",
      "Actors**: 폴 러드, 에반젤린 릴리, 마이클 더글라스    - **Explanation**: This film features\n",
      "heroes who can shrink in size while gaining superhuman strength, adding a unique\n",
      "twist to the superhero genre.  4. **킥 애스: 영웅의 탄생**    - **Notable Actors**: 애런\n",
      "존슨, 클로이 모레츠, 니콜라스 케이지    - **Explanation**: A story about an ordinary teenager\n",
      "who decides to become a superhero, showcasing the journey of self-discovery and\n",
      "heroism.  These films not only feature characters with special abilities but\n",
      "also present engaging stories that explore the complexities of heroism and the\n",
      "challenges faced by those who choose to fight for justice.\n"
     ]
    }
   ],
   "source": [
    "third_question = \"비슷한 장르의 다른 영화는?\"\n",
    "chat_response = conversation_with_retrieval.invoke({third_question})\n",
    "\n",
    "print(textwrap.fill(chat_response[\"answer\"], 80))"
   ]
  },
  {
   "cell_type": "code",
   "execution_count": 27,
   "metadata": {},
   "outputs": [
    {
     "name": "stdout",
     "output_type": "stream",
     "text": [
      "Human: 초능력을 가진 영웅들이 지구를 지킨다\n",
      "AI: Here are some movies from the list that feature heroes with special abilities or powers who protect the Earth:\n",
      "\n",
      "1. **초능력자 (The Superpower)**\n",
      "   - **Genre:** SF|스릴러|액션|드라마\n",
      "   - **Rating:** 6.69\n",
      "   - **Summary:** The story revolves around a character named 규남, who is the only person immune to the control of a superhuman who can manipulate others. As chaos ensues, 규남 must confront this powerful adversary to protect himself and others.\n",
      "   - **Recommendation Reason:** This film showcases a battle between a superhuman and an ordinary person who must rise to the challenge, embodying the theme of protecting humanity against extraordinary threats.\n",
      "\n",
      "2. **왓치맨 (Watchmen)**\n",
      "   - **Genre:** 액션|드라마|SF|판타지|스릴러\n",
      "   - **Rating:** 6.8\n",
      "   - **Summary:** Set in a world where superheroes are outlawed, the story follows '로어셰크' as he investigates the murder of a former colleague, uncovering a conspiracy that threatens humanity.\n",
      "   - **Recommendation Reason:** This film features heroes with unique abilities who are drawn back into action to confront a looming disaster, highlighting the struggle to protect society.\n",
      "\n",
      "3. **수어사이드 스쿼드 (Suicide Squad)**\n",
      "   - **Genre:** 액션\n",
      "   - **Rating:** 6.97\n",
      "   - **Summary:** A group of supervillains is assembled by the government to undertake dangerous missions in exchange for reduced sentences. They face a powerful witch threatening to destroy the world.\n",
      "   - **Recommendation Reason:** This movie presents a team of extraordinary individuals, albeit anti-heroes, who must unite to save the Earth from a catastrophic threat.\n",
      "\n",
      "These films not only feature characters with special powers but also emphasize the theme of defending the world from various dangers.\n",
      "Human: 그 영화에 출현한 배우는 누구입니까?\n",
      "AI: Here are the actors from the recommended movies **초능력자**, **왓치맨**, and **수어사이드 스쿼드**:\n",
      "\n",
      "1. **초능력자**\n",
      "   - **주연**: 강동원, 고수, 정은채\n",
      "   - **조연**: 윤다경, 최덕문, 아부다드, 에네스 카야, 양경모\n",
      "   - **추천 이유**: 이 영화는 초능력을 가진 인물들 간의 긴장감 넘치는 대결을 그려내며, 강동원과 고수의 뛰어난 연기가 돋보입니다.\n",
      "\n",
      "2. **왓치맨**\n",
      "   - **주연**: 잭키 얼 헤일리, 제프리 딘 모건, 빌리 크루덥, 말린 애커맨, 칼라 구기노, 패트릭 윌슨, 매튜 구드\n",
      "   - **조연**: 스티븐 맥허티, 맷 플레워, 로라 메넬, 대니 우드번, 나이얼 매터, 크리스 고디어, 캐리 겐젤, 샐리 사피오티, 브렛 스티멜리, 제이 브라조, 댄 페인\n",
      "   - **추천 이유**: 이 영화는 복잡한 스토리와 깊이 있는 캐릭터들로 구성되어 있으며, 배우들의 뛰어난 연기가 관객을 사로잡습니다.\n",
      "\n",
      "3. **수어사이드 스쿼드**\n",
      "   - **주연**: 윌 스미스, 자레드 레토, 마고 로비, 카라 델레바인, 제이 코트니\n",
      "   - **조연**: 조엘 킨나만, 비올라 데이비스, 아데웰 아킨누오예 아바제, 제이 헤르난데즈, 아담 비치, 카렌 후쿠하라, 커먼, 코리나 칼데론, 짐 파랙, 이크 바린홀츠, 에즈라 밀러, 알렉스 메라즈, 케빈 밴스, 밤바디언 밤바, 테드 휘톨, 데이빗 하버, 로빈 앳킨 다운즈, 빌리 오티스, 제임스 맥고완, 스콧 이스트우드\n",
      "   - **추천 이유**: 이 영화는 다양한 캐릭터들이 모여 팀을 이루는 독특한 설정과 함께, 스타 배우들의 화려한 연기가 매력적입니다.\n",
      "\n",
      "이 영화들은 각기 다른 매력을 지니고 있으며, 출연 배우들의 뛰어난 연기가 영화의 재미를 더해줍니다.\n",
      "Human: ['비슷한 장르의 다른 영화는?']\n",
      "AI: Here are some movies from the list above that feature heroes with special abilities or powers, along with their notable actors:\n",
      "\n",
      "1. **수어사이드 스쿼드**\n",
      "   - **Notable Actors**: 윌 스미스, 자레드 레토, 마고 로비\n",
      "   - **Explanation**: This film showcases a team of supervillains who are forced to work together on a dangerous mission, highlighting their unique abilities.\n",
      "\n",
      "2. **어벤져스**\n",
      "   - **Notable Actors**: 로버트 다우니 주니어, 스칼렛 요한슨, 크리스 헴스워스\n",
      "   - **Explanation**: A classic superhero ensemble film where various heroes with extraordinary powers unite to save the world from a formidable threat.\n",
      "\n",
      "3. **앤트맨과 와스프**\n",
      "   - **Notable Actors**: 폴 러드, 에반젤린 릴리, 마이클 더글라스\n",
      "   - **Explanation**: This film features heroes who can shrink in size while gaining superhuman strength, adding a unique twist to the superhero genre.\n",
      "\n",
      "4. **킥 애스: 영웅의 탄생**\n",
      "   - **Notable Actors**: 애런 존슨, 클로이 모레츠, 니콜라스 케이지\n",
      "   - **Explanation**: A story about an ordinary teenager who decides to become a superhero, showcasing the journey of self-discovery and heroism.\n",
      "\n",
      "These films not only feature characters with special abilities but also present engaging stories that explore the complexities of heroism and the challenges faced by those who choose to fight for justice.\n"
     ]
    }
   ],
   "source": [
    "print(memory.chat_memory)"
   ]
  },
  {
   "cell_type": "code",
   "execution_count": 17,
   "metadata": {},
   "outputs": [
    {
     "name": "stdout",
     "output_type": "stream",
     "text": [
      "Stored 'model_id' (str)\n",
      "Stored 'index_name' (str)\n"
     ]
    }
   ],
   "source": [
    "%store model_id\n",
    "%store index_name"
   ]
  },
  {
   "cell_type": "code",
   "execution_count": null,
   "metadata": {},
   "outputs": [],
   "source": []
  }
 ],
 "metadata": {
  "kernelspec": {
   "display_name": "opensearch",
   "language": "python",
   "name": "python3"
  },
  "language_info": {
   "codemirror_mode": {
    "name": "ipython",
    "version": 3
   },
   "file_extension": ".py",
   "mimetype": "text/x-python",
   "name": "python",
   "nbconvert_exporter": "python",
   "pygments_lexer": "ipython3",
   "version": "3.10.14"
  }
 },
 "nbformat": 4,
 "nbformat_minor": 2
}
