{
 "cells": [
  {
   "cell_type": "markdown",
   "metadata": {},
   "source": [
    "# Amazon OpenSearch Serverless와 LangChain으로 빠르게 대화형 검색 구현하기"
   ]
  },
  {
   "cell_type": "markdown",
   "metadata": {},
   "source": [
    "## Overview\n",
    "\n",
    "이 워크샵에서는 Amazon OpenSearch Serverless와 LangChain을 활용하여 대화형 검색을 빠르게 구현하는 방법에 대해 알아봅니다. Amazon OpenSearch Serverless는 서버리스 환경에서 OpenSearch를 실행하고 관리하는 데 필요한 모든 기능을 제공합니다. LangChain은 머신러닝 기반의 언어 처리 플랫폼으로, 텍스트 데이터를 효과적으로 분석하고 이해하는 데 도움을 줍니다. 이 두 도구를 결합하면 대화형 검색을 효율적으로 구현할 수 있습니다.\n",
    "\n",
    "### Amazon OpenSearch Serverless는?\n",
    "\n",
    "Amazon OpenSearch Serverless는 고성능 검색 및 분석 기능을 제공하며, 사용자가 인프라 관리를 걱정하지 않고 데이터에 집중할 수 있도록 해줍니다. 기본 리소스를 자동으로 프로비저닝하고 확장하여 가장 복잡하고 예측할 수 없는 워크로드에도 빠른 데이터 수집 및 쿼리 응답을 제공합니다. 따라서 클러스터를 구성하고 최적화하는 데 필요한 작업은 없습니다.\n",
    "\n",
    "Amazon OpenSearch Serverless를 사용하면 쿼리의 빈도나 복잡성, 분석 대상 데이터의 양 등 예측하기 어려운 요소를 고려할 필요가 없습니다. 인프라 관리 대신 OpenSearch를 활용하여 데이터 탐색과 인사이트 추출에 집중할 수 있습니다. 또한, 익숙한 API를 통해 데이터를 로드하고 쿼리하며, OpenSearch Dashboards를 이용해 대화형 데이터 분석 및 시각화를 할 수 있습니다.\n",
    "\n",
    "### **LangChain**\n",
    "\n",
    "LangChain은 대규모 언어 모델(LLM)을 활용하여 데이터에서 인사이트를 추출하고, 질문에 답변하며, 새로운 콘텐츠를 생성하는 등의 작업을 수행할 수 있는 프레임워크입니다. LangChain은 LLM을 다양한 소스의 데이터와 연결하고, 체인을 구성하여 복잡한 작업을 수행할 수 있도록 지원합니다.\n",
    "\n",
    "LangChain은 다음과 같은 주요 기능을 제공합니다:\n",
    "\n",
    "1. **데이터 로딩**: LangChain은 다양한 유형의 데이터(PDF, CSV, 웹페이지 등)를 로드하고 LLM에 적합한 형식으로 변환할 수 있습니다.\n",
    "2. **체인 구성**: LangChain을 사용하면 여러 개의 LLM과 다른 유형의 체인(순차적, 반복적, 메모리 등)을 구성할 수 있습니다.\n",
    "3. **검색 및 질의 응답**: LangChain은 벡터 데이터베이스와 통합되어 관련 문서를 검색하고, 검색 결과를 기반으로 질문에 답변할 수 있습니다.\n",
    "4. **에이전트**: LangChain은 에이전트라는 개념을 제공하며, 에이전트는 여러 도구와 상호작용하여 복잡한 작업을 수행할 수 있습니다.\n",
    "5. **메모리**: LangChain은 대화 기록, 중간 결과 등을 저장하고 활용할 수 있는 메모리 기능을 제공합니다.\n",
    "\n",
    "### **Amazon OpenSearch Serverless와 LangChain 통합**\n",
    "\n",
    "Amazon OpenSearch Serverless와 LangChain을 통합하면 다음과 같은 이점이 있습니다:\n",
    "\n",
    "1. **대규모 데이터 처리**: Amazon OpenSearch Serverless는 대규모 데이터를 효율적으로 저장하고 검색할 수 있습니다. LangChain은 이 데이터를 로드하고 LLM과 연결하여 인사이트를 추출할 수 있습니다.\n",
    "2. **벡터 검색**: Amazon OpenSearch Serverless 벡터 엔진을 사용하면 LangChain에서 벡터 데이터베이스를 활용하여 관련 문서를 효율적으로 검색할 수 있습니다.\n",
    "3. **대화형 검색 경험**: LangChain의 질의 응답 기능과 Amazon OpenSearch Serverless의 검색 기능을 결합하면 자연어 질문에 대한 대화형 검색 경험을 제공할 수 있습니다.\n",
    "4. **확장성**: Amazon OpenSearch Serverless는 서버리스 아키텍처를 기반으로 하므로 워크로드에 따라 자동으로 확장되며, LangChain은 이 확장된 리소스를 활용할 수 있습니다.\n",
    "5. **비용 효율성**: Amazon OpenSearch Serverless는 사용한 만큼만 비용을 지불하는 서버리스 모델을 따르므로 비용 효율적입니다.\n",
    "\n",
    "이 워크샵에서는 Amazon OpenSearch Serverless와 LangChain을 통합하여 대화형 검색 애플리케이션을 구축하는 과정을 단계별로 안내합니다. 데이터 로딩, 벡터 인덱싱, LLM 통합, 질의 응답 등의 주요 기능을 다룰 예정입니다."
   ]
  },
  {
   "cell_type": "markdown",
   "metadata": {},
   "source": [
    "## 사전 준비"
   ]
  },
  {
   "cell_type": "markdown",
   "metadata": {},
   "source": [
    "필요한 패키지 설치 및 임포트합니다"
   ]
  },
  {
   "cell_type": "code",
   "execution_count": 1,
   "metadata": {},
   "outputs": [],
   "source": [
    "from langchain_community.vectorstores import OpenSearchVectorSearch\n",
    "from langchain_text_splitters import CharacterTextSplitter\n",
    "import textwrap"
   ]
  },
  {
   "cell_type": "markdown",
   "metadata": {},
   "source": [
    "## AOSS 클라이언트 생성 및 인증 정보 초기화\n",
    "\n",
    "이번 과정은 SageMaker Notebook 내의 `00.langchin_aoss.ipynb` 상에서 진행됩니다. 먼저 Amazon OpenSearch Serverless에 접근하기 위한 인증 정보를 초기화합니다."
   ]
  },
  {
   "cell_type": "markdown",
   "metadata": {},
   "source": [
    "LangChain의 CSVLoader를 사용하여 `movies.csv` 파일을 읽어, 각 문서를 일정 크기의 조각(chunk)으로 분할하는 `CharacterTextSplitter`를 사용합니다. 이렇게 분할된 문서들이 `docs` 변수에 저장되며, 마지막으로 `len(docs)`를 통해 분할된 문서의 개수를 확인합니다. 현재 movies.csv 파일에는 모두 1000개의 영화에 대한 정보가 들어있으므로 docs의 길이는 1000이 됩니다. \n",
    "\n",
    "`CSVLoader`는 CSV 파일로부터 데이터를 로드하는 역할을 합니다. 이 클래스는 파일 경로를 인자로 받아, 해당 파일을 읽고 각 행을 하나의 문서로 변환합니다. 각 문서는 딕셔너리 형태로 저장되며, CSV 파일의 각 열은 딕셔너리의 키가 되고, 해당 행의 값은 딕셔너리의 값이 됩니다. 이렇게 변환된 문서들은 리스트로 묶여 반환됩니다. 따라서 `CSVLoader`를 사용하면, CSV 형식의 데이터를 쉽게 LangChain에서 사용할 수 있는 형식으로 변환할 수 있습니다.\n",
    "\n",
    "CSVLoader를 사용했기 때문에 chunk_size가 1000이라 하더라도 chunk_size 기준이 아닌 CSV 형식에 맞춰서 구분 되게 됩니다."
   ]
  },
  {
   "cell_type": "code",
   "execution_count": 2,
   "metadata": {},
   "outputs": [
    {
     "data": {
      "text/plain": [
       "1000"
      ]
     },
     "execution_count": 2,
     "metadata": {},
     "output_type": "execute_result"
    }
   ],
   "source": [
    "from langchain_community.document_loaders import CSVLoader\n",
    "from langchain_openai import OpenAIEmbeddings\n",
    "\n",
    "loader = CSVLoader(\"./data/movies.csv\")\n",
    "documents = loader.load()\n",
    "text_splitter = CharacterTextSplitter(chunk_size=1000, chunk_overlap=0)\n",
    "docs = text_splitter.split_documents(documents)\n",
    "\n",
    "\n",
    "len(docs)"
   ]
  },
  {
   "cell_type": "code",
   "execution_count": 3,
   "metadata": {},
   "outputs": [],
   "source": [
    "import os\n",
    "from dotenv import dotenv_values\n",
    "\n",
    "env_vars = dotenv_values('.env_api')\n",
    "os.environ[\"OPENAI_API_KEY\"] = env_vars.get(\"OPENAI_API_KEY\")"
   ]
  },
  {
   "cell_type": "markdown",
   "metadata": {},
   "source": [
    "langchain의 langchain_openai 서비스를 사용하여 문서 내용을 벡터로 임베딩합니다. OpenAIEmbeddings 클래스를 사용하여 text-embedding-3-small 모델을 로드하고, 잘 동작하는지 테스트하기 위해 embed_query를 호출해봅니다. "
   ]
  },
  {
   "cell_type": "code",
   "execution_count": 4,
   "metadata": {},
   "outputs": [
    {
     "data": {
      "text/plain": [
       "1536"
      ]
     },
     "execution_count": 4,
     "metadata": {},
     "output_type": "execute_result"
    }
   ],
   "source": [
    "embeddings = OpenAIEmbeddings(model='text-embedding-3-small')\n",
    "\n",
    "# Test embedding models\n",
    "vector = embeddings.embed_query(\"This is a content of the document\")\n",
    "len(vector)"
   ]
  },
  {
   "cell_type": "markdown",
   "metadata": {},
   "source": [
    "OpenSearchVectorSearch 클래스를 사용하여 문서 데이터를 OpenSearch 서비스에 인덱싱합니다. from_documents 메서드를 호출하여 docs 리스트에 있는 문서들을 embeddings 객체를 사용하여 벡터로 임베딩한 뒤, aoss_host에 지정된 OpenSearch 서비스 URL과 awsauth 인증 정보를 사용하여 \"top_movies\" 인덱스에 bulk 방식으로 인덱싱합니다."
   ]
  },
  {
   "cell_type": "code",
   "execution_count": 5,
   "metadata": {},
   "outputs": [],
   "source": [
    "docsearch = OpenSearchVectorSearch.from_documents(\n",
    "    docs,\n",
    "    embeddings,\n",
    "    opensearch_url=\"https://localhost:9200\",\n",
    "    http_auth=(\"admin\", \"TestUser2@\"),\n",
    "    use_ssl = False,\n",
    "    verify_certs = False,\n",
    "    ssl_assert_hostname = False,\n",
    "    ssl_show_warn = False,\n",
    "    engine='faiss',\n",
    "    bulk_size=20000,\n",
    ")"
   ]
  },
  {
   "cell_type": "code",
   "execution_count": 6,
   "metadata": {},
   "outputs": [
    {
     "data": {
      "text/plain": [
       "<langchain_community.vectorstores.opensearch_vector_search.OpenSearchVectorSearch at 0x74e2a211c970>"
      ]
     },
     "execution_count": 6,
     "metadata": {},
     "output_type": "execute_result"
    }
   ],
   "source": [
    "docsearch"
   ]
  },
  {
   "cell_type": "markdown",
   "metadata": {},
   "source": [
    "데이터가 잘 인덱싱되었는지 `similarity_search`를 호출하여 확인합니다. "
   ]
  },
  {
   "cell_type": "code",
   "execution_count": 8,
   "metadata": {},
   "outputs": [
    {
     "data": {
      "text/plain": [
       "[Document(metadata={'source': './data/movies.csv', 'row': 141}, page_content=\"title: 건축학개론\\ngenre: 멜로/로맨스\\nyear: 2012\\ndate: 3.22\\nrating: 8.67\\nvote_count: 14984\\nplot: 생기 넘치지만 숫기 없던 스무 살, 건축학과 승민은 '건축학개론' 수업에서 처음 만난 음대생 서연에게 반한다. 함께 숙제를 하게 되면서 차츰 마음을 열고 친해지지만, 자신의 마음을 표현하는 데 서툰 순진한 승민은 입 밖에 낼 수 없었던 고백을 마음 속에 품은 채 작은 오해로 인해 서연과 멀어지게 된다. 어쩌면 다시…사랑할 수 있을까? 15년 만에 그녀를 다시 만났다 서른 다섯의 건축가가 된 승민 앞에 15년 만에 불쑥 나타난 서연. 당황스러움을 감추지 못하는 승민에게 서연은 자신을 위한 집을 설계해달라고 한다. 자신의 이름을 건 첫 작품으로 서연의 집을 짓게 된 승민, 함께 집을 완성해 가는 동안 어쩌면 사랑이었을지 모를 그때의 기억이 되살아나 두 사람 사이에 새로운 감정이 쌓이기 시작하는데…\\nmain_act: 엄태웅|한가인|이제훈|수지\\nsupp_act: 조정석|유연석|김동주|이승호|김의성|박수영|조현철\"),\n",
       " Document(metadata={'source': './data/movies.csv', 'row': 495}, page_content='title: 강철중: 공공의 적 1-1\\ngenre: 범죄|스릴러|코미디|드라마|액션\\nyear: 2008\\ndate: 6.19\\nrating: 8.53\\nvote_count: 6169\\nplot: 강동서 강력반 꼴통 형사 강철중(설경구). 5년이 지난 지금도 여전히 사건 현장을 누비고 다니지만 15년 차 형사생활에 남은 거라곤 달랑 전세 집 한 칸. 형사라는 직업 때문에 은행에서 전세금 대출받는 것도 여의치 않다. 잘해야 본전 잘 못하면 사망 혹은 병신이 될 수도 있는 빡센 형사생활에 넌더리가 난 그는 급기야 사표를 제출한다. 하지만 그때 한 고등학교에서 터진 살인사건 때문에 그의 사표 수리는 미뤄지고 이번 사건만 해결하면 퇴직금을 주겠다는 반장의 회유에 말려들어 귀찮은 사건 현장으로 돌아간다. 도무지 해결의 기미가 보이지 않던 살인사건은 죽은 학생의 지문이 얼마 전 강동서 관할에서 일어난 도축장 살인사건 현장에서 발견된 칼에 남겨진 지문과 같다는 사실이 밝혀지면서 새로운 국면을 맡는다. 강철중은 죽은 피해 학생과 어울려 다녔다는 친구 3명을 만나 단서를 찾기 시작한다. 아이들이 얼마 전 ‘거성’이란 회사에 취업했다는 사실을 알아낸 강철중은 이 사건이 ‘거성 그룹’과 관계 있다는 것을 감지하고 ‘거성 그룹’의 회장인 ‘이원술’(정재영)의 뒤를 쫓기 시작한다. 한편, 자신의 사업체마다 나타가서 훼방을 놓는 강철중 때문에 심기가 불편해진 이원술 역시 조용히 반격을 준비 하는 데…\\nmain_act: 설경구|정재영\\nsupp_act: 강신일|문성근|이문식|유해진|정원중|김남길|연제욱'),\n",
       " Document(metadata={'source': './data/movies.csv', 'row': 231}, page_content='title: 투사부일체\\ngenre: 코미디|액션\\nyear: 2006\\ndate: 1.19\\nrating: 5.59\\nvote_count: 10784\\nplot: 5년 전, 조폭의 신분으로 고등학교에 입학. 학교를 발칵 뒤집어 놓은 계두식이, 이번에는 사범 대학교 윤리 교생으로 돌아온다. 그는 졸업생들을 위한 현장실습을 \"장기수들이 출소하기 전에 쌓는 사회경험\"으로 가볍게 판단, 교생 실습을 위해 학교로 나서게 된 것. 실습 첫날부터 개구멍으로 출근한 그가, \"교생도 선생은 선생!!\" 이라고 목에 강하게 힘을 주며, \"윤리와 사상은 나만의 윤리관으로 가르치겠다!!\"라는 포부를 밝혔다. 한편, 라스베가스를 주름잡던 카사노바 출신 김상두(가짜 대학생)가 두식의 SOS요청에 발목 잡힌 것으로 밝혀졌다. 5년 전까지만 해도 ‘라스베가스’를 주름잡던 그가, 두식에게 소개 받은 여선생으로 인해 완전히 망가진 것. 게다가 ‘여선생 꼬시기’ 전담으로 사생활까지 포기해야만 하는 상태이다. 또한, 무식의 절정으로 알려진 대가리는 이미 5년 전부터, 선수출신 마누라와 자신을 똑 닮은 자식 꼴통 때문에 하루하루를 고달프게 보내고 있다고 한다. 어디선가 대가리에게 무슨 일이 생기면 반드시 그의 아내 춘자 귀에 들어간다는 말이 있을 정도로 빡센 삶의 연속이라는 것. 두식 형님 내조하랴, 나름대로 연애하랴, 몸이 열 개로 나눠도 모자를 그들이 이번에는 어떤 식으로 두식 형님을 보필하게 될지!! 5년 전보다 더욱 강해진 그들의 무식함에 귀추가 주목된다. 두식의 학교 생활을 막는 장애물은 비단, 영어 선생이나 철모르고 대드는 학생들만은 아니다. 자신의 최고 보스도 학교에서만큼은 장애물이 되곤 한다. 상두에게 여자 보기를 돌같이 여기라고 말하는 것 보다, 대가리에게 상대방을 대화로 설득시키도록 지시하는 것 보다, 더 어려운 것은 제자가 된 두목(상중)을 공정한 마음으로 다스려야 한다는 것!! \"아직도!! 두목과 스승과 아버지는 하나다\" 라며 자신 있게 외쳐대는 두식은 과연 이런 난관 중에 난관을 어떻게 헤쳐 나갈 것인가. 계두식은 안전하게 학교 생활을 마무리 지을 수 있을까? 우리는 그것이 알고 싶다!\\nmain_act: 정준호|김상중|정웅인|정운택\\nsupp_act: 강성필|최윤영|한효주|박용기|임세호|박용식|이기열|전창걸'),\n",
       " Document(metadata={'source': './data/movies.csv', 'row': 526}, page_content='title: 지구를 지켜라!\\ngenre: SF|스릴러\\nyear: 2003\\ndate: 4.04\\nrating: 8.85\\nvote_count: 5792\\nplot: 병구는 외계인으로 인해 지구가 곧 위험에 처할 거라고 믿는다. 이번 개기월식까지 안드로메다 왕자를 만나지 못하면 지구에는 아무도 살아 남지 못할 엄청난 재앙이 몰려올 것이다.병구는 분명히 외계인이라고 믿는 유제화학의 사장 강만식을 납치해 왕자와 만나게 해줄 것을 요구한다. 한편, 경찰청장의 사위인 강만식의 납치 사건으로 인해 경찰내부는 긴장감이 감돌고 지금은 뇌물비리 사건으로 물러나 있지만 왕년에 이름을 날렸던 명형사인 추형사는 병구를 범인으로 지목하고 집까지 추적해 온다. 영문도 모르고 끌려온 강사장은 기상천외한 고문을 견딜 수 없게 되자 급기야 병구가 수집해놓은 외계인 자료를 훔쳐보고 그럴듯한 이야기를 지어낸다. 이제 승리는 누가 상대방을 잘 속여 넘기는가에 달려있다. 외계인의 음모를 밝히려는 병구와 외계인(으로 추궁 당하는) 강사장의 목숨을 건 진실 대결. 과연 지구의 운명은 어떻게 될 것인가? 병구는 개기월식이 끝나기 전에, 지구를 지킬 수 있을까?\\nmain_act: 신하균|백윤식\\nsupp_act: 황정민|이재용|이주현|기주봉|김동현|김광식|원웅재'),\n",
       " Document(metadata={'source': './data/movies.csv', 'row': 868}, page_content='title: 개를 훔치는 완벽한 방법\\ngenre: 드라마|가족\\nyear: 2014\\ndate: 12.31\\nrating: 9.03\\nvote_count: 3617\\nplot: 어느 순간 아빠와 함께 집이 사라져 버렸다! 그래서 지소는 동생 지석이랑 엄마와 함께 미니 봉고차에 지낸 지 벌써 한 달. 딱 일주일만 있다가 이사 간다는 엄마 말은 더 이상 믿을 수 없다. [개를 훔친다 → 전단지를 발견한다 → 개를 데려다 준다 → 돈을 받는다 → 행복하게 끝.] 완벽해! 집을 구하기 위해 지소는 ‘개를 훔치는 완벽한 방법’을 계획한다. 개를 잃어버려도 금방 다시 사지 않을 어중간한 부자집, 들고 뛰기에 적당한 어중간한 크기, 훔칠 개를 물색하던 지소는 레스토랑 마르셀의 주인인 노부인의 개 ‘월리’를 목표로 정하는데… 올 겨울, 가장 완벽하게 전 세대의 마음을 훔친다!\\nmain_act: 이레|이지원|홍은택|김혜자|최민수|강혜정|이천희|개리\\nsupp_act: 김원효|샘 해밍턴|김재화|김도엽'),\n",
       " Document(metadata={'source': './data/movies.csv', 'row': 372}, page_content='title: 다이빙벨\\ngenre: 다큐멘터리\\nyear: 2014\\ndate: 10.23\\nrating: 6.39\\nvote_count: 7895\\nplot: 2 14년 4월 16일, 476명이 타고 있던 여객선 세월호가 진도 앞바다에 침몰한다. 참사 사흘 째, 팽목항에 도착한 이상호 기자는 주류 언론이 보도하지 않은 현장의 진실을 목도한다. ‘전원 구조’ ‘사상 최대의 구조 작전’, ‘178명의 잠수 인력 동원’ 등으로 무장한 언론의 보도와는 너무 다른 현실에 망연자실 하고 있던 그 때, 잠수시간을 크게 늘릴 수 있다는 ‘다이빙벨’에 대해 알게 되는데… 구조하지 않는 해경, 책임지지 않는 정부, 거짓 퍼뜨리는 언론… 세월호를 둘러싼 수수께끼가 펼쳐진다!\\nmain_act: 이종인\\nsupp_act: 정보없음'),\n",
       " Document(metadata={'source': './data/movies.csv', 'row': 796}, page_content='title: 반드시 잡는다\\ngenre: 스릴러\\nyear: 2017\\ndate: 11.29\\nrating: 7.46\\nvote_count: 3955\\nplot: 3 년 전 해결되지 못한 장기 미제사건과 동일한 수법으로 또 다시 살인이 시작된다. 동네를 꿰뚫고 있는 터줏대감 ‘심덕수(백윤식)’는 사건을 잘 아는 전직 형사 ‘박평달(성동일)’과 의기투합해 범인을 잡으려 하는데… 발보다 빠른 촉과 감으로 반드시 놈을 잡아라!\\nmain_act: 백윤식|성동일\\nsupp_act: 천호진|배종옥|손종학|김혜인|조달환|이칸희|박형수|박지현'),\n",
       " Document(metadata={'source': './data/movies.csv', 'row': 626}, page_content='title: 울학교 이티\\ngenre: 코미디|드라마\\nyear: 2008\\ndate: 9.11\\nrating: 8.99\\nvote_count: 4944\\nplot: 옹골찬 근육으로 다져진 특 1등급 건강인을 자부하는 천성근, 그는 우리나라 최고의 교육열을 자랑하는 영문고의 체육선생이다. 항상 4차원 안테나를 곧추 세워 촌지 냄새를 맡고, 학생들 싸움판을 찾아내어 십만원빵 내기 심판을 본다. 해뜨면 공차고, 비오면 자습으로 버텨온 철밥통 체육선생 1 년 생활에 일생일대의 위기가 찾아온다. 치열해지는 입시전쟁을 치르기 위해 영문고는 체육선생을 자르고 그 자리에 영어선생을 대치하려는 초강수를 두게 된다. 해고1순위 천성근. 하늘이 무너져도 솟아날 구멍은 있다! 천성근은1 년 전 짝사랑을 따라 쟁취한 영어교사 자격증을 생각해낸다. 천성근은 이제 외계인 이티가 아닌 잉글리쉬 티처 E.T가 되어야 하는데… 나는 영어선생으로 학생을 잘 가르칠 수 있다! Sure!를 영어로! Shit! 천성근의 놀라운 보직변경, 미션 임파서블이 시작된다.\\nmain_act: 김수로|이한위|백성현|박보영|이민호|문채원|이찬호|김성령\\nsupp_act: 김형범|김기방|박진택|김영옥|이윤건'),\n",
       " Document(metadata={'source': './data/movies.csv', 'row': 800}, page_content='title: 풍산개\\ngenre: 드라마\\nyear: 2011\\ndate: 6.23\\nrating: 7.0\\nvote_count: 3940\\nplot: 가까운 거리지만 그 누구도 쉽게 오갈 수 없는 남과 북. 그러나 그 철조망을 매일같이 뚫고 이산가족의 아픔과 그리움을 전달해주는 ‘산’이라는 청년이 있다. 무장한 남과 북 군인들이 지키고 있는 비무장지대를 혈혈단신 오가는 위험한 일을 하지만 순수한 눈빛을 가진 ‘산’은 어느 날 신분을 숨긴 국정원 요원들에 의해 망명한 북한 간부 ‘남자’의 애인인 ‘인옥’을 평양에서 빼내오라는 은밀한 제안을 받는다. 산은 인옥을 데리고 북에서 남으로 내려오면서 여러 차례 죽음의 고비를 맞지만 그 때마다 인옥을 구해준다. 짧은 시간 함께했지만 위기를 같이 겪어낸 두 사람은 서로에게 애틋한 감정을 가지게 된다.\\nmain_act: 윤계상|김규리\\nsupp_act: 김종수|한기중|최무성|유하복|배용근'),\n",
       " Document(metadata={'source': './data/movies.csv', 'row': 907}, page_content='title: 1408\\ngenre: 공포|스릴러\\nyear: 2007\\ndate: 8.01\\nrating: 7.74\\nvote_count: 3466\\nplot: 어린 딸을 잃은 공포소설 작가 마이크 엔슬린(존 쿠삭 분)은 ‘사후세계’라는 소재에 사로잡혀 있다. 그는 초현실적인 공포를 소설로 쓰는 베스트셀러 작가지만, 눈에 보이는 것 외에는 아무것도 믿지 않는 회의론자이다. 어느 날 그에게 날아온 낯선 엽서 “Don’t enter 14 8!” (14 8호에 절대 들어가지 마시오). 새로운 작품을 구상 중이던 마이크는 미스터리로 가득한 뉴욕의 돌핀 호텔을 찾는다. 호텔 지배인 제럴드 올린(사무엘 L. 잭슨 분)은 95년간 14 8호에 묵은 투숙객들이 1시간을 못 넘기고 죽은 일들을 알려주며 들어가지 말라고 강력히 경고하지만 마이크는 기어코 그 방에 들어선다. 1초 앞을 예상할 수 없는 14 8의 무한공격! 보이는 것 외에는 아무것도 믿지 않는 마이크의 눈 앞에서 상상을 초월한 미스터리한 현상들이 벌어지면서 현실과 환상이 넘나 들고 그 방에서 죽은 사람들의 혼령이 나타나 끊임없이 그를 위협한다. 심리적 공포와 맞서던 그에게 초강력 다이나믹한 공포의 공격이 시작되고 극도의 공포감 속에서 마이크는 14 8호와의 처절한 사투를 벌인다. 살아남기 위해 주어진 시간은 단 한 시간. 14 8호의 정체는 무엇인가? 과연 마이크는 살아남을 수 있을 것인가?\\nmain_act: 존 쿠삭|사무엘 L. 잭슨\\nsupp_act: 메리 맥코막|자스민 제시카 안소니|알렉산드라 실버|토니 샬호브|에밀리 하비|노아 리 마게츠')]"
      ]
     },
     "execution_count": 8,
     "metadata": {},
     "output_type": "execute_result"
    }
   ],
   "source": [
    "docs = docsearch.similarity_search(\n",
    "    \"건축학개론 줄거리를 알려줘\",\n",
    "    k=10,\n",
    "    search_type=\"script_scoring\",\n",
    ")\n",
    "docs"
   ]
  },
  {
   "cell_type": "markdown",
   "metadata": {},
   "source": [
    "as_retriever 메서드를 호출하여 docsearch 객체를 검색기(retriever)로 변환합니다. 이렇게 생성된 검색기는 벡터 검색을 수행할 수 있습니다. search_kwargs 매개변수를 통해 검색 옵션을 지정할 수 있습니다. 여기서는 \"k\": 10을 설정하여 상위 10개의 결과를 반환하도록 지정했습니다. 따라서 retriever 객체는 docsearch에 인덱싱된 문서들 중에서 주어진 쿼리와 가장 유사한 상위 10개의 문서를 반환할 수 있는 검색기 역할을 합니다."
   ]
  },
  {
   "cell_type": "code",
   "execution_count": 9,
   "metadata": {},
   "outputs": [],
   "source": [
    "retriever = docsearch.as_retriever(search_kwargs={\"k\": 10})"
   ]
  },
  {
   "cell_type": "markdown",
   "metadata": {},
   "source": [
    "ChatOpenAI 클래스를 사용하여 OpenAI에서 제공하는 gpt-4o-mini 모델을 로드합니다. 그리고 ConversationBufferWindowMemory 클래스를 사용하여 대화 기록을 저장할 메모리 객체를 생성합니다.이렇게 생성된 llm과 memory 객체를 사용하여 대화 검색 체인을 구성할 수 있습니다."
   ]
  },
  {
   "cell_type": "code",
   "execution_count": 10,
   "metadata": {},
   "outputs": [],
   "source": [
    "from langchain.chains import ConversationalRetrievalChain\n",
    "from langchain.memory import ConversationBufferWindowMemory\n",
    "from langchain_openai import ChatOpenAI\n",
    "\n",
    "llm = ChatOpenAI(\n",
    "    model_name='gpt-4o-mini-2024-07-18',\n",
    "    max_tokens=2048,\n",
    "    temperature=0,\n",
    "    streaming=True,\n",
    ")\n",
    "\n",
    "memory = ConversationBufferWindowMemory(memory_key=\"chat_history\", k=10, return_messages=True)"
   ]
  },
  {
   "cell_type": "markdown",
   "metadata": {},
   "source": [
    "RAG을 구성하지 않고 환각을 일으켜보겠습니다."
   ]
  },
  {
   "cell_type": "code",
   "execution_count": 11,
   "metadata": {},
   "outputs": [
    {
     "name": "stdout",
     "output_type": "stream",
     "text": [
      "《건축학개론》은 2012년에 개봉한 한국 영화로, 건축학을 전공하는 대학생들의 사랑과 성장 이야기를 담고 있습니다.   영화는 주인공인\n",
      "'성민'과 '수지'의 대학 시절과 그들의 첫사랑을 중심으로 전개됩니다. 성민은 건축학과 학생으로, 수지는 그의 첫사랑이자 같은 과 동기입니다.\n",
      "두 사람은 서로에게 끌리지만, 여러 가지 이유로 인해 관계가 복잡해지고 결국 서로의 마음을 확인하지 못한 채 각자의 길을 가게 됩니다.  시간이\n",
      "흐른 후, 성민은 건축가로서 성공적인 경력을 쌓고, 수지는 결혼을 하게 됩니다. 그러나 과거의 추억과 미련이 남아 있는 두 사람은 우연히 다시\n",
      "만나게 되고, 그동안의 감정과 후회, 그리고 성장한 모습을 통해 서로의 관계를 다시 돌아보게 됩니다.  영화는 첫사랑의 순수함과 아쉬움, 그리고\n",
      "시간이 지나도 잊지 못하는 감정들을 아름답게 그려내며, 건축이라는 주제를 통해 인생의 다양한 단면을 탐구합니다.\n"
     ]
    }
   ],
   "source": [
    "from langchain_core.messages import HumanMessage\n",
    "\n",
    "query_text = \"건축학개론 줄거리를 알려줘\"\n",
    "messages = [HumanMessage(content=query_text)]\n",
    "\n",
    "print(textwrap.fill(llm.invoke(messages).content, 80))"
   ]
  },
  {
   "cell_type": "markdown",
   "metadata": {},
   "source": [
    "## 프롬프트 정의"
   ]
  },
  {
   "cell_type": "markdown",
   "metadata": {},
   "source": [
    "LangChain 라이브러리의 PromptTemplate을 사용하여 대화형 AI 시스템에 사용할 프롬프트 템플릿을 정의합니다. 이 템플릿을 사용하면 대화형 AI 시스템이 영화 목록과 사용자 질문을 기반으로 적절한 답변을 생성할 수 있습니다."
   ]
  },
  {
   "cell_type": "code",
   "execution_count": 12,
   "metadata": {},
   "outputs": [],
   "source": [
    "from langchain import PromptTemplate\n",
    "\n",
    "prompt_template = \"\"\"\n",
    "\n",
    "\n",
    "Human: Here is the list of movies, inside <movies></movies> XML tags.\n",
    "\n",
    "<movies>\n",
    "{context}\n",
    "</movies>\n",
    "\n",
    "Only using the contex as above, answer the following question with the rules as below:\n",
    "    - Don't insert XML tag such as <context> and </context> when answering.\n",
    "    - Write as much as you can\n",
    "    - Be courteous and polite\n",
    "    - Only answer the question if you can find the answer in the context with certainty.\n",
    "    - Answered in list format\n",
    "    - Always put a short and concise explanation on why you are recommending this movies.\n",
    "\n",
    "You are a best movie reviewer in Korea. Please explain a movies from the list above.\n",
    "\n",
    "Question:\n",
    "{question}\n",
    "\n",
    "If the answer is not in the context, just say \"추천해드릴만한 영화가 없습니다.\"\n",
    "\n",
    "\n",
    "Assistant:\"\"\"\n",
    "\n",
    "PROMPT = PromptTemplate(template=prompt_template, input_variables=[\"context\", \"question\"])"
   ]
  },
  {
   "cell_type": "markdown",
   "metadata": {},
   "source": [
    "LangChain 라이브러리의 PromptTemplate을 사용하여 대화 기록과 후속 질문을 기반으로 독립적인 단일 질문을 생성하는 프롬프트 템플릿을 정의합니다.이 템플릿을 사용하면 대화형 AI 시스템이 이전 대화 기록과 후속 질문을 기반으로 독립적인 단일 질문을 생성할 수 있습니다."
   ]
  },
  {
   "cell_type": "code",
   "execution_count": 13,
   "metadata": {},
   "outputs": [],
   "source": [
    "condense_template = \"\"\"\n",
    "Generate one standalone question based on the instructions.\n",
    "\n",
    "<instrunctions>\n",
    "- You will be given the following conversation between <chat-history> and </chat-history>\n",
    "- You will be given the following follow up question between <follow-up-question> and </follow-up-question>\n",
    "- Standalone question should have summary of the previous questions and answers.\n",
    "</instructions>\n",
    "\n",
    "<chat-history>\n",
    "{chat_history}\n",
    "</chat-history>\n",
    "\n",
    "<follow-up-question>\n",
    "{question}\n",
    "</follow-up-question>\n",
    "\n",
    "standalone question:\n",
    "\"\"\"\n",
    "\n",
    "CONDENSE_QUESTION_PROMPT = PromptTemplate.from_template(condense_template)"
   ]
  },
  {
   "cell_type": "markdown",
   "metadata": {},
   "source": [
    "## 대화형 검색 Chain 구성하기"
   ]
  },
  {
   "cell_type": "markdown",
   "metadata": {},
   "source": [
    "이전에 설정한 llm, retriever, memory 객체와 PROMPT, CONDENSE_QUESTION_PROMPT를 사용하여 대화형 검색 체인(Conversational Retrieval Chain)을 생성합니다. "
   ]
  },
  {
   "cell_type": "code",
   "execution_count": 14,
   "metadata": {},
   "outputs": [],
   "source": [
    "memory.clear()\n",
    "\n",
    "conversation_with_retrieval = ConversationalRetrievalChain.from_llm(\n",
    "    llm,\n",
    "    retriever=retriever,\n",
    "    memory=memory,\n",
    "    combine_docs_chain_kwargs={\"prompt\": PROMPT},\n",
    "    condense_question_prompt=CONDENSE_QUESTION_PROMPT,\n",
    "    # verbose=True,\n",
    ")"
   ]
  },
  {
   "cell_type": "markdown",
   "metadata": {},
   "source": [
    "RAG을 구성하지 않고 질문을 해 환각을 일으켜 보겠습니다."
   ]
  },
  {
   "cell_type": "markdown",
   "metadata": {},
   "source": [
    "## 대화형 검색 시스템에게 질문해보기"
   ]
  },
  {
   "cell_type": "markdown",
   "metadata": {},
   "source": [
    "앞서 생성한 conversation_with_retrieval 대화형 검색 체인을 사용하여 첫 번째 질문에 대한 답변을 생성하고 출력합니다."
   ]
  },
  {
   "cell_type": "code",
   "execution_count": 15,
   "metadata": {},
   "outputs": [
    {
     "name": "stdout",
     "output_type": "stream",
     "text": [
      "- **영화 제목**: 건축학개론 - **장르**: 멜로/로맨스 - **개봉 연도**: 2012 - **줄거리**: 생기 넘치지만 숫기 없던\n",
      "스무 살, 건축학과 승민은 '건축학개론' 수업에서 처음 만난 음대생 서연에게 반한다. 함께 숙제를 하게 되면서 차츰 마음을 열고 친해지지만,\n",
      "자신의 마음을 표현하는 데 서툰 순진한 승민은 입 밖에 낼 수 없었던 고백을 마음 속에 품은 채 작은 오해로 인해 서연과 멀어지게 된다. 15년\n",
      "만에 그녀를 다시 만난 승민은 서연에게 자신을 위한 집을 설계해달라는 요청을 받게 되고, 함께 집을 완성해 가는 동안 어쩌면 사랑이었을지 모를\n",
      "그때의 기억이 되살아나 두 사람 사이에 새로운 감정이 쌓이기 시작한다.  이 영화는 첫사랑의 아련한 기억과 성숙한 사랑의 과정을 그려내어 많은\n",
      "이들에게 공감과 감동을 줍니다. 또한, 건축이라는 주제를 통해 사랑의 형태와 사람의 마음을 깊이 있게 탐구하는 점이 매력적입니다.\n"
     ]
    }
   ],
   "source": [
    "first_question = \"영화 건축학개론의 줄거리가 뭐야?\"\n",
    "chat_response = conversation_with_retrieval.invoke({\"question\": first_question})\n",
    "\n",
    "print(textwrap.fill(chat_response[\"answer\"], 80))"
   ]
  },
  {
   "cell_type": "markdown",
   "metadata": {},
   "source": [
    "이전 대화의 맥락을 기반으로 새로운 질문에 대한 답변을 생성하고 출력합니다. 사용자가 입력한 \"그 영화 평점은?\"이라는 질문은 이전 대화에서 언급된 \"건축학개론\" 영화에 대한 평점을 묻는 질문입니다. 대화형 검색 체인은 이전 대화 맥락을 고려하여 관련 정보를 검색하고 적절한 답변을 생성합니다. 답변은 이전 대화에서 언급된 \"건축학개론\" 영화의 평점에 대한 내용일 것입니다"
   ]
  },
  {
   "cell_type": "code",
   "execution_count": 16,
   "metadata": {},
   "outputs": [
    {
     "name": "stdout",
     "output_type": "stream",
     "text": [
      "- 영화 '건축학개론'의 평점은 8.67입니다.  이 영화는 첫사랑의 아련한 기억과 성숙한 사랑의 과정을 아름답게 그려내어 많은 관객들에게\n",
      "감동을 주었습니다. 특히, 건축이라는 주제를 통해 사랑의 형태와 사람의 마음을 탐구하는 점이 인상적입니다.\n"
     ]
    }
   ],
   "source": [
    "second_question = \"그 영화 평점은?\"\n",
    "chat_response = conversation_with_retrieval.invoke({\"question\": second_question})\n",
    "\n",
    "print(textwrap.fill(chat_response[\"answer\"], 80))"
   ]
  },
  {
   "cell_type": "markdown",
   "metadata": {},
   "source": [
    "이전 대화 맥락을 바탕으로 \"비슷한 장르의 다른 영화는?\"이라는 질문에 대한 답변을 생성하고 출력합니다.  대화형 검색 체인은 이전 대화에서 언급된 영화의 장르를 파악하고, 그와 유사한 장르의 다른 영화를 추천할 수 있습니다. 즉 \"건축학 개론과 비슷한 장르의 다른 영화는\"에 대한 답변이 출력될 것입니다."
   ]
  },
  {
   "cell_type": "code",
   "execution_count": 17,
   "metadata": {},
   "outputs": [
    {
     "name": "stdout",
     "output_type": "stream",
     "text": [
      "추천해드릴만한 영화가 없습니다.\n"
     ]
    }
   ],
   "source": [
    "third_question = \"비슷한 장르의 다른 영화는?\"\n",
    "chat_response = conversation_with_retrieval.invoke({\"question\": third_question})\n",
    "\n",
    "print(textwrap.fill(chat_response[\"answer\"], 80))"
   ]
  },
  {
   "cell_type": "code",
   "execution_count": null,
   "metadata": {},
   "outputs": [],
   "source": []
  }
 ],
 "metadata": {
  "kernelspec": {
   "display_name": "Python 3 (ipykernel)",
   "language": "python",
   "name": "python3"
  },
  "language_info": {
   "codemirror_mode": {
    "name": "ipython",
    "version": 3
   },
   "file_extension": ".py",
   "mimetype": "text/x-python",
   "name": "python",
   "nbconvert_exporter": "python",
   "pygments_lexer": "ipython3",
   "version": "3.10.14"
  }
 },
 "nbformat": 4,
 "nbformat_minor": 4
}
